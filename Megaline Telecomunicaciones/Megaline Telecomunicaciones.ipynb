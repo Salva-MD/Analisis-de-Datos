{
 "cells": [
  {
   "cell_type": "code",
   "execution_count": 66,
   "metadata": {
    "id": "MtYIuBxu0q0z",
    "trusted": true
   },
   "outputs": [],
   "source": [
    "# Cargar todas las librerías\n",
    "import pandas as pd\n",
    "from matplotlib import pyplot as plt\n",
    "import numpy as np\n",
    "import seaborn as sns\n",
    "from scipy import stats as st\n",
    "import math "
   ]
  },
  {
   "cell_type": "code",
   "execution_count": 67,
   "metadata": {
    "id": "CCqPW7rS0q01",
    "trusted": true
   },
   "outputs": [],
   "source": [
    "# Carga los archivos de datos en diferentes DataFrames\n",
    "df_calls= pd.read_csv('megaline_calls.csv')\n",
    "df_internet= pd.read_csv('megaline_internet.csv')\n",
    "df_messages= pd.read_csv('megaline_messages.csv')\n",
    "df_plans= pd.read_csv('megaline_plans.csv')\n",
    "df_users= pd.read_csv('megaline_users.csv')"
   ]
  },
  {
   "cell_type": "code",
   "execution_count": 68,
   "metadata": {
    "id": "GptqP3Q40q02",
    "trusted": true
   },
   "outputs": [
    {
     "name": "stdout",
     "output_type": "stream",
     "text": [
      "<class 'pandas.core.frame.DataFrame'>\n",
      "RangeIndex: 2 entries, 0 to 1\n",
      "Data columns (total 8 columns):\n",
      " #   Column                 Non-Null Count  Dtype  \n",
      "---  ------                 --------------  -----  \n",
      " 0   messages_included      2 non-null      int64  \n",
      " 1   mb_per_month_included  2 non-null      int64  \n",
      " 2   minutes_included       2 non-null      int64  \n",
      " 3   usd_monthly_pay        2 non-null      int64  \n",
      " 4   usd_per_gb             2 non-null      int64  \n",
      " 5   usd_per_message        2 non-null      float64\n",
      " 6   usd_per_minute         2 non-null      float64\n",
      " 7   plan_name              2 non-null      object \n",
      "dtypes: float64(2), int64(5), object(1)\n",
      "memory usage: 260.0+ bytes\n"
     ]
    }
   ],
   "source": [
    "# Imprime la información general/resumida sobre el DataFrame de las tarifas\n",
    "df_plans.info()\n"
   ]
  },
  {
   "cell_type": "code",
   "execution_count": 69,
   "metadata": {
    "id": "64xzjwL70q02",
    "trusted": true
   },
   "outputs": [
    {
     "name": "stdout",
     "output_type": "stream",
     "text": [
      "   messages_included  mb_per_month_included  minutes_included  \\\n",
      "0                 50                  15360               500   \n",
      "1               1000                  30720              3000   \n",
      "\n",
      "   usd_monthly_pay  usd_per_gb  usd_per_message  usd_per_minute plan_name  \n",
      "0               20          10             0.03            0.03      surf  \n",
      "1               70           7             0.01            0.01  ultimate  \n"
     ]
    }
   ],
   "source": [
    "# Imprime una muestra de los datos para las tarifas\n",
    "print(df_plans.head())\n"
   ]
  },
  {
   "cell_type": "code",
   "execution_count": 109,
   "metadata": {
    "id": "2NgjWFqx0q05",
    "trusted": true
   },
   "outputs": [
    {
     "name": "stdout",
     "output_type": "stream",
     "text": [
      "<class 'pandas.core.frame.DataFrame'>\n",
      "RangeIndex: 500 entries, 0 to 499\n",
      "Data columns (total 9 columns):\n",
      " #   Column      Non-Null Count  Dtype         \n",
      "---  ------      --------------  -----         \n",
      " 0   user_id     500 non-null    int64         \n",
      " 1   first_name  500 non-null    object        \n",
      " 2   last_name   500 non-null    object        \n",
      " 3   age         500 non-null    int64         \n",
      " 4   city        500 non-null    object        \n",
      " 5   reg_date    500 non-null    datetime64[ns]\n",
      " 6   plan        500 non-null    object        \n",
      " 7   churn_date  34 non-null     datetime64[ns]\n",
      " 8   month       500 non-null    period[M]     \n",
      "dtypes: datetime64[ns](2), int64(2), object(4), period[M](1)\n",
      "memory usage: 35.3+ KB\n",
      "None\n"
     ]
    }
   ],
   "source": [
    "print(df_users.info())"
   ]
  },
  {
   "cell_type": "code",
   "execution_count": 71,
   "metadata": {
    "id": "1IN1L9uh0q05",
    "trusted": true
   },
   "outputs": [
    {
     "name": "stdout",
     "output_type": "stream",
     "text": [
      "   user_id first_name  last_name  age                                   city  \\\n",
      "0     1000   Anamaria      Bauer   45  Atlanta-Sandy Springs-Roswell, GA MSA   \n",
      "1     1001     Mickey  Wilkerson   28        Seattle-Tacoma-Bellevue, WA MSA   \n",
      "2     1002     Carlee    Hoffman   36   Las Vegas-Henderson-Paradise, NV MSA   \n",
      "3     1003   Reynaldo    Jenkins   52                          Tulsa, OK MSA   \n",
      "4     1004    Leonila   Thompson   40        Seattle-Tacoma-Bellevue, WA MSA   \n",
      "\n",
      "     reg_date      plan churn_date  \n",
      "0  2018-12-24  ultimate        NaN  \n",
      "1  2018-08-13      surf        NaN  \n",
      "2  2018-10-21      surf        NaN  \n",
      "3  2018-01-28      surf        NaN  \n",
      "4  2018-05-23      surf        NaN  \n",
      "\n",
      "<bound method DataFrame.count of      user_id  first_name  last_name    age   city  reg_date   plan  churn_date\n",
      "0      False       False      False  False  False     False  False        True\n",
      "1      False       False      False  False  False     False  False        True\n",
      "2      False       False      False  False  False     False  False        True\n",
      "3      False       False      False  False  False     False  False        True\n",
      "4      False       False      False  False  False     False  False        True\n",
      "..       ...         ...        ...    ...    ...       ...    ...         ...\n",
      "495    False       False      False  False  False     False  False        True\n",
      "496    False       False      False  False  False     False  False        True\n",
      "497    False       False      False  False  False     False  False        True\n",
      "498    False       False      False  False  False     False  False        True\n",
      "499    False       False      False  False  False     False  False        True\n",
      "\n",
      "[500 rows x 8 columns]>\n",
      "\n",
      "Index(['user_id', 'first_name', 'last_name', 'age', 'city', 'reg_date', 'plan',\n",
      "       'churn_date'],\n",
      "      dtype='object')\n"
     ]
    }
   ],
   "source": [
    "print(df_users.head(5))\n",
    "print()\n",
    "print(df_users.isna().count)\n",
    "print()\n",
    "print(df_users.columns)"
   ]
  },
  {
   "cell_type": "code",
   "execution_count": 72,
   "metadata": {
    "id": "yUqX-K0C0q07",
    "trusted": true
   },
   "outputs": [],
   "source": [
    "df_users['reg_date'] = pd.to_datetime(df_users['reg_date'], format='%Y-%m-%d')\n",
    "df_users['churn_date'] = pd.to_datetime(df_users['churn_date'], errors='coerce')"
   ]
  },
  {
   "cell_type": "markdown",
   "metadata": {
    "id": "ycwuARJp0q07"
   },
   "source": [
    "### Enriquecer los datos"
   ]
  },
  {
   "cell_type": "code",
   "execution_count": 73,
   "metadata": {
    "id": "iq0AaBS90q08",
    "trusted": true
   },
   "outputs": [
    {
     "name": "stdout",
     "output_type": "stream",
     "text": [
      "<class 'pandas.core.frame.DataFrame'>\n",
      "RangeIndex: 500 entries, 0 to 499\n",
      "Data columns (total 9 columns):\n",
      " #   Column      Non-Null Count  Dtype         \n",
      "---  ------      --------------  -----         \n",
      " 0   user_id     500 non-null    int64         \n",
      " 1   first_name  500 non-null    object        \n",
      " 2   last_name   500 non-null    object        \n",
      " 3   age         500 non-null    int64         \n",
      " 4   city        500 non-null    object        \n",
      " 5   reg_date    500 non-null    datetime64[ns]\n",
      " 6   plan        500 non-null    object        \n",
      " 7   churn_date  34 non-null     datetime64[ns]\n",
      " 8   month       500 non-null    period[M]     \n",
      "dtypes: datetime64[ns](2), int64(2), object(4), period[M](1)\n",
      "memory usage: 35.3+ KB\n"
     ]
    }
   ],
   "source": [
    "df_users['month'] = df_users['reg_date'].dt.to_period('M')\n",
    "df_users.info()"
   ]
  },
  {
   "cell_type": "markdown",
   "metadata": {
    "id": "o7MeKCid0q08"
   },
   "source": [
    "## Llamadas"
   ]
  },
  {
   "cell_type": "code",
   "execution_count": 74,
   "metadata": {
    "id": "6dDlnoDm0q08",
    "trusted": true
   },
   "outputs": [
    {
     "name": "stdout",
     "output_type": "stream",
     "text": [
      "<class 'pandas.core.frame.DataFrame'>\n",
      "RangeIndex: 137735 entries, 0 to 137734\n",
      "Data columns (total 4 columns):\n",
      " #   Column     Non-Null Count   Dtype  \n",
      "---  ------     --------------   -----  \n",
      " 0   id         137735 non-null  object \n",
      " 1   user_id    137735 non-null  int64  \n",
      " 2   call_date  137735 non-null  object \n",
      " 3   duration   137735 non-null  float64\n",
      "dtypes: float64(1), int64(1), object(2)\n",
      "memory usage: 4.2+ MB\n",
      "\n",
      "count    137735.000000\n",
      "mean          6.745927\n",
      "std           5.839241\n",
      "min           0.000000\n",
      "25%           1.290000\n",
      "50%           5.980000\n",
      "75%          10.690000\n",
      "max          37.600000\n",
      "Name: duration, dtype: float64\n"
     ]
    }
   ],
   "source": [
    "df_calls.info()\n",
    "print()\n",
    "print(df_calls['duration'].describe())"
   ]
  },
  {
   "cell_type": "code",
   "execution_count": 75,
   "metadata": {
    "id": "kuh1vlNB0q09",
    "trusted": true
   },
   "outputs": [
    {
     "name": "stdout",
     "output_type": "stream",
     "text": [
      "          id  user_id   call_date  duration\n",
      "0    1000_93     1000  2018-12-27      8.52\n",
      "1   1000_145     1000  2018-12-27     13.66\n",
      "2   1000_247     1000  2018-12-27     14.48\n",
      "3   1000_309     1000  2018-12-28      5.76\n",
      "4   1000_380     1000  2018-12-30      4.22\n",
      "5   1000_388     1000  2018-12-31      2.20\n",
      "6   1000_510     1000  2018-12-27      5.75\n",
      "7   1000_521     1000  2018-12-28     14.18\n",
      "8   1000_530     1000  2018-12-28      5.77\n",
      "9   1000_544     1000  2018-12-26      4.40\n",
      "10  1000_693     1000  2018-12-31      4.31\n",
      "11  1000_705     1000  2018-12-31     12.78\n",
      "12  1000_735     1000  2018-12-29      1.70\n",
      "13  1000_778     1000  2018-12-28      3.29\n",
      "14  1000_826     1000  2018-12-26      9.96\n",
      "15  1000_842     1000  2018-12-27      5.85\n",
      "16    1001_0     1001  2018-09-06     10.06\n",
      "17    1001_1     1001  2018-10-12      1.00\n",
      "18    1001_2     1001  2018-10-17     15.83\n",
      "19    1001_4     1001  2018-12-05      0.00\n",
      "\n",
      "Index(['id', 'user_id', 'call_date', 'duration'], dtype='object')\n",
      "\n",
      "0\n",
      "\n",
      "id           0\n",
      "user_id      0\n",
      "call_date    0\n",
      "duration     0\n",
      "dtype: int64\n"
     ]
    }
   ],
   "source": [
    "print(df_calls.head(20))\n",
    "print()\n",
    "print(df_calls.columns)\n",
    "print()\n",
    "print(df_calls.duplicated().sum())\n",
    "print()\n",
    "print(df_calls.isna().sum())"
   ]
  },
  {
   "cell_type": "markdown",
   "metadata": {
    "id": "DOAxYJSx0q09"
   },
   "source": [
    "Las fechas se encontraban como object, lo mejor seria cambiarlas a timedate, y después agregar una columna de mes."
   ]
  },
  {
   "cell_type": "markdown",
   "metadata": {
    "id": "S7hzxmbX0q0-"
   },
   "source": [
    "### Corregir los datos"
   ]
  },
  {
   "cell_type": "code",
   "execution_count": 76,
   "metadata": {
    "id": "S2r8xA4f0q0-",
    "trusted": true
   },
   "outputs": [],
   "source": [
    "df_calls['call_date'] = pd.to_datetime(df_calls['call_date'], format='%Y-%m-%d')"
   ]
  },
  {
   "cell_type": "markdown",
   "metadata": {
    "id": "KrMgTrlG0q0_"
   },
   "source": [
    "### Enriquecer los datos"
   ]
  },
  {
   "cell_type": "code",
   "execution_count": 77,
   "metadata": {
    "id": "iZ1avpA_0q0_",
    "trusted": true
   },
   "outputs": [
    {
     "name": "stdout",
     "output_type": "stream",
     "text": [
      "<class 'pandas.core.frame.DataFrame'>\n",
      "RangeIndex: 137735 entries, 0 to 137734\n",
      "Data columns (total 5 columns):\n",
      " #   Column     Non-Null Count   Dtype         \n",
      "---  ------     --------------   -----         \n",
      " 0   id         137735 non-null  object        \n",
      " 1   user_id    137735 non-null  int64         \n",
      " 2   call_date  137735 non-null  datetime64[ns]\n",
      " 3   duration   137735 non-null  float64       \n",
      " 4   month      137735 non-null  period[M]     \n",
      "dtypes: datetime64[ns](1), float64(1), int64(1), object(1), period[M](1)\n",
      "memory usage: 5.3+ MB\n"
     ]
    }
   ],
   "source": [
    "df_calls['month'] = df_calls['call_date'].dt.to_period('M')\n",
    "df_calls.info()"
   ]
  },
  {
   "cell_type": "markdown",
   "metadata": {
    "id": "mOUZSi180q0_"
   },
   "source": [
    "## Mensajes"
   ]
  },
  {
   "cell_type": "code",
   "execution_count": 78,
   "metadata": {
    "id": "R-bYJpdV0q1A",
    "trusted": true
   },
   "outputs": [
    {
     "name": "stdout",
     "output_type": "stream",
     "text": [
      "<class 'pandas.core.frame.DataFrame'>\n",
      "RangeIndex: 76051 entries, 0 to 76050\n",
      "Data columns (total 3 columns):\n",
      " #   Column        Non-Null Count  Dtype \n",
      "---  ------        --------------  ----- \n",
      " 0   id            76051 non-null  object\n",
      " 1   user_id       76051 non-null  int64 \n",
      " 2   message_date  76051 non-null  object\n",
      "dtypes: int64(1), object(2)\n",
      "memory usage: 1.7+ MB\n"
     ]
    }
   ],
   "source": [
    "df_messages.info()\n"
   ]
  },
  {
   "cell_type": "code",
   "execution_count": 79,
   "metadata": {
    "id": "mCEl2iGE0q1A",
    "trusted": true
   },
   "outputs": [
    {
     "name": "stdout",
     "output_type": "stream",
     "text": [
      "          id  user_id message_date\n",
      "0   1000_125     1000   2018-12-27\n",
      "1   1000_160     1000   2018-12-31\n",
      "2   1000_223     1000   2018-12-31\n",
      "3   1000_251     1000   2018-12-27\n",
      "4   1000_255     1000   2018-12-26\n",
      "5   1000_346     1000   2018-12-29\n",
      "6   1000_386     1000   2018-12-30\n",
      "7   1000_413     1000   2018-12-31\n",
      "8   1000_502     1000   2018-12-27\n",
      "9   1000_525     1000   2018-12-28\n",
      "10  1000_567     1000   2018-12-25\n",
      "11    1001_1     1001   2018-11-14\n",
      "12    1001_2     1001   2018-08-17\n",
      "13    1001_5     1001   2018-12-05\n",
      "14    1001_7     1001   2018-11-28\n",
      "15    1001_9     1001   2018-10-23\n",
      "16   1001_10     1001   2018-09-01\n",
      "17   1001_11     1001   2018-11-18\n",
      "18   1001_17     1001   2018-12-11\n",
      "19   1001_18     1001   2018-10-01\n",
      "\n",
      "Index(['id', 'user_id', 'message_date'], dtype='object')\n",
      "\n",
      "id              0\n",
      "user_id         0\n",
      "message_date    0\n",
      "dtype: int64\n",
      "\n",
      "0\n"
     ]
    }
   ],
   "source": [
    "print(df_messages.head(20))\n",
    "print()\n",
    "print(df_messages.columns)\n",
    "print()\n",
    "print(df_messages.isna().sum())\n",
    "print()\n",
    "print(df_messages.duplicated().sum())"
   ]
  },
  {
   "cell_type": "markdown",
   "metadata": {
    "id": "04xDj7KH0q1A"
   },
   "source": [
    "Las fechas se encontraban como object, lo mejor seria cambiarlas a timedate, y después agregar una columna de mes."
   ]
  },
  {
   "cell_type": "markdown",
   "metadata": {
    "id": "Sprfak900q1B"
   },
   "source": [
    "### Corregir los datos"
   ]
  },
  {
   "cell_type": "code",
   "execution_count": 80,
   "metadata": {
    "id": "vsllvkoa0q1B",
    "trusted": true
   },
   "outputs": [],
   "source": [
    "df_messages['message_date'] = pd.to_datetime(df_messages['message_date'], format='%Y-%m-%d')"
   ]
  },
  {
   "cell_type": "markdown",
   "metadata": {
    "id": "HvLid7iD0q1B"
   },
   "source": [
    "### Enriquecer los datos"
   ]
  },
  {
   "cell_type": "code",
   "execution_count": 81,
   "metadata": {
    "id": "zYEXZac10q1C",
    "trusted": true
   },
   "outputs": [
    {
     "name": "stdout",
     "output_type": "stream",
     "text": [
      "<class 'pandas.core.frame.DataFrame'>\n",
      "RangeIndex: 76051 entries, 0 to 76050\n",
      "Data columns (total 4 columns):\n",
      " #   Column        Non-Null Count  Dtype         \n",
      "---  ------        --------------  -----         \n",
      " 0   id            76051 non-null  object        \n",
      " 1   user_id       76051 non-null  int64         \n",
      " 2   message_date  76051 non-null  datetime64[ns]\n",
      " 3   month         76051 non-null  period[M]     \n",
      "dtypes: datetime64[ns](1), int64(1), object(1), period[M](1)\n",
      "memory usage: 2.3+ MB\n"
     ]
    }
   ],
   "source": [
    "df_messages['month'] = df_messages['message_date'].dt.to_period('M')\n",
    "df_messages.info()"
   ]
  },
  {
   "cell_type": "markdown",
   "metadata": {
    "id": "bStkaxn40q1C"
   },
   "source": [
    "## Internet"
   ]
  },
  {
   "cell_type": "code",
   "execution_count": 82,
   "metadata": {
    "id": "e-Uz5qyn0q1C",
    "trusted": true
   },
   "outputs": [
    {
     "name": "stdout",
     "output_type": "stream",
     "text": [
      "<class 'pandas.core.frame.DataFrame'>\n",
      "RangeIndex: 104825 entries, 0 to 104824\n",
      "Data columns (total 4 columns):\n",
      " #   Column        Non-Null Count   Dtype  \n",
      "---  ------        --------------   -----  \n",
      " 0   id            104825 non-null  object \n",
      " 1   user_id       104825 non-null  int64  \n",
      " 2   session_date  104825 non-null  object \n",
      " 3   mb_used       104825 non-null  float64\n",
      "dtypes: float64(1), int64(1), object(2)\n",
      "memory usage: 3.2+ MB\n",
      "\n",
      "count    104825.000000\n",
      "mean        366.713701\n",
      "std         277.170542\n",
      "min           0.000000\n",
      "25%         136.080000\n",
      "50%         343.980000\n",
      "75%         554.610000\n",
      "max        1693.470000\n",
      "Name: mb_used, dtype: float64\n"
     ]
    }
   ],
   "source": [
    "df_internet.info()\n",
    "print()\n",
    "print(df_internet['mb_used'].describe())"
   ]
  },
  {
   "cell_type": "code",
   "execution_count": 83,
   "metadata": {
    "id": "9r3x_XLw0q1C",
    "trusted": true
   },
   "outputs": [
    {
     "name": "stdout",
     "output_type": "stream",
     "text": [
      "         id  user_id session_date  mb_used\n",
      "0   1000_13     1000   2018-12-29    89.86\n",
      "1  1000_204     1000   2018-12-31     0.00\n",
      "2  1000_379     1000   2018-12-28   660.40\n",
      "3  1000_413     1000   2018-12-26   270.99\n",
      "4  1000_442     1000   2018-12-27   880.22\n",
      "5    1001_0     1001   2018-08-24   284.68\n",
      "6    1001_3     1001   2018-12-09   656.04\n",
      "7    1001_4     1001   2018-11-04    16.97\n",
      "8   1001_10     1001   2018-11-27   135.18\n",
      "9   1001_15     1001   2018-12-13   761.92\n",
      "\n",
      "Index(['id', 'user_id', 'session_date', 'mb_used'], dtype='object')\n",
      "\n",
      "id              0\n",
      "user_id         0\n",
      "session_date    0\n",
      "mb_used         0\n",
      "dtype: int64\n",
      "\n",
      "0\n"
     ]
    }
   ],
   "source": [
    "print(df_internet.head(10))\n",
    "print()\n",
    "print(df_internet.columns)\n",
    "print()\n",
    "print(df_internet.isna().sum())\n",
    "print()\n",
    "print(df_internet.duplicated().sum())\n"
   ]
  },
  {
   "cell_type": "markdown",
   "metadata": {
    "id": "EzOG5ik30q1D"
   },
   "source": [
    "Las fechas se encontraban como object, lo mejor seria cambiarlas a timedate, y después agregar una columna de mes."
   ]
  },
  {
   "cell_type": "markdown",
   "metadata": {
    "id": "yA0tkPFg0q1D"
   },
   "source": [
    "### Corregir los datos"
   ]
  },
  {
   "cell_type": "code",
   "execution_count": 84,
   "metadata": {
    "id": "zVeanzdd0q1E",
    "trusted": true
   },
   "outputs": [],
   "source": [
    "df_internet['session_date'] = pd.to_datetime(df_internet['session_date'], format='%Y-%m-%d')"
   ]
  },
  {
   "cell_type": "markdown",
   "metadata": {
    "id": "e8_mLF4a0q1E"
   },
   "source": [
    "### Enriquecer los datos"
   ]
  },
  {
   "cell_type": "markdown",
   "metadata": {
    "id": "xhNdn2tE0q1E"
   },
   "source": [
    "Mas adelante cuando agrupemos los datos vamos a tener que redondear hacia arriba lo valores de la transformación de mbegabyter a gigabyte en base a las tarifas de megaline. "
   ]
  },
  {
   "cell_type": "code",
   "execution_count": 85,
   "metadata": {
    "id": "ESiYPIEK0q1E",
    "trusted": true
   },
   "outputs": [
    {
     "name": "stdout",
     "output_type": "stream",
     "text": [
      "<class 'pandas.core.frame.DataFrame'>\n",
      "RangeIndex: 104825 entries, 0 to 104824\n",
      "Data columns (total 5 columns):\n",
      " #   Column        Non-Null Count   Dtype         \n",
      "---  ------        --------------   -----         \n",
      " 0   id            104825 non-null  object        \n",
      " 1   user_id       104825 non-null  int64         \n",
      " 2   session_date  104825 non-null  datetime64[ns]\n",
      " 3   mb_used       104825 non-null  float64       \n",
      " 4   month         104825 non-null  period[M]     \n",
      "dtypes: datetime64[ns](1), float64(1), int64(1), object(1), period[M](1)\n",
      "memory usage: 4.0+ MB\n"
     ]
    }
   ],
   "source": [
    "df_internet['month'] = df_internet['session_date'].dt.to_period('M')\n",
    "df_internet.info()"
   ]
  },
  {
   "cell_type": "markdown",
   "metadata": {
    "id": "3UA2cqIW0q1E"
   },
   "source": [
    "## Estudiar las condiciones de las tarifas"
   ]
  },
  {
   "cell_type": "markdown",
   "metadata": {
    "id": "T86Sqltq0q1F"
   },
   "source": [
    "[Es sumamente importante entender cómo funcionan las tarifas, cómo se les cobra a los usuarios en función de su plan de suscripción. Así que te sugerimos imprimir la información de la tarifa para ver una vez más sus condiciones.]"
   ]
  },
  {
   "cell_type": "code",
   "execution_count": 86,
   "metadata": {
    "id": "i409op8p0q1F",
    "trusted": true
   },
   "outputs": [
    {
     "name": "stdout",
     "output_type": "stream",
     "text": [
      "   messages_included  mb_per_month_included  minutes_included  \\\n",
      "0                 50                  15360               500   \n",
      "1               1000                  30720              3000   \n",
      "\n",
      "   usd_monthly_pay  usd_per_gb  usd_per_message  usd_per_minute plan_name  \n",
      "0               20          10             0.03            0.03      surf  \n",
      "1               70           7             0.01            0.01  ultimate  \n"
     ]
    }
   ],
   "source": [
    "print(df_plans)\n"
   ]
  },
  {
   "cell_type": "markdown",
   "metadata": {
    "id": "hMR1tP5d0q1F"
   },
   "source": [
    "## Agregar datos por usuario\n",
    "\n",
    "[Ahora que los datos están limpios, agrega los datos por usuario y por periodo para que solo haya un registro por usuario y por periodo. Esto facilitará mucho el análisis posterior.]"
   ]
  },
  {
   "cell_type": "code",
   "execution_count": 87,
   "metadata": {
    "id": "A332cedB0q1G",
    "trusted": true
   },
   "outputs": [
    {
     "name": "stdout",
     "output_type": "stream",
     "text": [
      "   user_id    month  calls_made\n",
      "0     1000  2018-12          16\n",
      "1     1001  2018-08          27\n",
      "2     1001  2018-09          49\n",
      "3     1001  2018-10          65\n",
      "4     1001  2018-11          64\n",
      "\n",
      "           user_id   calls_made\n",
      "count  2258.000000  2258.000000\n",
      "mean   1247.175819    60.998671\n",
      "std     143.344211    31.770869\n",
      "min    1000.000000     1.000000\n",
      "25%    1122.000000    39.000000\n",
      "50%    1246.000000    60.000000\n",
      "75%    1370.000000    80.000000\n",
      "max    1499.000000   205.000000\n"
     ]
    }
   ],
   "source": [
    "df_calls['call_date'] = pd.to_datetime(df_calls['call_date'])\n",
    "df_calls['month'] = df_calls['call_date'].dt.to_period('M')\n",
    "df_calls_monthly = df_calls.groupby(['user_id', 'month']).size().reset_index(name='calls_made')\n",
    "\n",
    "\n",
    "print(df_calls_monthly.head())\n",
    "print()\n",
    "print(df_calls_monthly.describe())"
   ]
  },
  {
   "cell_type": "code",
   "execution_count": 88,
   "metadata": {
    "id": "aw2cmuql0q1G",
    "trusted": true
   },
   "outputs": [
    {
     "name": "stdout",
     "output_type": "stream",
     "text": [
      "   user_id    month  duration\n",
      "0     1000  2018-12     124.0\n",
      "1     1001  2018-08     182.0\n",
      "2     1001  2018-09     315.0\n",
      "3     1001  2018-10     393.0\n",
      "4     1001  2018-11     426.0\n",
      "\n",
      "           user_id     duration\n",
      "count  2258.000000  2258.000000\n",
      "mean   1247.175819   435.937555\n",
      "std     143.344211   231.972343\n",
      "min    1000.000000     0.000000\n",
      "25%    1122.000000   275.000000\n",
      "50%    1246.000000   429.000000\n",
      "75%    1370.000000   574.750000\n",
      "max    1499.000000  1510.000000\n"
     ]
    }
   ],
   "source": [
    "df_calls['duration'] = np.ceil(df_calls['duration'])\n",
    "df_calls_monthly = df_calls.groupby(['user_id', 'month'])['duration'].sum().reset_index()\n",
    "print(df_calls_monthly.head())\n",
    "print()\n",
    "print(df_calls_monthly.describe())"
   ]
  },
  {
   "cell_type": "code",
   "execution_count": 89,
   "metadata": {
    "id": "CcQvNHn60q1G",
    "trusted": true
   },
   "outputs": [
    {
     "name": "stdout",
     "output_type": "stream",
     "text": [
      "   user_id    month  messages_sent\n",
      "0     1000  2018-12             11\n",
      "1     1001  2018-08             30\n",
      "2     1001  2018-09             44\n",
      "3     1001  2018-10             53\n",
      "4     1001  2018-11             36\n",
      "\n",
      "           user_id  messages_sent\n",
      "count  1806.000000    1806.000000\n",
      "mean   1245.091916      42.110188\n",
      "std     139.583315      33.122931\n",
      "min    1000.000000       1.000000\n",
      "25%    1126.250000      17.000000\n",
      "50%    1245.000000      34.000000\n",
      "75%    1362.000000      59.000000\n",
      "max    1497.000000     266.000000\n"
     ]
    }
   ],
   "source": [
    "df_messages_monthly = df_messages.groupby(['user_id', 'month']).size().reset_index(name='messages_sent')\n",
    "print(df_messages_monthly.head())\n",
    "print()\n",
    "print(df_messages_monthly.describe())"
   ]
  },
  {
   "cell_type": "code",
   "execution_count": 90,
   "metadata": {
    "id": "H1AqN2eG0q1H",
    "trusted": true
   },
   "outputs": [
    {
     "name": "stdout",
     "output_type": "stream",
     "text": [
      "   user_id    month   mb_used  gb_used\n",
      "0     1000  2018-12   1901.47        2\n",
      "1     1001  2018-08   6919.15        7\n",
      "2     1001  2018-09  13314.82       14\n",
      "3     1001  2018-10  22330.49       22\n",
      "4     1001  2018-11  18504.30       19\n",
      "\n",
      "           user_id       mb_used      gb_used\n",
      "count  2277.000000   2277.000000  2277.000000\n",
      "mean   1244.925780  16882.197501    16.989021\n",
      "std     142.544823   7869.784848     7.693683\n",
      "min    1000.000000     92.310000     1.000000\n",
      "25%    1121.000000  12347.720000    13.000000\n",
      "50%    1243.000000  16873.740000    17.000000\n",
      "75%    1367.000000  21041.520000    21.000000\n",
      "max    1499.000000  70931.590000    70.000000\n"
     ]
    }
   ],
   "source": [
    "df_internet_monthly = df_internet.groupby(['user_id', 'month'])['mb_used'].sum().reset_index()\n",
    "df_internet_monthly['gb_used'] = np.ceil(df_internet_monthly['mb_used'] / 1024).astype(int)\n",
    "print(df_internet_monthly.head())\n",
    "print()\n",
    "print(df_internet_monthly.describe())"
   ]
  },
  {
   "cell_type": "code",
   "execution_count": 91,
   "metadata": {
    "id": "FW99ykyf0q1H",
    "scrolled": true,
    "trusted": true
   },
   "outputs": [
    {
     "name": "stdout",
     "output_type": "stream",
     "text": [
      "    user_id first_name  last_name  age  \\\n",
      "0      1000   Anamaria      Bauer   45   \n",
      "1      1001     Mickey  Wilkerson   28   \n",
      "2      1002     Carlee    Hoffman   36   \n",
      "3      1003   Reynaldo    Jenkins   52   \n",
      "4      1004    Leonila   Thompson   40   \n",
      "5      1005      Livia    Shields   31   \n",
      "6      1006     Jesusa   Bradford   73   \n",
      "7      1007    Eusebio      Welch   42   \n",
      "8      1008      Emely    Hoffman   53   \n",
      "9      1009      Gerry     Little   19   \n",
      "10     1010     Wilber      Blair   52   \n",
      "11     1011     Halina      Henry   73   \n",
      "12     1012    Jonelle    Mcbride   59   \n",
      "13     1013    Nicolas     Snider   50   \n",
      "14     1014    Edmundo      Simon   61   \n",
      "15     1015      Beata  Carpenter   26   \n",
      "16     1016       Jann    Salinas   30   \n",
      "17     1017      Boris      Gates   61   \n",
      "18     1018     Dennis     Grimes   70   \n",
      "19     1019     Shizue     Landry   34   \n",
      "\n",
      "                                                city   reg_date      plan  \\\n",
      "0              Atlanta-Sandy Springs-Roswell, GA MSA 2018-12-24  ultimate   \n",
      "1                    Seattle-Tacoma-Bellevue, WA MSA 2018-08-13      surf   \n",
      "2               Las Vegas-Henderson-Paradise, NV MSA 2018-10-21      surf   \n",
      "3                                      Tulsa, OK MSA 2018-01-28      surf   \n",
      "4                    Seattle-Tacoma-Bellevue, WA MSA 2018-05-23      surf   \n",
      "5                Dallas-Fort Worth-Arlington, TX MSA 2018-11-29      surf   \n",
      "6             San Francisco-Oakland-Berkeley, CA MSA 2018-11-27  ultimate   \n",
      "7                      Grand Rapids-Kentwood, MI MSA 2018-07-11      surf   \n",
      "8                  Orlando-Kissimmee-Sanford, FL MSA 2018-08-03  ultimate   \n",
      "9             San Jose-Sunnyvale-Santa Clara, CA MSA 2018-04-22      surf   \n",
      "10               Dallas-Fort Worth-Arlington, TX MSA 2018-03-09      surf   \n",
      "11                          Cleveland-Elyria, OH MSA 2018-01-18  ultimate   \n",
      "12            Chicago-Naperville-Elgin, IL-IN-WI MSA 2018-06-28      surf   \n",
      "13                                 Knoxville, TN MSA 2018-12-01  ultimate   \n",
      "14         New York-Newark-Jersey City, NY-NJ-PA MSA 2018-11-25      surf   \n",
      "15                                Pittsburgh, PA MSA 2018-12-05      surf   \n",
      "16                                    Fresno, CA MSA 2018-10-25      surf   \n",
      "17  Washington-Arlington-Alexandria, DC-VA-MD-WV MSA 2018-08-26      surf   \n",
      "18              Indianapolis-Carmel-Anderson, IN MSA 2018-10-17      surf   \n",
      "19                              Jacksonville, FL MSA 2018-01-16      surf   \n",
      "\n",
      "   churn_date    month  duration  messages_sent   mb_used  gb_used  \n",
      "0         NaT  2018-12     124.0           11.0   1901.47      2.0  \n",
      "1         NaT  2018-08     182.0           30.0   6919.15      7.0  \n",
      "2         NaT  2018-10      59.0           15.0   6552.01      7.0  \n",
      "3         NaT  2018-01       NaN            NaN       NaN      NaN  \n",
      "4         NaT  2018-05     193.0            7.0   6547.21      7.0  \n",
      "5         NaT  2018-11       NaN            NaN       NaN      NaN  \n",
      "6  2018-12-18  2018-11      10.0           15.0   2068.37      3.0  \n",
      "7         NaT  2018-07       NaN            NaN       NaN      NaN  \n",
      "8         NaT  2018-08       NaN            NaN       NaN      NaN  \n",
      "9         NaT  2018-04       NaN            NaN       NaN      NaN  \n",
      "10        NaT  2018-03     429.0            NaN  10690.02     11.0  \n",
      "11        NaT  2018-01       NaN            NaN       NaN      NaN  \n",
      "12 2018-11-16  2018-06       NaN            NaN       NaN      NaN  \n",
      "13        NaT  2018-12     219.0           16.0  20113.92     20.0  \n",
      "14        NaT  2018-11     163.0            9.0   1175.59      2.0  \n",
      "15        NaT  2018-12      96.0           68.0  17495.12     18.0  \n",
      "16        NaT  2018-10     173.0           11.0   3669.91      4.0  \n",
      "17        NaT  2018-08      59.0            5.0   2128.53      3.0  \n",
      "18        NaT  2018-10     184.0            3.0   8722.35      9.0  \n",
      "19        NaT  2018-01       NaN            NaN       NaN      NaN  \n",
      "\n",
      "<class 'pandas.core.frame.DataFrame'>\n",
      "RangeIndex: 500 entries, 0 to 499\n",
      "Data columns (total 13 columns):\n",
      " #   Column         Non-Null Count  Dtype         \n",
      "---  ------         --------------  -----         \n",
      " 0   user_id        500 non-null    int64         \n",
      " 1   first_name     500 non-null    object        \n",
      " 2   last_name      500 non-null    object        \n",
      " 3   age            500 non-null    int64         \n",
      " 4   city           500 non-null    object        \n",
      " 5   reg_date       500 non-null    datetime64[ns]\n",
      " 6   plan           500 non-null    object        \n",
      " 7   churn_date     34 non-null     datetime64[ns]\n",
      " 8   month          500 non-null    period[M]     \n",
      " 9   duration       240 non-null    float64       \n",
      " 10  messages_sent  195 non-null    float64       \n",
      " 11  mb_used        242 non-null    float64       \n",
      " 12  gb_used        242 non-null    float64       \n",
      "dtypes: datetime64[ns](2), float64(4), int64(2), object(4), period[M](1)\n",
      "memory usage: 50.9+ KB\n",
      "\n",
      "Index(['user_id', 'first_name', 'last_name', 'age', 'city', 'reg_date', 'plan',\n",
      "       'churn_date', 'month', 'duration', 'messages_sent', 'mb_used',\n",
      "       'gb_used'],\n",
      "      dtype='object')\n",
      "\n",
      "           user_id         age                    reg_date  \\\n",
      "count   500.000000  500.000000                         500   \n",
      "mean   1249.500000   45.486000  2018-06-24 16:30:43.200000   \n",
      "min    1000.000000   18.000000         2018-01-01 00:00:00   \n",
      "25%    1124.750000   30.000000         2018-03-25 18:00:00   \n",
      "50%    1249.500000   46.000000         2018-06-20 00:00:00   \n",
      "75%    1374.250000   61.000000         2018-09-20 06:00:00   \n",
      "max    1499.000000   75.000000         2018-12-31 00:00:00   \n",
      "std     144.481833   16.972269                         NaN   \n",
      "\n",
      "                          churn_date     duration  messages_sent  \\\n",
      "count                             34   240.000000     195.000000   \n",
      "mean   2018-11-10 22:35:17.647058944   240.579167      24.676923   \n",
      "min              2018-07-31 00:00:00     0.000000       1.000000   \n",
      "25%              2018-10-08 12:00:00    82.000000       7.000000   \n",
      "50%              2018-11-22 12:00:00   189.500000      17.000000   \n",
      "75%              2018-12-18 00:00:00   347.750000      31.500000   \n",
      "max              2018-12-31 00:00:00  1043.000000     125.000000   \n",
      "std                              NaN   195.120695      24.757447   \n",
      "\n",
      "            mb_used     gb_used  \n",
      "count    242.000000  242.000000  \n",
      "mean    8993.325248    9.297521  \n",
      "min       92.310000    1.000000  \n",
      "25%     3899.510000    4.000000  \n",
      "50%     8244.995000    9.000000  \n",
      "75%    13348.410000   13.750000  \n",
      "max    27575.540000   27.000000  \n",
      "std     6093.590163    5.952990  \n"
     ]
    }
   ],
   "source": [
    "df_combined = df_users.merge(df_calls_monthly, on=['user_id', 'month'], how='left') \\\n",
    "    .merge(df_messages_monthly, on=['user_id', 'month'], how='left') \\\n",
    "    .merge(df_internet_monthly, on=['user_id', 'month'], how='left')\n",
    "print(df_combined.head(20))\n",
    "print()\n",
    "df_combined.info()\n",
    "print()\n",
    "print(df_combined.columns)\n",
    "print()\n",
    "print(df_combined.describe())"
   ]
  },
  {
   "cell_type": "markdown",
   "metadata": {
    "id": "0dNOXHag0q1H"
   },
   "source": [
    "La informacion de la tarifa fue añadida en la celda de arriba\n"
   ]
  },
  {
   "cell_type": "code",
   "execution_count": 92,
   "metadata": {
    "id": "5FGCf_c60q1I",
    "trusted": true
   },
   "outputs": [
    {
     "name": "stdout",
     "output_type": "stream",
     "text": [
      "    user_id      plan    month  duration  messages_sent  gb_used  \\\n",
      "0      1000  ultimate  2018-12     124.0           11.0      2.0   \n",
      "1      1001      surf  2018-08     182.0           30.0      7.0   \n",
      "2      1002      surf  2018-10      59.0           15.0      7.0   \n",
      "3      1003      surf  2018-01       NaN            NaN      NaN   \n",
      "4      1004      surf  2018-05     193.0            7.0      7.0   \n",
      "5      1005      surf  2018-11       NaN            NaN      NaN   \n",
      "6      1006  ultimate  2018-11      10.0           15.0      3.0   \n",
      "7      1007      surf  2018-07       NaN            NaN      NaN   \n",
      "8      1008  ultimate  2018-08       NaN            NaN      NaN   \n",
      "9      1009      surf  2018-04       NaN            NaN      NaN   \n",
      "10     1010      surf  2018-03     429.0            NaN     11.0   \n",
      "11     1011  ultimate  2018-01       NaN            NaN      NaN   \n",
      "12     1012      surf  2018-06       NaN            NaN      NaN   \n",
      "13     1013  ultimate  2018-12     219.0           16.0     20.0   \n",
      "14     1014      surf  2018-11     163.0            9.0      2.0   \n",
      "15     1015      surf  2018-12      96.0           68.0     18.0   \n",
      "16     1016      surf  2018-10     173.0           11.0      4.0   \n",
      "17     1017      surf  2018-08      59.0            5.0      3.0   \n",
      "18     1018      surf  2018-10     184.0            3.0      9.0   \n",
      "19     1019      surf  2018-01       NaN            NaN      NaN   \n",
      "\n",
      "    monthly_revenue  \n",
      "0             70.00  \n",
      "1             20.00  \n",
      "2             20.00  \n",
      "3             20.00  \n",
      "4             20.00  \n",
      "5             20.00  \n",
      "6             70.00  \n",
      "7             20.00  \n",
      "8             70.00  \n",
      "9             20.00  \n",
      "10            20.00  \n",
      "11            70.00  \n",
      "12            20.00  \n",
      "13            70.00  \n",
      "14            20.00  \n",
      "15            50.54  \n",
      "16            20.00  \n",
      "17            20.00  \n",
      "18            20.00  \n",
      "19            20.00  \n",
      "\n",
      "           user_id     duration  messages_sent     gb_used  monthly_revenue\n",
      "count   500.000000   240.000000     195.000000  242.000000        500.00000\n",
      "mean   1249.500000   240.579167      24.676923    9.297521         38.91776\n",
      "std     144.481833   195.120695      24.757447    5.952990         24.57116\n",
      "min    1000.000000     0.000000       1.000000    1.000000         20.00000\n",
      "25%    1124.750000    82.000000       7.000000    4.000000         20.00000\n",
      "50%    1249.500000   189.500000      17.000000    9.000000         20.00000\n",
      "75%    1374.250000   347.750000      31.500000   13.750000         70.00000\n",
      "max    1499.000000  1043.000000     125.000000   27.000000        114.05000\n"
     ]
    }
   ],
   "source": [
    "plan_limits = {\n",
    "    'surf': {\n",
    "        'minutes_included': 500,\n",
    "        'messages_included': 50,\n",
    "        'gb_included': 15,\n",
    "        'usd_per_minute': 0.03,\n",
    "        'usd_per_message': 0.03,\n",
    "        'usd_per_gb': 10,\n",
    "        'usd_monthly_pay': 20\n",
    "    },\n",
    "    'ultimate': {\n",
    "        'minutes_included': 3000,\n",
    "        'messages_included': 1000,\n",
    "        'gb_included': 30,\n",
    "        'usd_per_minute': 0.01,\n",
    "        'usd_per_message': 0.01,\n",
    "        'usd_per_gb': 7,\n",
    "        'usd_monthly_pay': 70\n",
    "    }\n",
    "}\n",
    "\n",
    "def calculate_monthly_revenue(row):\n",
    "    plan = row['plan']\n",
    "    limits = plan_limits[plan]\n",
    "    \n",
    "    excess_minutes_cost = 0\n",
    "    excess_messages_cost = 0\n",
    "    excess_data_cost = 0\n",
    "    \n",
    "    \n",
    "    if row['duration'] > limits['minutes_included']:\n",
    "        excess_minutes = row['duration'] - limits['minutes_included']\n",
    "        excess_minutes_cost = excess_minutes * limits['usd_per_minute']\n",
    "    \n",
    "    \n",
    "    if row['messages_sent'] > limits['messages_included']:\n",
    "        excess_messages = row['messages_sent'] - limits['messages_included']\n",
    "        excess_messages_cost = excess_messages * limits['usd_per_message']\n",
    "    \n",
    " \n",
    "    if row['gb_used'] > limits['gb_included']:\n",
    "        excess_data = row['gb_used'] - limits['gb_included']\n",
    "        excess_data_cost = excess_data * limits['usd_per_gb']\n",
    "    \n",
    "  \n",
    "    total_cost = limits['usd_monthly_pay'] + excess_minutes_cost + excess_messages_cost + excess_data_cost\n",
    "    \n",
    "    return total_cost\n",
    "\n",
    "df_combined['monthly_revenue'] = df_combined.apply(calculate_monthly_revenue, axis=1)\n",
    "\n",
    "df_combined[['user_id', 'plan', 'month', 'duration', 'messages_sent', 'gb_used', 'monthly_revenue']].head(20)\n",
    "print(df_combined[['user_id', 'plan', 'month', 'duration', 'messages_sent', 'gb_used', 'monthly_revenue']].head(20))\n",
    "print()\n",
    "print(df_combined[['user_id', 'plan', 'month', 'duration', 'messages_sent', 'gb_used', 'monthly_revenue']].describe())\n"
   ]
  },
  {
   "cell_type": "markdown",
   "metadata": {
    "id": "-jtyHzJb0q1I"
   },
   "source": [
    "## Estudia el comportamiento de usuario"
   ]
  },
  {
   "cell_type": "markdown",
   "metadata": {
    "id": "vtW4CJEe0q1J"
   },
   "source": [
    "### Llamadas"
   ]
  },
  {
   "cell_type": "code",
   "execution_count": 93,
   "metadata": {
    "id": "Jf5v5--k0q1J",
    "trusted": true
   },
   "outputs": [
    {
     "data": {
      "image/png": "[encoded data removed]",
      "text/plain": [
       "<Figure size 1200x600 with 1 Axes>"
      ]
     },
     "metadata": {},
     "output_type": "display_data"
    }
   ],
   "source": [
    "df_calls_avg_duration = df_combined.groupby(['plan', 'month'])['duration'].mean().reset_index()\n",
    "\n",
    "plt.figure(figsize=(12, 6))\n",
    "sns.barplot(data=df_calls_avg_duration, x='month', y='duration', hue='plan')\n",
    "\n",
    "plt.title('Duración Promedio de Llamadas por Plan y Mes')\n",
    "plt.xlabel('Mes')\n",
    "plt.ylabel('Duración Promedio (minutos)')\n",
    "plt.xticks(rotation=45) \n",
    "plt.legend(title='Plan', loc='upper left')\n",
    "\n",
    "plt.tight_layout()\n",
    "plt.show()"
   ]
  },
  {
   "cell_type": "code",
   "execution_count": 94,
   "metadata": {
    "id": "QoLqW1S_0q1J",
    "trusted": true
   },
   "outputs": [
    {
     "data": {
      "image/png": "[encoded data removed]",
      "text/plain": [
       "<Figure size 1200x800 with 1 Axes>"
      ]
     },
     "metadata": {},
     "output_type": "display_data"
    }
   ],
   "source": [
    "surf_users = df_combined[df_combined['plan'] == 'surf']\n",
    "ultimate_users = df_combined[df_combined['plan'] == 'ultimate']\n",
    "\n",
    "plt.figure(figsize=(12, 8))\n",
    "\n",
    "plt.hist(surf_users['duration'], bins=20, alpha=0.5, label='Surf', color='blue')\n",
    "plt.hist(ultimate_users['duration'], bins=20, alpha=0.5, label='Ultimate', color='green')\n",
    "\n",
    "plt.title('Distribución de Minutos Mensuales por Plan', fontsize=16)\n",
    "plt.xlabel('Minutos Usados', fontsize=14)\n",
    "plt.ylabel('Número de Usuarios', fontsize=14)\n",
    "plt.legend()\n",
    "\n",
    "\n",
    "plt.grid(True)\n",
    "plt.show()"
   ]
  },
  {
   "cell_type": "markdown",
   "metadata": {
    "id": "bLS9T8OH0q1K"
   },
   "source": [
    "[Calcula la media y la variable de la duración de las llamadas para averiguar si los usuarios de los distintos planes se comportan de forma diferente al realizar sus llamadas.]"
   ]
  },
  {
   "cell_type": "code",
   "execution_count": 95,
   "metadata": {
    "id": "oSndbAnt0q1K",
    "trusted": true
   },
   "outputs": [
    {
     "name": "stdout",
     "output_type": "stream",
     "text": [
      "count     240.000000\n",
      "mean      240.579167\n",
      "std       195.120695\n",
      "min         0.000000\n",
      "25%        82.000000\n",
      "50%       189.500000\n",
      "75%       347.750000\n",
      "max      1043.000000\n",
      "Name: duration, dtype: float64\n",
      "\n",
      "Media de la duración de llamadas en total: 240.58 minutos\n",
      "Varianza de la duración de llamadas en total: 38072.09 minutos\n"
     ]
    }
   ],
   "source": [
    "mean_duration = df_combined['duration'].mean()\n",
    "variance_duration = df_combined['duration'].var()\n",
    "print(df_combined['duration'].describe())\n",
    "print()\n",
    "print(f\"Media de la duración de llamadas en total: {mean_duration:.2f} minutos\")\n",
    "print(f\"Varianza de la duración de llamadas en total: {variance_duration:.2f} minutos\")"
   ]
  },
  {
   "cell_type": "code",
   "execution_count": 96,
   "metadata": {
    "id": "nZzoRUKc0q1K",
    "trusted": true
   },
   "outputs": [
    {
     "data": {
      "image/png": "[encoded data removed]",
      "text/plain": [
       "<Figure size 1200x600 with 1 Axes>"
      ]
     },
     "metadata": {},
     "output_type": "display_data"
    }
   ],
   "source": [
    "df_filtered = df_combined.dropna(subset=['duration'])\n",
    "\n",
    "plt.figure(figsize=(12, 6))\n",
    "sns.boxplot(x='month', y='duration', data=df_filtered)\n",
    "\n",
    "plt.title('Distribución de la duración mensual de llamadas', fontsize=14)\n",
    "plt.xlabel('Mes', fontsize=12)\n",
    "plt.ylabel('Duración de llamadas (en minutos)', fontsize=12)\n",
    "\n",
    "plt.xticks(rotation=45)\n",
    "\n",
    "plt.show()"
   ]
  },
  {
   "cell_type": "markdown",
   "metadata": {
    "id": "r627zBO50q1K"
   },
   "source": [
    "En cuanto a llamadas se observa que el mes de diciembre es aquel en el que las llamadas tienen mayor duración, debido a la periodicidad de las llamadas, esto tiene sentido. \n",
    "Se observa que el mayor número de usuarios utiliza, entre 0 y 200 minutos al mes, aunque hay una gran variación entre usuarios, significando que sería necesario aumentar nuestro numero de datos para poder llegar a una conclusión mas acertada. \n",
    "La distribución mensual de las llamadas es similar al el número de minutos mensuales que necesitan los usuarios de cada plan, la mayoría de los usuarios se encuentran en rangos similares, pero existen valores atípicos. \n"
   ]
  },
  {
   "cell_type": "markdown",
   "metadata": {
    "id": "8idKy8Wh0q1L"
   },
   "source": [
    "### Mensajes"
   ]
  },
  {
   "cell_type": "code",
   "execution_count": 97,
   "metadata": {
    "id": "NXLxiTit0q1L",
    "trusted": true
   },
   "outputs": [
    {
     "data": {
      "image/png": "[encoded data removed]",
      "text/plain": [
       "<Figure size 1400x800 with 1 Axes>"
      ]
     },
     "metadata": {},
     "output_type": "display_data"
    }
   ],
   "source": [
    "df_filtered = df_combined.dropna(subset=['messages_sent'])\n",
    "df_monthly_messages = df_filtered.groupby(['month', 'plan'])['messages_sent'].mean().reset_index()\n",
    "df_monthly_messages['month'] = df_monthly_messages['month'].astype(str)\n",
    "plt.figure(figsize=(14, 8))\n",
    "sns.barplot(x='month', y='messages_sent', hue='plan', data=df_monthly_messages)\n",
    "\n",
    "\n",
    "plt.title('Media mensual de mensajes enviados por plan', fontsize=14)\n",
    "plt.xlabel('Mes', fontsize=12)\n",
    "plt.ylabel('Número medio de mensajes enviados', fontsize=12)\n",
    "\n",
    "\n",
    "plt.xticks(rotation=45)\n",
    "\n",
    "\n",
    "plt.show()"
   ]
  },
  {
   "cell_type": "code",
   "execution_count": 98,
   "metadata": {
    "id": "GRI_R7xF0q1L",
    "scrolled": false,
    "trusted": true
   },
   "outputs": [
    {
     "name": "stdout",
     "output_type": "stream",
     "text": [
      "count    195.000000\n",
      "mean      24.676923\n",
      "std       24.757447\n",
      "min        1.000000\n",
      "25%        7.000000\n",
      "50%       17.000000\n",
      "75%       31.500000\n",
      "max      125.000000\n",
      "Name: messages_sent, dtype: float64\n",
      "\n",
      "Media de los mensajes enviados en total: 24.68\n",
      "Varianza de los mensajes enviados en total: 612.93\n"
     ]
    }
   ],
   "source": [
    "df_filtered = df_combined.dropna(subset=['messages_sent'])\n",
    "mean_messages_sent = df_filtered['messages_sent'].mean()\n",
    "variance_messages_sent = df_filtered['messages_sent'].var()\n",
    "\n",
    "print(df_combined['messages_sent'].describe())\n",
    "print()\n",
    "print(f\"Media de los mensajes enviados en total: {mean_messages_sent:.2f}\")\n",
    "print(f\"Varianza de los mensajes enviados en total: {variance_messages_sent:.2f}\")"
   ]
  },
  {
   "cell_type": "code",
   "execution_count": 99,
   "metadata": {
    "id": "dtFwCGAp0q1M",
    "trusted": true
   },
   "outputs": [
    {
     "data": {
      "image/png": "[encoded data removed]",
      "text/plain": [
       "<Figure size 1000x600 with 1 Axes>"
      ]
     },
     "metadata": {},
     "output_type": "display_data"
    }
   ],
   "source": [
    "average_messages_by_plan = df_combined.groupby('plan')['messages_sent'].mean().reset_index()\n",
    "\n",
    "plt.figure(figsize=(10, 6))\n",
    "sns.barplot(x='plan', y='messages_sent', data=average_messages_by_plan)\n",
    "\n",
    "plt.title('Promedio de Mensajes Enviados por Plan', fontsize=14)\n",
    "plt.ylabel('Promedio de Mensajes Enviados', fontsize=12)\n",
    "\n",
    "plt.show()"
   ]
  },
  {
   "cell_type": "markdown",
   "metadata": {
    "id": "390SSL480q1M"
   },
   "source": [
    "Los mensajes se comportan de manera similar que las llamadas, el mes de diciembre tiene un mayor número de mensajes, mientras que los usuarios en el plan ultimate, en promedio mandan mas mensajes que los usuarios en el plan surf. "
   ]
  },
  {
   "cell_type": "markdown",
   "metadata": {
    "id": "42YSypXz0q1M"
   },
   "source": [
    "### Internet"
   ]
  },
  {
   "cell_type": "code",
   "execution_count": 100,
   "metadata": {
    "id": "lSuKPtjh0q1M",
    "trusted": true
   },
   "outputs": [
    {
     "data": {
      "image/png": "[encoded data removed]",
      "text/plain": [
       "<Figure size 1000x600 with 1 Axes>"
      ]
     },
     "metadata": {},
     "output_type": "display_data"
    }
   ],
   "source": [
    "average_internet_usage_by_plan = df_combined.groupby('plan')['gb_used'].mean().reset_index()\n",
    "\n",
    "plt.figure(figsize=(10, 6))\n",
    "sns.barplot(x='plan', y='gb_used', data=average_internet_usage_by_plan)\n",
    "\n",
    "\n",
    "plt.title('Promedio de Uso de Internet por Plan (en GB)', fontsize=14)\n",
    "plt.ylabel('Promedio de Uso de Internet (GB)', fontsize=12)\n",
    "\n",
    "plt.show()"
   ]
  },
  {
   "cell_type": "code",
   "execution_count": 101,
   "metadata": {
    "id": "wnh8jYXi0q1N",
    "trusted": true
   },
   "outputs": [
    {
     "data": {
      "image/png": "[encoded data removed]",
      "text/plain": [
       "<Figure size 1400x800 with 1 Axes>"
      ]
     },
     "metadata": {},
     "output_type": "display_data"
    }
   ],
   "source": [
    "df_filtered_traffic = df_combined.dropna(subset=['gb_used'])\n",
    "\n",
    "total_traffic_by_month_plan = df_filtered_traffic.groupby(['month', 'plan'])['gb_used'].sum().reset_index()\n",
    "\n",
    "plt.figure(figsize=(14, 8))  \n",
    "sns.barplot(x='month', y='gb_used', hue='plan', data=total_traffic_by_month_plan, palette='viridis')\n",
    "\n",
    "plt.title('Total de tráfico de Internet consumido por mes y plan', fontsize=16)\n",
    "plt.xlabel('Mes', fontsize=14)\n",
    "plt.ylabel('Tráfico total consumido (GB)', fontsize=14)\n",
    "\n",
    "plt.tight_layout()\n",
    "plt.xticks(rotation=45) \n",
    "plt.show()"
   ]
  },
  {
   "cell_type": "code",
   "execution_count": 102,
   "metadata": {
    "id": "5VlyJ9ry0q1N",
    "trusted": true
   },
   "outputs": [
    {
     "name": "stdout",
     "output_type": "stream",
     "text": [
      "count    242.000000\n",
      "mean       9.297521\n",
      "std        5.952990\n",
      "min        1.000000\n",
      "25%        4.000000\n",
      "50%        9.000000\n",
      "75%       13.750000\n",
      "max       27.000000\n",
      "Name: gb_used, dtype: float64\n",
      "Media de tráfico de Internet consumido por plan (en GB) en total:\n",
      "plan\n",
      "surf        9.734940\n",
      "ultimate    8.342105\n",
      "Name: gb_used, dtype: float64\n",
      "\n",
      "Varianza de tráfico de Internet consumido por plan (en GB) en total:\n",
      "plan\n",
      "surf        37.844469\n",
      "ultimate    29.268070\n",
      "Name: gb_used, dtype: float64\n"
     ]
    }
   ],
   "source": [
    "df_filtered_traffic = df_combined.dropna(subset=['gb_used'])\n",
    "print(df_combined['gb_used'].describe())\n",
    "\n",
    "mean_traffic_by_plan = df_filtered_traffic.groupby('plan')['gb_used'].mean()\n",
    "variance_traffic_by_plan = df_filtered_traffic.groupby('plan')['gb_used'].var()\n",
    "\n",
    "print(\"Media de tráfico de Internet consumido por plan (en GB) en total:\")\n",
    "print(mean_traffic_by_plan)\n",
    "print(\"\\nVarianza de tráfico de Internet consumido por plan (en GB) en total:\")\n",
    "print(variance_traffic_by_plan)"
   ]
  },
  {
   "cell_type": "markdown",
   "metadata": {
    "id": "UN9zwuMP0q1N"
   },
   "source": [
    " En el uso de internet se puede observar como el mes de diciembre es otra vez el mes con mayor uso. También se puede observar que en promedio los usuarios en el plan de surf, utilizan mas internet que aquellos con el plan ultimate. "
   ]
  },
  {
   "cell_type": "markdown",
   "metadata": {
    "id": "tCijq3260q1N"
   },
   "source": [
    "## Ingreso"
   ]
  },
  {
   "cell_type": "markdown",
   "metadata": {
    "id": "9nq5IAcy0q1O"
   },
   "source": [
    "[Del mismo modo que has estudiado el comportamiento de los usuarios, describe estadísticamente los ingresos de los planes.]"
   ]
  },
  {
   "cell_type": "code",
   "execution_count": 103,
   "metadata": {
    "id": "tz-dq_V00q1O",
    "scrolled": false,
    "trusted": true
   },
   "outputs": [
    {
     "data": {
      "image/png": "[encoded data removed]",
      "text/plain": [
       "<Figure size 1200x600 with 1 Axes>"
      ]
     },
     "metadata": {},
     "output_type": "display_data"
    }
   ],
   "source": [
    "total_revenue_by_plan_month = df_combined.groupby(['month', 'plan'])['monthly_revenue'].sum().reset_index()\n",
    "\n",
    "plt.figure(figsize=(12, 6))\n",
    "sns.barplot(x='month', y='monthly_revenue', hue='plan', data=total_revenue_by_plan_month, palette='viridis')\n",
    "\n",
    "\n",
    "plt.title('Ingreso mensual total por plan y mes', fontsize=16)\n",
    "plt.xlabel('Mes', fontsize=14)\n",
    "plt.ylabel('Ingreso mensual total (USD)', fontsize=14)\n",
    "plt.xticks(rotation=45)  \n",
    "\n",
    "plt.tight_layout()\n",
    "plt.show()"
   ]
  },
  {
   "cell_type": "code",
   "execution_count": 104,
   "metadata": {
    "id": "0Y1v8ZUz0q1P",
    "trusted": true
   },
   "outputs": [
    {
     "name": "stderr",
     "output_type": "stream",
     "text": [
      "C:\\Users\\Salva Medina\\AppData\\Local\\Temp\\ipykernel_58540\\1021214714.py:5: FutureWarning: \n",
      "\n",
      "Passing `palette` without assigning `hue` is deprecated and will be removed in v0.14.0. Assign the `x` variable to `hue` and set `legend=False` for the same effect.\n",
      "\n",
      "  sns.barplot(x='plan', y='monthly_revenue', data=avg_revenue_by_plan, palette='viridis')\n"
     ]
    },
    {
     "data": {
      "image/png": "[encoded data removed]",
      "text/plain": [
       "<Figure size 800x600 with 1 Axes>"
      ]
     },
     "metadata": {},
     "output_type": "display_data"
    },
    {
     "name": "stdout",
     "output_type": "stream",
     "text": [
      "       plan  monthly_revenue\n",
      "0      surf        24.155988\n",
      "1  ultimate        70.000000\n"
     ]
    }
   ],
   "source": [
    "avg_revenue_by_plan = df_combined.groupby('plan')['monthly_revenue'].mean().reset_index()\n",
    "\n",
    "\n",
    "plt.figure(figsize=(8, 6))\n",
    "sns.barplot(x='plan', y='monthly_revenue', data=avg_revenue_by_plan, palette='viridis')\n",
    "\n",
    "\n",
    "plt.title('Ingreso promedio mensual por plan', fontsize=16)\n",
    "plt.xlabel('Plan', fontsize=14)\n",
    "plt.ylabel('Ingreso promedio mensual (USD)', fontsize=14)\n",
    "\n",
    "\n",
    "plt.tight_layout()\n",
    "plt.show()\n",
    "\n",
    "\n",
    "print(avg_revenue_by_plan)"
   ]
  },
  {
   "cell_type": "code",
   "execution_count": 105,
   "metadata": {
    "id": "bYmwxyVh0q1P",
    "trusted": true
   },
   "outputs": [
    {
     "name": "stdout",
     "output_type": "stream",
     "text": [
      "          count       mean        std   min   25%   50%   75%     max\n",
      "plan                                                                 \n",
      "surf      339.0  24.155988  14.580194  20.0  20.0  20.0  20.0  114.05\n",
      "ultimate  161.0  70.000000   0.000000  70.0  70.0  70.0  70.0   70.00\n",
      "\n",
      "       plan       mean         var\n",
      "0      surf  24.155988  212.582044\n",
      "1  ultimate  70.000000    0.000000\n"
     ]
    }
   ],
   "source": [
    "revenue_stats_by_plan = df_combined.groupby('plan')['monthly_revenue'].agg(['mean', 'var']).reset_index()\n",
    "print(df_combined.groupby('plan')['monthly_revenue'].describe())\n",
    "print()\n",
    "print(revenue_stats_by_plan)"
   ]
  },
  {
   "cell_type": "markdown",
   "metadata": {
    "id": "KAFidcXZ0q1P"
   },
   "source": [
    "Se puede observar que hay una gran diferencia entre el plan ultimate y surf, especialmente destacando que ultimate nunca paga tarifas extras, lo que significa que los usuarios de este plan no exeden de los limites determinados por el plan, mientras que la variabilidad de los usuarios del plan surf es mayor. "
   ]
  },
  {
   "cell_type": "markdown",
   "metadata": {
    "id": "ajJ7VKeI0q1Q"
   },
   "source": [
    "## Prueba las hipótesis estadísticas"
   ]
  },
  {
   "cell_type": "code",
   "execution_count": 106,
   "metadata": {
    "id": "nFoPNlPq0q1R",
    "trusted": true
   },
   "outputs": [
    {
     "name": "stdout",
     "output_type": "stream",
     "text": [
      "Valor p: 1.624246592434739e-177\n",
      "Rechazamos la hipótesis nula.\n"
     ]
    }
   ],
   "source": [
    "surf_revenue = df_combined[df_combined['plan'] == 'surf']['monthly_revenue']\n",
    "ultimate_revenue = df_combined[df_combined['plan'] == 'ultimate']['monthly_revenue']\n",
    "\n",
    "ultimate_revenue_noisy = ultimate_revenue + np.random.normal(0, 0.1, size=ultimate_revenue.shape)\n",
    "\n",
    "t_stat, p_value = st.ttest_ind(surf_revenue, ultimate_revenue_noisy, equal_var=False)\n",
    "\n",
    "print(f\"Valor p: {p_value}\")\n",
    "\n",
    "alpha = 0.01\n",
    "\n",
    "if p_value < alpha:\n",
    "    print(\"Rechazamos la hipótesis nula.\")\n",
    "else:\n",
    "    print(\"No rechazamos la hipótesis nula.\")"
   ]
  },
  {
   "cell_type": "code",
   "execution_count": 107,
   "metadata": {
    "id": "Cqcj7wrZ0q1S",
    "trusted": true
   },
   "outputs": [
    {
     "name": "stdout",
     "output_type": "stream",
     "text": [
      "Valor p: 0.4578855702966439\n",
      "No rechazamos la hipótesis nula.\n"
     ]
    }
   ],
   "source": [
    "ny_nj_users = df_combined[df_combined['city'].str.contains('NY|NJ')]\n",
    "\n",
    "other_regions_users = df_combined[~df_combined['city'].str.contains('NY|NJ')]\n",
    "\n",
    "ny_nj_revenue = ny_nj_users['monthly_revenue']\n",
    "other_regions_revenue = other_regions_users['monthly_revenue']\n",
    "\n",
    "t_stat, p_value = st.ttest_ind(ny_nj_revenue, other_regions_revenue, equal_var=False)\n",
    "\n",
    "print(f\"Valor p: {p_value}\")\n",
    "\n",
    "alpha = 0.01\n",
    "if p_value < alpha:\n",
    "    print(\"Rechazamos la hipótesis nula.\")\n",
    "else:\n",
    "    print(\"No rechazamos la hipótesis nula.\")\n"
   ]
  },
  {
   "cell_type": "markdown",
   "metadata": {
    "id": "bbTR8UQO0q1T"
   },
   "source": [
    "## Conclusión general\n",
    "\n",
    "El plan Ultimate tiene un ingreso constante de $70 por mes, ya que el pago mensual cubre todos los servicios que el usuario necesita, y no recurre a cargos adicionales. Todos los usuarios de este plan tienen exactamente el mismo ingreso mensual, lo que explica por qué la desviación estándar es 0.\n",
    "En plan Surf, los usuarios tienen una gran variedad de ingresos, ya que hay cargos adicionales si superan los límites de minutos, mensajes o datos. Esto produce una desviación estándar más alta en los ingresos, ya que los cargos extra varían dependiendo del uso de cada usuario\n"
   ]
  }
 ],
 "metadata": {
  "ExecuteTimeLog": [
   {
    "duration": 828,
    "start_time": "2021-11-16T09:21:11.304Z"
   },
   {
    "duration": 893,
    "start_time": "2021-11-16T09:21:17.728Z"
   },
   {
    "duration": 1150,
    "start_time": "2021-11-16T09:21:29.568Z"
   },
   {
    "duration": 3,
    "start_time": "2021-11-16T09:24:14.495Z"
   },
   {
    "duration": 120,
    "start_time": "2021-11-16T09:24:46.630Z"
   },
   {
    "duration": 3,
    "start_time": "2021-11-16T09:28:27.882Z"
   },
   {
    "duration": 4,
    "start_time": "2021-11-16T09:29:54.281Z"
   },
   {
    "duration": 3,
    "start_time": "2021-11-16T09:30:45.936Z"
   },
   {
    "duration": 4,
    "start_time": "2021-11-16T09:31:06.300Z"
   },
   {
    "duration": 113,
    "start_time": "2021-11-16T09:31:37.208Z"
   },
   {
    "duration": 143,
    "start_time": "2021-11-16T09:31:48.656Z"
   },
   {
    "duration": 98,
    "start_time": "2021-11-16T09:31:55.678Z"
   },
   {
    "duration": 3,
    "start_time": "2021-11-16T09:32:08.535Z"
   },
   {
    "duration": 111,
    "start_time": "2021-11-16T09:32:10.120Z"
   },
   {
    "duration": 3,
    "start_time": "2021-11-16T09:32:15.732Z"
   },
   {
    "duration": 4,
    "start_time": "2021-11-16T09:32:29.423Z"
   },
   {
    "duration": 3,
    "start_time": "2021-11-16T10:03:03.074Z"
   },
   {
    "duration": 3,
    "start_time": "2021-11-16T10:10:01.288Z"
   },
   {
    "duration": 3,
    "start_time": "2021-11-16T10:10:46.923Z"
   },
   {
    "duration": 121,
    "start_time": "2021-11-16T10:37:46.494Z"
   },
   {
    "duration": 125,
    "start_time": "2021-11-16T10:38:20.632Z"
   },
   {
    "duration": 112,
    "start_time": "2021-11-16T10:46:53.001Z"
   },
   {
    "duration": 110,
    "start_time": "2021-11-16T10:48:25.775Z"
   },
   {
    "duration": 3,
    "start_time": "2021-11-16T10:50:18.720Z"
   },
   {
    "duration": 4,
    "start_time": "2021-11-16T10:50:37.649Z"
   },
   {
    "duration": 2,
    "start_time": "2021-11-16T10:50:51.884Z"
   },
   {
    "duration": 3,
    "start_time": "2021-11-16T10:51:56.237Z"
   },
   {
    "duration": 101,
    "start_time": "2021-11-16T10:53:13.791Z"
   },
   {
    "duration": 3,
    "start_time": "2021-11-16T10:55:59.186Z"
   },
   {
    "duration": 3,
    "start_time": "2021-11-16T10:56:10.751Z"
   },
   {
    "duration": 3,
    "start_time": "2021-11-16T10:56:49.038Z"
   },
   {
    "duration": 3,
    "start_time": "2021-11-16T10:56:49.174Z"
   },
   {
    "duration": 4,
    "start_time": "2021-11-16T10:56:49.414Z"
   },
   {
    "duration": 3,
    "start_time": "2021-11-16T10:56:49.680Z"
   },
   {
    "duration": 3,
    "start_time": "2021-11-16T10:56:50.370Z"
   },
   {
    "duration": 114,
    "start_time": "2021-11-16T10:59:34.518Z"
   },
   {
    "duration": 3,
    "start_time": "2021-11-16T11:01:41.201Z"
   },
   {
    "duration": 116,
    "start_time": "2021-11-16T11:01:48.754Z"
   },
   {
    "duration": 3,
    "start_time": "2021-11-16T11:02:16.685Z"
   },
   {
    "duration": 3,
    "start_time": "2021-11-16T11:02:19.479Z"
   },
   {
    "duration": 3,
    "start_time": "2021-11-16T11:02:47.067Z"
   },
   {
    "duration": 3,
    "start_time": "2021-11-16T11:02:49.353Z"
   },
   {
    "duration": 3,
    "start_time": "2021-11-16T11:03:07.835Z"
   },
   {
    "duration": 3,
    "start_time": "2021-11-16T11:03:07.953Z"
   },
   {
    "duration": 112,
    "start_time": "2021-11-16T11:07:52.072Z"
   },
   {
    "duration": 187,
    "start_time": "2021-11-16T11:09:23.468Z"
   },
   {
    "duration": 4,
    "start_time": "2021-11-16T11:10:01.455Z"
   },
   {
    "duration": 3,
    "start_time": "2021-11-16T11:10:05.069Z"
   },
   {
    "duration": 4,
    "start_time": "2021-11-16T11:10:13.376Z"
   },
   {
    "duration": 3,
    "start_time": "2021-11-16T11:10:14.434Z"
   },
   {
    "duration": 3,
    "start_time": "2021-11-16T11:10:22.853Z"
   },
   {
    "duration": 4,
    "start_time": "2021-11-16T11:27:29.279Z"
   },
   {
    "duration": 4,
    "start_time": "2021-11-16T11:29:08.919Z"
   },
   {
    "duration": 118,
    "start_time": "2021-11-16T11:29:46.703Z"
   },
   {
    "duration": 437,
    "start_time": "2021-11-16T11:36:02.181Z"
   },
   {
    "duration": 157,
    "start_time": "2021-11-16T11:36:14.388Z"
   },
   {
    "duration": 207,
    "start_time": "2021-11-16T11:47:15.898Z"
   },
   {
    "duration": 3,
    "start_time": "2021-11-16T11:53:52.092Z"
   },
   {
    "duration": 3,
    "start_time": "2021-11-16T11:53:52.236Z"
   },
   {
    "duration": 3,
    "start_time": "2021-11-16T11:59:12.005Z"
   },
   {
    "duration": 112,
    "start_time": "2021-11-16T12:00:33.446Z"
   },
   {
    "duration": 3,
    "start_time": "2021-11-16T12:02:14.453Z"
   },
   {
    "duration": 3,
    "start_time": "2021-11-16T12:02:39.512Z"
   },
   {
    "duration": 106,
    "start_time": "2021-11-16T12:03:03.460Z"
   },
   {
    "duration": 3,
    "start_time": "2021-11-17T20:37:21.139Z"
   },
   {
    "duration": 3,
    "start_time": "2021-11-17T20:37:22.229Z"
   },
   {
    "duration": 3,
    "start_time": "2021-11-17T20:38:38.806Z"
   },
   {
    "duration": 3,
    "start_time": "2021-11-17T20:38:41.958Z"
   },
   {
    "duration": 3,
    "start_time": "2021-11-17T20:43:46.551Z"
   },
   {
    "duration": 4,
    "start_time": "2021-11-17T20:58:21.835Z"
   },
   {
    "duration": 3,
    "start_time": "2021-11-17T20:59:21.872Z"
   },
   {
    "duration": 4,
    "start_time": "2021-11-17T20:59:45.352Z"
   },
   {
    "duration": 4,
    "start_time": "2021-11-17T20:59:49.646Z"
   },
   {
    "duration": 159,
    "start_time": "2021-11-17T21:02:26.949Z"
   },
   {
    "duration": 3,
    "start_time": "2021-11-17T21:03:53.461Z"
   },
   {
    "duration": 3,
    "start_time": "2021-11-17T21:03:53.694Z"
   },
   {
    "duration": 3,
    "start_time": "2021-11-17T21:05:28.145Z"
   },
   {
    "duration": 116,
    "start_time": "2021-11-17T21:05:57.787Z"
   },
   {
    "duration": 3,
    "start_time": "2021-11-17T21:06:37.993Z"
   },
   {
    "duration": 3,
    "start_time": "2021-11-17T21:06:38.261Z"
   },
   {
    "duration": 3,
    "start_time": "2021-11-17T21:11:54.358Z"
   },
   {
    "duration": 3,
    "start_time": "2021-11-17T21:12:43.846Z"
   },
   {
    "duration": 4,
    "start_time": "2021-11-17T21:13:08.773Z"
   },
   {
    "duration": 3,
    "start_time": "2021-11-17T21:14:44.441Z"
   },
   {
    "duration": 3,
    "start_time": "2021-11-17T21:15:42.059Z"
   },
   {
    "duration": 4,
    "start_time": "2021-11-17T21:15:51.995Z"
   },
   {
    "duration": 3,
    "start_time": "2021-11-17T21:15:53.923Z"
   },
   {
    "duration": 3,
    "start_time": "2021-11-17T21:15:55.282Z"
   },
   {
    "duration": 3,
    "start_time": "2021-11-17T21:16:28.492Z"
   },
   {
    "duration": 3,
    "start_time": "2021-11-17T21:16:32.603Z"
   },
   {
    "duration": 3,
    "start_time": "2021-11-17T21:17:06.941Z"
   },
   {
    "duration": 98,
    "start_time": "2021-11-17T21:18:05.733Z"
   },
   {
    "duration": 4,
    "start_time": "2021-11-17T21:21:35.255Z"
   },
   {
    "duration": 3,
    "start_time": "2021-11-17T21:21:37.804Z"
   },
   {
    "duration": 4,
    "start_time": "2021-11-17T21:23:06.071Z"
   },
   {
    "duration": 3,
    "start_time": "2021-11-17T21:23:24.799Z"
   },
   {
    "duration": 3,
    "start_time": "2021-11-17T21:23:32.591Z"
   },
   {
    "duration": 98,
    "start_time": "2021-11-17T21:28:31.559Z"
   },
   {
    "duration": 3,
    "start_time": "2021-11-17T21:28:45.448Z"
   },
   {
    "duration": 3,
    "start_time": "2021-11-17T21:29:17.303Z"
   },
   {
    "duration": 3,
    "start_time": "2021-11-17T21:29:29.617Z"
   },
   {
    "duration": 3,
    "start_time": "2021-11-17T21:29:32.681Z"
   },
   {
    "duration": 3,
    "start_time": "2021-11-17T21:36:11.474Z"
   },
   {
    "duration": 3,
    "start_time": "2021-11-17T21:36:14.791Z"
   },
   {
    "duration": 3,
    "start_time": "2021-11-17T21:36:53.943Z"
   },
   {
    "duration": 3,
    "start_time": "2021-11-17T21:36:56.165Z"
   },
   {
    "duration": 4,
    "start_time": "2021-11-17T21:37:16.590Z"
   },
   {
    "duration": 3,
    "start_time": "2021-11-17T21:37:22.702Z"
   },
   {
    "duration": 4,
    "start_time": "2021-11-17T21:38:03.479Z"
   },
   {
    "duration": 3,
    "start_time": "2021-11-17T21:38:08.601Z"
   },
   {
    "duration": 3,
    "start_time": "2021-11-17T21:38:12.928Z"
   },
   {
    "duration": 3,
    "start_time": "2021-11-17T21:38:48.896Z"
   },
   {
    "duration": 2,
    "start_time": "2021-11-17T21:38:49.171Z"
   },
   {
    "duration": 4,
    "start_time": "2021-11-17T21:39:57.889Z"
   },
   {
    "duration": 3,
    "start_time": "2021-11-17T21:39:58.057Z"
   },
   {
    "duration": 3,
    "start_time": "2021-11-17T21:41:20.108Z"
   },
   {
    "duration": 3,
    "start_time": "2021-11-17T21:41:20.629Z"
   },
   {
    "duration": 3,
    "start_time": "2021-11-17T21:42:49.136Z"
   },
   {
    "duration": 3,
    "start_time": "2021-11-17T21:43:15.137Z"
   },
   {
    "duration": 4,
    "start_time": "2021-11-17T21:43:16.766Z"
   },
   {
    "duration": 4,
    "start_time": "2021-11-17T21:43:31.711Z"
   },
   {
    "duration": 3,
    "start_time": "2021-11-17T21:43:36.312Z"
   },
   {
    "duration": 4,
    "start_time": "2021-11-17T21:45:08.825Z"
   },
   {
    "duration": 4,
    "start_time": "2021-11-17T21:45:10.119Z"
   },
   {
    "duration": 4,
    "start_time": "2021-11-17T21:45:13.748Z"
   },
   {
    "duration": 3,
    "start_time": "2021-11-17T21:45:22.219Z"
   },
   {
    "duration": 3,
    "start_time": "2021-11-17T21:45:33.412Z"
   },
   {
    "duration": 2,
    "start_time": "2021-11-17T21:46:01.885Z"
   },
   {
    "duration": 3,
    "start_time": "2021-11-17T21:46:03.628Z"
   },
   {
    "duration": 107,
    "start_time": "2021-11-17T21:47:32.512Z"
   },
   {
    "duration": 103,
    "start_time": "2021-11-17T21:50:36.243Z"
   },
   {
    "duration": 3,
    "start_time": "2021-11-18T06:28:31.440Z"
   },
   {
    "duration": 3,
    "start_time": "2021-11-18T06:29:00.168Z"
   },
   {
    "duration": 3,
    "start_time": "2021-11-18T06:31:27.008Z"
   },
   {
    "duration": 2,
    "start_time": "2021-11-18T06:35:34.288Z"
   },
   {
    "duration": 2,
    "start_time": "2021-11-18T06:38:04.527Z"
   },
   {
    "duration": 157,
    "start_time": "2025-01-25T23:27:05.963Z"
   },
   {
    "duration": 2436,
    "start_time": "2025-01-25T23:27:10.556Z"
   },
   {
    "duration": 216,
    "start_time": "2025-01-25T23:27:12.994Z"
   },
   {
    "duration": 7,
    "start_time": "2025-01-25T23:27:13.954Z"
   },
   {
    "duration": 5,
    "start_time": "2025-01-25T23:27:35.261Z"
   },
   {
    "duration": 9,
    "start_time": "2025-01-25T23:28:00.021Z"
   },
   {
    "duration": 6,
    "start_time": "2025-01-25T23:28:40.716Z"
   },
   {
    "duration": 5,
    "start_time": "2025-01-25T23:28:46.456Z"
   },
   {
    "duration": 5,
    "start_time": "2025-01-25T23:28:56.685Z"
   },
   {
    "duration": 10,
    "start_time": "2025-01-25T23:31:13.613Z"
   },
   {
    "duration": 5,
    "start_time": "2025-01-25T23:31:41.280Z"
   },
   {
    "duration": 5,
    "start_time": "2025-01-25T23:32:46.739Z"
   },
   {
    "duration": 6,
    "start_time": "2025-01-25T23:32:54.656Z"
   },
   {
    "duration": 10,
    "start_time": "2025-01-25T23:33:23.062Z"
   },
   {
    "duration": 11,
    "start_time": "2025-01-25T23:34:53.569Z"
   },
   {
    "duration": 11,
    "start_time": "2025-01-25T23:35:12.407Z"
   },
   {
    "duration": 11,
    "start_time": "2025-01-25T23:36:11.060Z"
   },
   {
    "duration": 10,
    "start_time": "2025-01-25T23:36:58.685Z"
   },
   {
    "duration": 71,
    "start_time": "2025-01-25T23:37:34.696Z"
   },
   {
    "duration": 11,
    "start_time": "2025-01-25T23:37:38.322Z"
   },
   {
    "duration": 15,
    "start_time": "2025-01-25T23:37:46.580Z"
   },
   {
    "duration": 12,
    "start_time": "2025-01-26T19:04:00.890Z"
   },
   {
    "duration": 5,
    "start_time": "2025-01-26T19:04:17.589Z"
   },
   {
    "duration": 12,
    "start_time": "2025-01-26T19:04:36.120Z"
   },
   {
    "duration": 11,
    "start_time": "2025-01-26T19:05:45.798Z"
   },
   {
    "duration": 686,
    "start_time": "2025-01-26T19:07:17.996Z"
   },
   {
    "duration": 154,
    "start_time": "2025-01-26T19:07:18.685Z"
   },
   {
    "duration": 9,
    "start_time": "2025-01-26T19:07:18.841Z"
   },
   {
    "duration": 5,
    "start_time": "2025-01-26T19:07:18.853Z"
   },
   {
    "duration": 7,
    "start_time": "2025-01-26T19:07:18.861Z"
   },
   {
    "duration": 9,
    "start_time": "2025-01-26T19:07:18.870Z"
   },
   {
    "duration": 16,
    "start_time": "2025-01-26T19:07:18.880Z"
   },
   {
    "duration": 6,
    "start_time": "2025-01-26T19:07:18.897Z"
   },
   {
    "duration": 3,
    "start_time": "2025-01-26T19:07:18.904Z"
   },
   {
    "duration": 34,
    "start_time": "2025-01-26T19:07:18.909Z"
   },
   {
    "duration": 2,
    "start_time": "2025-01-26T19:07:18.945Z"
   },
   {
    "duration": 3,
    "start_time": "2025-01-26T19:07:18.949Z"
   },
   {
    "duration": 3,
    "start_time": "2025-01-26T19:07:18.954Z"
   },
   {
    "duration": 3,
    "start_time": "2025-01-26T19:07:18.961Z"
   },
   {
    "duration": 3,
    "start_time": "2025-01-26T19:07:18.965Z"
   },
   {
    "duration": 3,
    "start_time": "2025-01-26T19:07:18.970Z"
   },
   {
    "duration": 3,
    "start_time": "2025-01-26T19:07:18.975Z"
   },
   {
    "duration": 3,
    "start_time": "2025-01-26T19:07:18.980Z"
   },
   {
    "duration": 3,
    "start_time": "2025-01-26T19:07:18.985Z"
   },
   {
    "duration": 3,
    "start_time": "2025-01-26T19:07:18.989Z"
   },
   {
    "duration": 3,
    "start_time": "2025-01-26T19:07:18.994Z"
   },
   {
    "duration": 45,
    "start_time": "2025-01-26T19:07:18.998Z"
   },
   {
    "duration": 2,
    "start_time": "2025-01-26T19:07:19.045Z"
   },
   {
    "duration": 4,
    "start_time": "2025-01-26T19:07:19.048Z"
   },
   {
    "duration": 3,
    "start_time": "2025-01-26T19:07:19.053Z"
   },
   {
    "duration": 8,
    "start_time": "2025-01-26T19:07:19.058Z"
   },
   {
    "duration": 3,
    "start_time": "2025-01-26T19:07:19.067Z"
   },
   {
    "duration": 3,
    "start_time": "2025-01-26T19:07:19.072Z"
   },
   {
    "duration": 4,
    "start_time": "2025-01-26T19:08:32.754Z"
   },
   {
    "duration": 8,
    "start_time": "2025-01-26T19:08:36.379Z"
   },
   {
    "duration": 4,
    "start_time": "2025-01-26T19:09:20.225Z"
   },
   {
    "duration": 16,
    "start_time": "2025-01-26T19:09:24.394Z"
   },
   {
    "duration": 12,
    "start_time": "2025-01-26T19:09:27.984Z"
   },
   {
    "duration": 130,
    "start_time": "2025-01-26T19:10:55.287Z"
   },
   {
    "duration": 15,
    "start_time": "2025-01-26T19:11:32.694Z"
   },
   {
    "duration": 12,
    "start_time": "2025-01-26T19:11:35.822Z"
   },
   {
    "duration": 5,
    "start_time": "2025-01-26T19:11:38.160Z"
   },
   {
    "duration": 13,
    "start_time": "2025-01-26T19:11:41.401Z"
   },
   {
    "duration": 15,
    "start_time": "2025-01-26T19:11:53.632Z"
   },
   {
    "duration": 12,
    "start_time": "2025-01-26T19:12:41.363Z"
   },
   {
    "duration": 14,
    "start_time": "2025-01-26T19:12:55.193Z"
   },
   {
    "duration": 9,
    "start_time": "2025-01-26T19:13:08.514Z"
   },
   {
    "duration": 9,
    "start_time": "2025-01-26T19:14:27.387Z"
   },
   {
    "duration": 5,
    "start_time": "2025-01-26T19:14:46.735Z"
   },
   {
    "duration": 63,
    "start_time": "2025-01-26T19:16:08.433Z"
   },
   {
    "duration": 22,
    "start_time": "2025-01-26T19:16:19.268Z"
   },
   {
    "duration": 45,
    "start_time": "2025-01-26T19:16:37.695Z"
   },
   {
    "duration": 9,
    "start_time": "2025-01-26T19:21:14.548Z"
   },
   {
    "duration": 6,
    "start_time": "2025-01-26T19:21:19.434Z"
   },
   {
    "duration": 5,
    "start_time": "2025-01-26T19:21:27.682Z"
   },
   {
    "duration": 733,
    "start_time": "2025-01-26T19:21:41.243Z"
   },
   {
    "duration": 154,
    "start_time": "2025-01-26T19:21:41.979Z"
   },
   {
    "duration": 9,
    "start_time": "2025-01-26T19:21:42.134Z"
   },
   {
    "duration": 5,
    "start_time": "2025-01-26T19:21:42.146Z"
   },
   {
    "duration": 8,
    "start_time": "2025-01-26T19:21:42.153Z"
   },
   {
    "duration": 9,
    "start_time": "2025-01-26T19:21:42.162Z"
   },
   {
    "duration": 4,
    "start_time": "2025-01-26T19:21:42.173Z"
   },
   {
    "duration": 15,
    "start_time": "2025-01-26T19:21:42.178Z"
   },
   {
    "duration": 5,
    "start_time": "2025-01-26T19:21:42.194Z"
   },
   {
    "duration": 41,
    "start_time": "2025-01-26T19:21:42.203Z"
   },
   {
    "duration": 15,
    "start_time": "2025-01-26T19:21:42.246Z"
   },
   {
    "duration": 2,
    "start_time": "2025-01-26T19:21:42.263Z"
   },
   {
    "duration": 3,
    "start_time": "2025-01-26T19:21:42.267Z"
   },
   {
    "duration": 3,
    "start_time": "2025-01-26T19:21:42.272Z"
   },
   {
    "duration": 3,
    "start_time": "2025-01-26T19:21:42.276Z"
   },
   {
    "duration": 2,
    "start_time": "2025-01-26T19:21:42.281Z"
   },
   {
    "duration": 3,
    "start_time": "2025-01-26T19:21:42.285Z"
   },
   {
    "duration": 3,
    "start_time": "2025-01-26T19:21:42.290Z"
   },
   {
    "duration": 3,
    "start_time": "2025-01-26T19:21:42.294Z"
   },
   {
    "duration": 45,
    "start_time": "2025-01-26T19:21:42.299Z"
   },
   {
    "duration": 2,
    "start_time": "2025-01-26T19:21:42.346Z"
   },
   {
    "duration": 3,
    "start_time": "2025-01-26T19:21:42.350Z"
   },
   {
    "duration": 2,
    "start_time": "2025-01-26T19:21:42.355Z"
   },
   {
    "duration": 3,
    "start_time": "2025-01-26T19:21:42.359Z"
   },
   {
    "duration": 3,
    "start_time": "2025-01-26T19:21:42.364Z"
   },
   {
    "duration": 3,
    "start_time": "2025-01-26T19:21:42.368Z"
   },
   {
    "duration": 2,
    "start_time": "2025-01-26T19:21:42.374Z"
   },
   {
    "duration": 2,
    "start_time": "2025-01-26T19:21:42.380Z"
   },
   {
    "duration": 3,
    "start_time": "2025-01-26T19:21:42.383Z"
   },
   {
    "duration": 3,
    "start_time": "2025-01-26T19:21:42.388Z"
   },
   {
    "duration": 50,
    "start_time": "2025-01-26T19:21:42.393Z"
   },
   {
    "duration": 3,
    "start_time": "2025-01-26T19:22:05.635Z"
   },
   {
    "duration": 13,
    "start_time": "2025-01-26T19:22:06.248Z"
   },
   {
    "duration": 6,
    "start_time": "2025-01-26T19:22:07.064Z"
   },
   {
    "duration": 7,
    "start_time": "2025-01-26T19:22:09.252Z"
   },
   {
    "duration": 11,
    "start_time": "2025-01-26T19:22:11.246Z"
   },
   {
    "duration": 6,
    "start_time": "2025-01-26T19:22:14.323Z"
   },
   {
    "duration": 9,
    "start_time": "2025-01-26T19:22:21.140Z"
   },
   {
    "duration": 791,
    "start_time": "2025-01-26T19:23:54.604Z"
   },
   {
    "duration": 12,
    "start_time": "2025-01-26T19:25:11.883Z"
   },
   {
    "duration": 749,
    "start_time": "2025-01-26T19:25:22.324Z"
   },
   {
    "duration": 151,
    "start_time": "2025-01-26T19:25:23.076Z"
   },
   {
    "duration": 10,
    "start_time": "2025-01-26T19:25:23.228Z"
   },
   {
    "duration": 6,
    "start_time": "2025-01-26T19:25:23.242Z"
   },
   {
    "duration": 8,
    "start_time": "2025-01-26T19:25:23.251Z"
   },
   {
    "duration": 9,
    "start_time": "2025-01-26T19:25:23.261Z"
   },
   {
    "duration": 3,
    "start_time": "2025-01-26T19:25:23.273Z"
   },
   {
    "duration": 15,
    "start_time": "2025-01-26T19:25:23.278Z"
   },
   {
    "duration": 5,
    "start_time": "2025-01-26T19:25:23.295Z"
   },
   {
    "duration": 51,
    "start_time": "2025-01-26T19:25:23.301Z"
   },
   {
    "duration": 3,
    "start_time": "2025-01-26T19:25:23.353Z"
   },
   {
    "duration": 3,
    "start_time": "2025-01-26T19:25:23.357Z"
   },
   {
    "duration": 3,
    "start_time": "2025-01-26T19:25:23.362Z"
   },
   {
    "duration": 3,
    "start_time": "2025-01-26T19:25:23.369Z"
   },
   {
    "duration": 2,
    "start_time": "2025-01-26T19:25:23.374Z"
   },
   {
    "duration": 3,
    "start_time": "2025-01-26T19:25:23.378Z"
   },
   {
    "duration": 3,
    "start_time": "2025-01-26T19:25:23.382Z"
   },
   {
    "duration": 3,
    "start_time": "2025-01-26T19:25:23.387Z"
   },
   {
    "duration": 4,
    "start_time": "2025-01-26T19:25:23.391Z"
   },
   {
    "duration": 3,
    "start_time": "2025-01-26T19:25:23.396Z"
   },
   {
    "duration": 2,
    "start_time": "2025-01-26T19:25:23.402Z"
   },
   {
    "duration": 38,
    "start_time": "2025-01-26T19:25:23.405Z"
   },
   {
    "duration": 4,
    "start_time": "2025-01-26T19:25:23.444Z"
   },
   {
    "duration": 4,
    "start_time": "2025-01-26T19:25:23.449Z"
   },
   {
    "duration": 3,
    "start_time": "2025-01-26T19:25:23.454Z"
   },
   {
    "duration": 3,
    "start_time": "2025-01-26T19:25:23.459Z"
   },
   {
    "duration": 4,
    "start_time": "2025-01-26T19:25:23.463Z"
   },
   {
    "duration": 3,
    "start_time": "2025-01-26T19:25:23.468Z"
   },
   {
    "duration": 4,
    "start_time": "2025-01-26T19:25:23.473Z"
   },
   {
    "duration": 3,
    "start_time": "2025-01-26T19:25:23.478Z"
   },
   {
    "duration": 6,
    "start_time": "2025-01-26T19:25:40.259Z"
   },
   {
    "duration": 5,
    "start_time": "2025-01-26T19:25:46.262Z"
   },
   {
    "duration": 31,
    "start_time": "2025-01-26T19:27:13.756Z"
   },
   {
    "duration": 41,
    "start_time": "2025-01-26T19:27:26.980Z"
   },
   {
    "duration": 5,
    "start_time": "2025-01-26T19:27:36.522Z"
   },
   {
    "duration": 31,
    "start_time": "2025-01-26T19:27:38.723Z"
   },
   {
    "duration": 29,
    "start_time": "2025-01-26T19:28:20.380Z"
   },
   {
    "duration": 7,
    "start_time": "2025-01-26T19:29:09.514Z"
   },
   {
    "duration": 28,
    "start_time": "2025-01-26T19:29:15.697Z"
   },
   {
    "duration": 10,
    "start_time": "2025-01-26T19:29:55.204Z"
   },
   {
    "duration": 5,
    "start_time": "2025-01-26T19:29:57.343Z"
   },
   {
    "duration": 14,
    "start_time": "2025-01-26T19:29:59.258Z"
   },
   {
    "duration": 10,
    "start_time": "2025-01-26T19:30:11.137Z"
   },
   {
    "duration": 5,
    "start_time": "2025-01-26T19:31:03.548Z"
   },
   {
    "duration": 10,
    "start_time": "2025-01-26T19:31:06.184Z"
   },
   {
    "duration": 9,
    "start_time": "2025-01-26T19:31:08.509Z"
   },
   {
    "duration": 27,
    "start_time": "2025-01-26T19:31:57.831Z"
   },
   {
    "duration": 36,
    "start_time": "2025-01-26T19:32:27.083Z"
   },
   {
    "duration": 12,
    "start_time": "2025-01-26T19:32:57.990Z"
   },
   {
    "duration": 10,
    "start_time": "2025-01-26T19:33:58.889Z"
   },
   {
    "duration": 11,
    "start_time": "2025-01-26T19:34:13.137Z"
   },
   {
    "duration": 33,
    "start_time": "2025-01-26T19:34:20.276Z"
   },
   {
    "duration": 22,
    "start_time": "2025-01-26T19:34:52.807Z"
   },
   {
    "duration": 11,
    "start_time": "2025-01-26T19:35:36.160Z"
   },
   {
    "duration": 10,
    "start_time": "2025-01-26T19:35:39.287Z"
   },
   {
    "duration": 13,
    "start_time": "2025-01-26T19:36:00.672Z"
   },
   {
    "duration": 41,
    "start_time": "2025-01-26T19:36:36.636Z"
   },
   {
    "duration": 43,
    "start_time": "2025-01-26T19:36:44.298Z"
   },
   {
    "duration": 13,
    "start_time": "2025-01-26T19:37:22.666Z"
   },
   {
    "duration": 35,
    "start_time": "2025-01-26T19:37:24.762Z"
   },
   {
    "duration": 12,
    "start_time": "2025-01-26T19:37:27.127Z"
   },
   {
    "duration": 11,
    "start_time": "2025-01-26T19:38:07.155Z"
   },
   {
    "duration": 5,
    "start_time": "2025-01-26T19:38:30.983Z"
   },
   {
    "duration": 5,
    "start_time": "2025-01-26T19:38:35.354Z"
   },
   {
    "duration": 27,
    "start_time": "2025-01-26T19:42:13.212Z"
   },
   {
    "duration": 12,
    "start_time": "2025-01-26T19:43:34.487Z"
   },
   {
    "duration": 534,
    "start_time": "2025-01-26T19:46:03.455Z"
   },
   {
    "duration": 20,
    "start_time": "2025-01-26T19:46:11.400Z"
   },
   {
    "duration": 12,
    "start_time": "2025-01-26T19:46:11.744Z"
   },
   {
    "duration": 12,
    "start_time": "2025-01-26T19:46:12.057Z"
   },
   {
    "duration": 40,
    "start_time": "2025-01-26T19:46:12.383Z"
   },
   {
    "duration": 16,
    "start_time": "2025-01-26T19:47:28.274Z"
   },
   {
    "duration": 46,
    "start_time": "2025-01-26T19:49:04.852Z"
   },
   {
    "duration": 160,
    "start_time": "2025-01-26T19:51:26.836Z"
   },
   {
    "duration": 786,
    "start_time": "2025-01-26T19:51:31.192Z"
   },
   {
    "duration": 159,
    "start_time": "2025-01-26T19:51:31.981Z"
   },
   {
    "duration": 9,
    "start_time": "2025-01-26T19:51:32.142Z"
   },
   {
    "duration": 5,
    "start_time": "2025-01-26T19:51:32.153Z"
   },
   {
    "duration": 8,
    "start_time": "2025-01-26T19:51:32.161Z"
   },
   {
    "duration": 8,
    "start_time": "2025-01-26T19:51:32.171Z"
   },
   {
    "duration": 6,
    "start_time": "2025-01-26T19:51:32.180Z"
   },
   {
    "duration": 5,
    "start_time": "2025-01-26T19:51:32.187Z"
   },
   {
    "duration": 15,
    "start_time": "2025-01-26T19:51:32.193Z"
   },
   {
    "duration": 74,
    "start_time": "2025-01-26T19:51:32.209Z"
   },
   {
    "duration": 17,
    "start_time": "2025-01-26T19:51:32.284Z"
   },
   {
    "duration": 9,
    "start_time": "2025-01-26T19:51:32.304Z"
   },
   {
    "duration": 34,
    "start_time": "2025-01-26T19:51:32.314Z"
   },
   {
    "duration": 24,
    "start_time": "2025-01-26T19:51:32.351Z"
   },
   {
    "duration": 10,
    "start_time": "2025-01-26T19:51:32.377Z"
   },
   {
    "duration": 6,
    "start_time": "2025-01-26T19:51:32.388Z"
   },
   {
    "duration": 14,
    "start_time": "2025-01-26T19:51:32.396Z"
   },
   {
    "duration": 80,
    "start_time": "2025-01-26T19:51:32.411Z"
   },
   {
    "duration": 14,
    "start_time": "2025-01-26T19:51:32.492Z"
   },
   {
    "duration": 7,
    "start_time": "2025-01-26T19:51:32.508Z"
   },
   {
    "duration": 27,
    "start_time": "2025-01-26T19:51:32.517Z"
   },
   {
    "duration": 20,
    "start_time": "2025-01-26T19:51:32.545Z"
   },
   {
    "duration": 16,
    "start_time": "2025-01-26T19:51:32.567Z"
   },
   {
    "duration": 12,
    "start_time": "2025-01-26T19:51:32.585Z"
   },
   {
    "duration": 13,
    "start_time": "2025-01-26T19:51:32.598Z"
   },
   {
    "duration": 61,
    "start_time": "2025-01-26T19:51:32.613Z"
   },
   {
    "duration": 2,
    "start_time": "2025-01-26T19:51:32.676Z"
   },
   {
    "duration": 3,
    "start_time": "2025-01-26T19:51:32.679Z"
   },
   {
    "duration": 3,
    "start_time": "2025-01-26T19:51:32.684Z"
   },
   {
    "duration": 4,
    "start_time": "2025-01-26T19:51:32.688Z"
   },
   {
    "duration": 4,
    "start_time": "2025-01-26T19:51:32.693Z"
   },
   {
    "duration": 3,
    "start_time": "2025-01-26T19:51:32.698Z"
   },
   {
    "duration": 3,
    "start_time": "2025-01-26T19:51:32.703Z"
   },
   {
    "duration": 2,
    "start_time": "2025-01-26T19:51:32.709Z"
   },
   {
    "duration": 2,
    "start_time": "2025-01-26T19:51:32.743Z"
   },
   {
    "duration": 3,
    "start_time": "2025-01-26T19:51:32.747Z"
   },
   {
    "duration": 13,
    "start_time": "2025-01-26T19:51:59.450Z"
   },
   {
    "duration": 20,
    "start_time": "2025-01-26T19:52:18.497Z"
   },
   {
    "duration": 14,
    "start_time": "2025-01-26T19:52:29.807Z"
   },
   {
    "duration": 17,
    "start_time": "2025-01-26T19:52:38.655Z"
   },
   {
    "duration": 10,
    "start_time": "2025-01-26T19:53:06.605Z"
   },
   {
    "duration": 12,
    "start_time": "2025-01-26T19:53:06.975Z"
   },
   {
    "duration": 8,
    "start_time": "2025-01-26T19:53:07.302Z"
   },
   {
    "duration": 10,
    "start_time": "2025-01-26T19:53:07.672Z"
   },
   {
    "duration": 20,
    "start_time": "2025-01-26T19:53:39.735Z"
   },
   {
    "duration": 12,
    "start_time": "2025-01-26T19:56:38.662Z"
   },
   {
    "duration": 12,
    "start_time": "2025-01-26T19:56:39.020Z"
   },
   {
    "duration": 7,
    "start_time": "2025-01-26T19:56:39.346Z"
   },
   {
    "duration": 11,
    "start_time": "2025-01-26T19:56:39.690Z"
   },
   {
    "duration": 20,
    "start_time": "2025-01-26T19:56:40.426Z"
   },
   {
    "duration": 17,
    "start_time": "2025-01-26T19:58:09.256Z"
   },
   {
    "duration": 18,
    "start_time": "2025-01-26T19:58:59.931Z"
   },
   {
    "duration": 22,
    "start_time": "2025-01-26T20:01:25.395Z"
   },
   {
    "duration": 238,
    "start_time": "2025-01-26T20:02:40.454Z"
   },
   {
    "duration": 112,
    "start_time": "2025-01-26T20:03:07.725Z"
   },
   {
    "duration": 320,
    "start_time": "2025-01-26T20:03:13.160Z"
   },
   {
    "duration": 24,
    "start_time": "2025-01-26T20:03:59.934Z"
   },
   {
    "duration": 324,
    "start_time": "2025-01-26T20:05:10.632Z"
   },
   {
    "duration": 333,
    "start_time": "2025-01-26T20:05:13.851Z"
   },
   {
    "duration": 329,
    "start_time": "2025-01-26T20:05:52.223Z"
   },
   {
    "duration": 395,
    "start_time": "2025-01-26T20:06:12.778Z"
   },
   {
    "duration": 4,
    "start_time": "2025-01-26T20:06:54.956Z"
   },
   {
    "duration": 4,
    "start_time": "2025-01-26T20:07:36.229Z"
   },
   {
    "duration": 4,
    "start_time": "2025-01-26T20:07:43.843Z"
   },
   {
    "duration": 3,
    "start_time": "2025-01-26T20:07:51.297Z"
   },
   {
    "duration": 4,
    "start_time": "2025-01-26T20:08:25.323Z"
   },
   {
    "duration": 322,
    "start_time": "2025-01-26T20:08:53.639Z"
   },
   {
    "duration": 496,
    "start_time": "2025-01-26T20:09:41.170Z"
   },
   {
    "duration": 307,
    "start_time": "2025-01-26T20:10:28.079Z"
   },
   {
    "duration": 341,
    "start_time": "2025-01-26T20:10:44.107Z"
   },
   {
    "duration": 233,
    "start_time": "2025-01-26T20:11:08.435Z"
   },
   {
    "duration": 157,
    "start_time": "2025-01-26T22:02:51.723Z"
   },
   {
    "duration": 2525,
    "start_time": "2025-01-26T22:02:59.603Z"
   },
   {
    "duration": 202,
    "start_time": "2025-01-26T22:03:02.131Z"
   },
   {
    "duration": 10,
    "start_time": "2025-01-26T22:03:02.335Z"
   },
   {
    "duration": 5,
    "start_time": "2025-01-26T22:03:02.347Z"
   },
   {
    "duration": 7,
    "start_time": "2025-01-26T22:03:02.354Z"
   },
   {
    "duration": 9,
    "start_time": "2025-01-26T22:03:02.363Z"
   },
   {
    "duration": 5,
    "start_time": "2025-01-26T22:03:02.374Z"
   },
   {
    "duration": 29,
    "start_time": "2025-01-26T22:03:02.381Z"
   },
   {
    "duration": 15,
    "start_time": "2025-01-26T22:03:02.411Z"
   },
   {
    "duration": 43,
    "start_time": "2025-01-26T22:03:02.428Z"
   },
   {
    "duration": 41,
    "start_time": "2025-01-26T22:03:02.473Z"
   },
   {
    "duration": 18,
    "start_time": "2025-01-26T22:03:02.516Z"
   },
   {
    "duration": 12,
    "start_time": "2025-01-26T22:03:02.537Z"
   },
   {
    "duration": 24,
    "start_time": "2025-01-26T22:03:02.552Z"
   },
   {
    "duration": 36,
    "start_time": "2025-01-26T22:03:02.578Z"
   },
   {
    "duration": 14,
    "start_time": "2025-01-26T22:03:02.615Z"
   },
   {
    "duration": 12,
    "start_time": "2025-01-26T22:03:02.632Z"
   },
   {
    "duration": 65,
    "start_time": "2025-01-26T22:03:02.645Z"
   },
   {
    "duration": 17,
    "start_time": "2025-01-26T22:03:02.712Z"
   },
   {
    "duration": 15,
    "start_time": "2025-01-26T22:03:02.731Z"
   },
   {
    "duration": 4,
    "start_time": "2025-01-26T22:03:02.747Z"
   },
   {
    "duration": 11,
    "start_time": "2025-01-26T22:03:02.753Z"
   },
   {
    "duration": 11,
    "start_time": "2025-01-26T22:03:02.766Z"
   },
   {
    "duration": 36,
    "start_time": "2025-01-26T22:03:02.778Z"
   },
   {
    "duration": 9,
    "start_time": "2025-01-26T22:03:02.815Z"
   },
   {
    "duration": 24,
    "start_time": "2025-01-26T22:03:02.826Z"
   },
   {
    "duration": 2,
    "start_time": "2025-01-26T22:03:02.851Z"
   },
   {
    "duration": 22,
    "start_time": "2025-01-26T22:03:02.857Z"
   },
   {
    "duration": 368,
    "start_time": "2025-01-26T22:03:02.881Z"
   },
   {
    "duration": 365,
    "start_time": "2025-01-26T22:03:03.251Z"
   },
   {
    "duration": 6,
    "start_time": "2025-01-26T22:03:03.618Z"
   },
   {
    "duration": 365,
    "start_time": "2025-01-26T22:03:03.626Z"
   },
   {
    "duration": 330,
    "start_time": "2025-01-26T22:03:03.993Z"
   },
   {
    "duration": 223,
    "start_time": "2025-01-26T22:03:04.325Z"
   },
   {
    "duration": 3,
    "start_time": "2025-01-26T22:03:04.549Z"
   },
   {
    "duration": 3,
    "start_time": "2025-01-26T22:03:04.553Z"
   },
   {
    "duration": 669,
    "start_time": "2025-01-26T22:07:59.190Z"
   },
   {
    "duration": 13,
    "start_time": "2025-01-26T22:08:03.079Z"
   },
   {
    "duration": 4,
    "start_time": "2025-01-26T22:08:03.586Z"
   },
   {
    "duration": 14,
    "start_time": "2025-01-26T22:08:35.870Z"
   },
   {
    "duration": 18,
    "start_time": "2025-01-26T22:08:59.264Z"
   },
   {
    "duration": 46,
    "start_time": "2025-01-26T22:09:04.730Z"
   },
   {
    "duration": 15,
    "start_time": "2025-01-26T22:09:12.408Z"
   },
   {
    "duration": 7,
    "start_time": "2025-01-26T22:09:14.753Z"
   },
   {
    "duration": 28,
    "start_time": "2025-01-26T22:10:19.698Z"
   },
   {
    "duration": 44,
    "start_time": "2025-01-26T22:10:22.520Z"
   },
   {
    "duration": 15,
    "start_time": "2025-01-26T22:10:52.747Z"
   },
   {
    "duration": 27,
    "start_time": "2025-01-26T22:11:08.854Z"
   },
   {
    "duration": 11,
    "start_time": "2025-01-26T22:12:15.177Z"
   },
   {
    "duration": 11,
    "start_time": "2025-01-26T22:12:35.153Z"
   },
   {
    "duration": 16,
    "start_time": "2025-01-26T22:13:00.588Z"
   },
   {
    "duration": 15,
    "start_time": "2025-01-26T22:13:08.682Z"
   },
   {
    "duration": 25,
    "start_time": "2025-01-26T22:14:06.906Z"
   },
   {
    "duration": 212,
    "start_time": "2025-01-26T22:16:40.802Z"
   },
   {
    "duration": 27,
    "start_time": "2025-01-26T22:16:53.333Z"
   },
   {
    "duration": 14,
    "start_time": "2025-01-26T22:16:53.894Z"
   },
   {
    "duration": 10,
    "start_time": "2025-01-26T22:16:54.344Z"
   },
   {
    "duration": 11,
    "start_time": "2025-01-26T22:16:54.839Z"
   },
   {
    "duration": 24,
    "start_time": "2025-01-26T22:16:55.761Z"
   },
   {
    "duration": 97,
    "start_time": "2025-01-26T22:16:57.246Z"
   },
   {
    "duration": 25,
    "start_time": "2025-01-26T22:18:03.780Z"
   },
   {
    "duration": 21,
    "start_time": "2025-01-26T22:18:42.827Z"
   },
   {
    "duration": 21,
    "start_time": "2025-01-26T22:20:16.471Z"
   },
   {
    "duration": 270,
    "start_time": "2025-01-26T22:23:27.075Z"
   },
   {
    "duration": 187,
    "start_time": "2025-01-26T22:24:03.311Z"
   },
   {
    "duration": 218,
    "start_time": "2025-01-26T22:24:32.745Z"
   },
   {
    "duration": 206,
    "start_time": "2025-01-26T22:25:01.738Z"
   },
   {
    "duration": 381,
    "start_time": "2025-01-26T22:26:02.428Z"
   },
   {
    "duration": 51,
    "start_time": "2025-01-26T22:26:46.054Z"
   },
   {
    "duration": 9,
    "start_time": "2025-01-26T22:27:49.862Z"
   },
   {
    "duration": 228,
    "start_time": "2025-01-26T22:27:53.481Z"
   },
   {
    "duration": 24,
    "start_time": "2025-01-26T22:27:57.196Z"
   },
   {
    "duration": 28,
    "start_time": "2025-01-26T22:27:59.553Z"
   },
   {
    "duration": 54,
    "start_time": "2025-01-26T22:28:54.808Z"
   },
   {
    "duration": 3,
    "start_time": "2025-01-26T22:29:35.899Z"
   },
   {
    "duration": 154,
    "start_time": "2025-01-26T22:29:36.647Z"
   },
   {
    "duration": 10,
    "start_time": "2025-01-26T22:29:38.159Z"
   },
   {
    "duration": 5,
    "start_time": "2025-01-26T22:29:38.714Z"
   },
   {
    "duration": 9,
    "start_time": "2025-01-26T22:29:44.059Z"
   },
   {
    "duration": 11,
    "start_time": "2025-01-26T22:29:44.523Z"
   },
   {
    "duration": 6,
    "start_time": "2025-01-26T22:29:47.986Z"
   },
   {
    "duration": 14,
    "start_time": "2025-01-26T22:29:49.670Z"
   },
   {
    "duration": 16,
    "start_time": "2025-01-26T22:30:03.070Z"
   },
   {
    "duration": 40,
    "start_time": "2025-01-26T22:30:03.552Z"
   },
   {
    "duration": 16,
    "start_time": "2025-01-26T22:30:04.908Z"
   },
   {
    "duration": 18,
    "start_time": "2025-01-26T22:30:05.935Z"
   },
   {
    "duration": 12,
    "start_time": "2025-01-26T22:30:09.667Z"
   },
   {
    "duration": 22,
    "start_time": "2025-01-26T22:30:11.795Z"
   },
   {
    "duration": 11,
    "start_time": "2025-01-26T22:30:14.998Z"
   },
   {
    "duration": 15,
    "start_time": "2025-01-26T22:30:16.827Z"
   },
   {
    "duration": 14,
    "start_time": "2025-01-26T22:30:19.920Z"
   },
   {
    "duration": 43,
    "start_time": "2025-01-26T22:30:20.125Z"
   },
   {
    "duration": 16,
    "start_time": "2025-01-26T22:30:23.963Z"
   },
   {
    "duration": 15,
    "start_time": "2025-01-26T22:30:24.994Z"
   },
   {
    "duration": 5,
    "start_time": "2025-01-26T22:30:27.898Z"
   },
   {
    "duration": 24,
    "start_time": "2025-01-26T22:30:28.701Z"
   },
   {
    "duration": 11,
    "start_time": "2025-01-26T22:30:28.980Z"
   },
   {
    "duration": 10,
    "start_time": "2025-01-26T22:30:29.557Z"
   },
   {
    "duration": 11,
    "start_time": "2025-01-26T22:30:31.712Z"
   },
   {
    "duration": 25,
    "start_time": "2025-01-26T22:30:33.692Z"
   },
   {
    "duration": 22,
    "start_time": "2025-01-26T22:30:38.488Z"
   },
   {
    "duration": 46,
    "start_time": "2025-01-26T22:30:44.391Z"
   },
   {
    "duration": 117,
    "start_time": "2025-01-26T22:30:48.834Z"
   },
   {
    "duration": 343,
    "start_time": "2025-01-26T22:31:02.171Z"
   },
   {
    "duration": 9,
    "start_time": "2025-01-26T22:33:37.072Z"
   },
   {
    "duration": 50,
    "start_time": "2025-01-26T22:34:24.247Z"
   },
   {
    "duration": 23,
    "start_time": "2025-01-26T22:35:54.789Z"
   },
   {
    "duration": 25,
    "start_time": "2025-01-26T22:37:13.833Z"
   },
   {
    "duration": 52,
    "start_time": "2025-01-26T22:37:50.762Z"
   },
   {
    "duration": 344,
    "start_time": "2025-01-26T22:38:39.452Z"
   },
   {
    "duration": 332,
    "start_time": "2025-01-26T22:39:01.559Z"
   },
   {
    "duration": 444,
    "start_time": "2025-01-26T22:39:30.680Z"
   },
   {
    "duration": 345,
    "start_time": "2025-01-26T22:39:53.879Z"
   },
   {
    "duration": 378,
    "start_time": "2025-01-26T22:40:52.653Z"
   },
   {
    "duration": 312,
    "start_time": "2025-01-26T22:41:29.390Z"
   },
   {
    "duration": 303,
    "start_time": "2025-01-26T22:42:03.591Z"
   },
   {
    "duration": 404,
    "start_time": "2025-01-26T22:42:24.589Z"
   },
   {
    "duration": 318,
    "start_time": "2025-01-26T22:42:31.011Z"
   },
   {
    "duration": 329,
    "start_time": "2025-01-26T22:42:38.887Z"
   },
   {
    "duration": 319,
    "start_time": "2025-01-26T22:43:10.850Z"
   },
   {
    "duration": 314,
    "start_time": "2025-01-26T22:43:24.247Z"
   },
   {
    "duration": 310,
    "start_time": "2025-01-26T22:44:53.709Z"
   },
   {
    "duration": 277,
    "start_time": "2025-01-26T22:45:31.918Z"
   },
   {
    "duration": 289,
    "start_time": "2025-01-26T22:46:05.014Z"
   },
   {
    "duration": 19,
    "start_time": "2025-01-26T22:47:04.761Z"
   },
   {
    "duration": 18,
    "start_time": "2025-01-26T22:47:48.119Z"
   },
   {
    "duration": 21,
    "start_time": "2025-01-26T22:48:37.126Z"
   },
   {
    "duration": 26,
    "start_time": "2025-01-26T22:48:43.045Z"
   },
   {
    "duration": 14,
    "start_time": "2025-01-26T22:48:43.536Z"
   },
   {
    "duration": 10,
    "start_time": "2025-01-26T22:48:43.978Z"
   },
   {
    "duration": 13,
    "start_time": "2025-01-26T22:48:44.429Z"
   },
   {
    "duration": 31,
    "start_time": "2025-01-26T22:48:45.352Z"
   },
   {
    "duration": 166,
    "start_time": "2025-01-26T22:49:54.573Z"
   },
   {
    "duration": 794,
    "start_time": "2025-01-26T22:50:06.480Z"
   },
   {
    "duration": 188,
    "start_time": "2025-01-26T22:50:18.309Z"
   },
   {
    "duration": 175,
    "start_time": "2025-01-26T22:50:59.970Z"
   },
   {
    "duration": 193,
    "start_time": "2025-01-26T22:52:12.452Z"
   },
   {
    "duration": 1214,
    "start_time": "2025-01-26T22:53:38.789Z"
   },
   {
    "duration": 913,
    "start_time": "2025-01-26T22:54:24.850Z"
   },
   {
    "duration": 379,
    "start_time": "2025-01-26T22:55:25.779Z"
   },
   {
    "duration": 393,
    "start_time": "2025-01-26T22:56:03.834Z"
   },
   {
    "duration": 281,
    "start_time": "2025-01-26T22:56:40.381Z"
   },
   {
    "duration": 203,
    "start_time": "2025-01-26T22:58:11.610Z"
   },
   {
    "duration": 472,
    "start_time": "2025-01-26T22:59:02.149Z"
   },
   {
    "duration": 203,
    "start_time": "2025-01-26T22:59:29.623Z"
   },
   {
    "duration": 244,
    "start_time": "2025-01-26T23:00:29.378Z"
   },
   {
    "duration": 23,
    "start_time": "2025-01-26T23:01:03.191Z"
   },
   {
    "duration": 145,
    "start_time": "2025-01-26T23:01:19.477Z"
   },
   {
    "duration": 200,
    "start_time": "2025-01-26T23:01:29.111Z"
   },
   {
    "duration": 170,
    "start_time": "2025-01-26T23:01:41.774Z"
   },
   {
    "duration": 256,
    "start_time": "2025-01-26T23:01:58.672Z"
   },
   {
    "duration": 226,
    "start_time": "2025-01-26T23:02:08.986Z"
   },
   {
    "duration": 194,
    "start_time": "2025-01-26T23:02:26.975Z"
   },
   {
    "duration": 170,
    "start_time": "2025-01-26T23:03:09.573Z"
   },
   {
    "duration": 200,
    "start_time": "2025-01-26T23:03:17.506Z"
   },
   {
    "duration": 207,
    "start_time": "2025-01-26T23:03:32.109Z"
   },
   {
    "duration": 46,
    "start_time": "2025-01-26T23:03:59.713Z"
   },
   {
    "duration": 4,
    "start_time": "2025-01-26T23:04:16.592Z"
   },
   {
    "duration": 4,
    "start_time": "2025-01-26T23:04:23.248Z"
   },
   {
    "duration": 4,
    "start_time": "2025-01-26T23:04:32.366Z"
   },
   {
    "duration": 347,
    "start_time": "2025-01-26T23:05:32.414Z"
   },
   {
    "duration": 425,
    "start_time": "2025-01-26T23:06:06.470Z"
   },
   {
    "duration": 202,
    "start_time": "2025-01-26T23:06:18.160Z"
   },
   {
    "duration": 94,
    "start_time": "2025-01-26T23:06:38.215Z"
   },
   {
    "duration": 235,
    "start_time": "2025-01-26T23:07:00.414Z"
   },
   {
    "duration": 238,
    "start_time": "2025-01-26T23:07:56.260Z"
   },
   {
    "duration": 780,
    "start_time": "2025-01-26T23:08:21.868Z"
   },
   {
    "duration": 155,
    "start_time": "2025-01-26T23:08:22.650Z"
   },
   {
    "duration": 10,
    "start_time": "2025-01-26T23:08:22.806Z"
   },
   {
    "duration": 6,
    "start_time": "2025-01-26T23:08:22.818Z"
   },
   {
    "duration": 7,
    "start_time": "2025-01-26T23:08:22.826Z"
   },
   {
    "duration": 10,
    "start_time": "2025-01-26T23:08:22.835Z"
   },
   {
    "duration": 4,
    "start_time": "2025-01-26T23:08:22.847Z"
   },
   {
    "duration": 9,
    "start_time": "2025-01-26T23:08:22.853Z"
   },
   {
    "duration": 51,
    "start_time": "2025-01-26T23:08:22.864Z"
   },
   {
    "duration": 42,
    "start_time": "2025-01-26T23:08:22.917Z"
   },
   {
    "duration": 20,
    "start_time": "2025-01-26T23:08:22.961Z"
   },
   {
    "duration": 38,
    "start_time": "2025-01-26T23:08:22.982Z"
   },
   {
    "duration": 11,
    "start_time": "2025-01-26T23:08:23.022Z"
   },
   {
    "duration": 23,
    "start_time": "2025-01-26T23:08:23.036Z"
   },
   {
    "duration": 10,
    "start_time": "2025-01-26T23:08:23.061Z"
   },
   {
    "duration": 40,
    "start_time": "2025-01-26T23:08:23.073Z"
   },
   {
    "duration": 14,
    "start_time": "2025-01-26T23:08:23.114Z"
   },
   {
    "duration": 44,
    "start_time": "2025-01-26T23:08:23.129Z"
   },
   {
    "duration": 34,
    "start_time": "2025-01-26T23:08:23.175Z"
   },
   {
    "duration": 16,
    "start_time": "2025-01-26T23:08:23.210Z"
   },
   {
    "duration": 5,
    "start_time": "2025-01-26T23:08:23.228Z"
   },
   {
    "duration": 25,
    "start_time": "2025-01-26T23:08:23.234Z"
   },
   {
    "duration": 12,
    "start_time": "2025-01-26T23:08:23.261Z"
   },
   {
    "duration": 34,
    "start_time": "2025-01-26T23:08:23.275Z"
   },
   {
    "duration": 12,
    "start_time": "2025-01-26T23:08:23.310Z"
   },
   {
    "duration": 24,
    "start_time": "2025-01-26T23:08:23.323Z"
   },
   {
    "duration": 29,
    "start_time": "2025-01-26T23:08:23.349Z"
   },
   {
    "duration": 394,
    "start_time": "2025-01-26T23:08:23.380Z"
   },
   {
    "duration": 211,
    "start_time": "2025-01-26T23:08:23.776Z"
   },
   {
    "duration": 4,
    "start_time": "2025-01-26T23:08:23.989Z"
   },
   {
    "duration": 286,
    "start_time": "2025-01-26T23:08:23.995Z"
   },
   {
    "duration": 352,
    "start_time": "2025-01-26T23:08:24.284Z"
   },
   {
    "duration": 0,
    "start_time": "2025-01-26T23:08:24.637Z"
   },
   {
    "duration": 0,
    "start_time": "2025-01-26T23:08:24.639Z"
   },
   {
    "duration": 1,
    "start_time": "2025-01-26T23:08:24.639Z"
   },
   {
    "duration": 362,
    "start_time": "2025-01-26T23:09:17.190Z"
   },
   {
    "duration": 31,
    "start_time": "2025-01-26T23:10:14.266Z"
   },
   {
    "duration": 166,
    "start_time": "2025-01-26T23:11:23.809Z"
   },
   {
    "duration": 166,
    "start_time": "2025-01-26T23:12:04.125Z"
   },
   {
    "duration": 122,
    "start_time": "2025-01-26T23:13:34.660Z"
   },
   {
    "duration": 259,
    "start_time": "2025-01-26T23:13:55.274Z"
   },
   {
    "duration": 42,
    "start_time": "2025-01-26T23:14:29.893Z"
   },
   {
    "duration": 29,
    "start_time": "2025-01-26T23:14:53.483Z"
   },
   {
    "duration": 204,
    "start_time": "2025-01-26T23:14:57.144Z"
   },
   {
    "duration": 118,
    "start_time": "2025-01-26T23:15:01.456Z"
   },
   {
    "duration": 51,
    "start_time": "2025-01-26T23:15:05.164Z"
   },
   {
    "duration": 74,
    "start_time": "2025-01-26T23:15:09.114Z"
   },
   {
    "duration": 46,
    "start_time": "2025-01-26T23:15:23.164Z"
   },
   {
    "duration": 333,
    "start_time": "2025-01-26T23:16:26.088Z"
   },
   {
    "duration": 318,
    "start_time": "2025-01-26T23:16:30.810Z"
   },
   {
    "duration": 333,
    "start_time": "2025-01-26T23:16:35.794Z"
   },
   {
    "duration": 855,
    "start_time": "2025-01-26T23:16:41.833Z"
   },
   {
    "duration": 159,
    "start_time": "2025-01-26T23:16:42.690Z"
   },
   {
    "duration": 9,
    "start_time": "2025-01-26T23:16:42.852Z"
   },
   {
    "duration": 5,
    "start_time": "2025-01-26T23:16:42.864Z"
   },
   {
    "duration": 7,
    "start_time": "2025-01-26T23:16:42.871Z"
   },
   {
    "duration": 10,
    "start_time": "2025-01-26T23:16:42.879Z"
   },
   {
    "duration": 22,
    "start_time": "2025-01-26T23:16:42.890Z"
   },
   {
    "duration": 10,
    "start_time": "2025-01-26T23:16:42.914Z"
   },
   {
    "duration": 15,
    "start_time": "2025-01-26T23:16:42.926Z"
   },
   {
    "duration": 65,
    "start_time": "2025-01-26T23:16:42.944Z"
   },
   {
    "duration": 16,
    "start_time": "2025-01-26T23:16:43.011Z"
   },
   {
    "duration": 17,
    "start_time": "2025-01-26T23:16:43.029Z"
   },
   {
    "duration": 11,
    "start_time": "2025-01-26T23:16:43.047Z"
   },
   {
    "duration": 49,
    "start_time": "2025-01-26T23:16:43.060Z"
   },
   {
    "duration": 9,
    "start_time": "2025-01-26T23:16:43.111Z"
   },
   {
    "duration": 13,
    "start_time": "2025-01-26T23:16:43.122Z"
   },
   {
    "duration": 13,
    "start_time": "2025-01-26T23:16:43.137Z"
   },
   {
    "duration": 70,
    "start_time": "2025-01-26T23:16:43.151Z"
   },
   {
    "duration": 14,
    "start_time": "2025-01-26T23:16:43.222Z"
   },
   {
    "duration": 16,
    "start_time": "2025-01-26T23:16:43.237Z"
   },
   {
    "duration": 4,
    "start_time": "2025-01-26T23:16:43.255Z"
   },
   {
    "duration": 48,
    "start_time": "2025-01-26T23:16:43.261Z"
   },
   {
    "duration": 14,
    "start_time": "2025-01-26T23:16:43.310Z"
   },
   {
    "duration": 8,
    "start_time": "2025-01-26T23:16:43.326Z"
   },
   {
    "duration": 11,
    "start_time": "2025-01-26T23:16:43.336Z"
   },
   {
    "duration": 25,
    "start_time": "2025-01-26T23:16:43.349Z"
   },
   {
    "duration": 56,
    "start_time": "2025-01-26T23:16:43.375Z"
   },
   {
    "duration": 442,
    "start_time": "2025-01-26T23:16:43.434Z"
   },
   {
    "duration": 210,
    "start_time": "2025-01-26T23:16:43.877Z"
   },
   {
    "duration": 4,
    "start_time": "2025-01-26T23:16:44.089Z"
   },
   {
    "duration": 241,
    "start_time": "2025-01-26T23:16:44.094Z"
   },
   {
    "duration": 345,
    "start_time": "2025-01-26T23:16:44.336Z"
   },
   {
    "duration": 1,
    "start_time": "2025-01-26T23:16:44.682Z"
   },
   {
    "duration": 0,
    "start_time": "2025-01-26T23:16:44.684Z"
   },
   {
    "duration": 0,
    "start_time": "2025-01-26T23:16:44.686Z"
   },
   {
    "duration": 285,
    "start_time": "2025-01-26T23:17:10.229Z"
   },
   {
    "duration": 226,
    "start_time": "2025-01-26T23:18:49.676Z"
   },
   {
    "duration": 18,
    "start_time": "2025-01-26T23:20:06.233Z"
   },
   {
    "duration": 223,
    "start_time": "2025-01-26T23:20:35.115Z"
   },
   {
    "duration": 221,
    "start_time": "2025-01-26T23:20:42.241Z"
   },
   {
    "duration": 222,
    "start_time": "2025-01-26T23:20:56.327Z"
   },
   {
    "duration": 47,
    "start_time": "2025-01-26T23:28:03.437Z"
   },
   {
    "duration": 125,
    "start_time": "2025-01-26T23:28:33.378Z"
   },
   {
    "duration": 859,
    "start_time": "2025-01-26T23:29:08.995Z"
   },
   {
    "duration": 238,
    "start_time": "2025-01-26T23:29:49.503Z"
   },
   {
    "duration": 249,
    "start_time": "2025-01-26T23:30:11.068Z"
   },
   {
    "duration": 261,
    "start_time": "2025-01-26T23:30:35.889Z"
   },
   {
    "duration": 248,
    "start_time": "2025-01-26T23:31:09.500Z"
   },
   {
    "duration": 229,
    "start_time": "2025-01-26T23:31:38.418Z"
   },
   {
    "duration": 6,
    "start_time": "2025-01-26T23:33:41.838Z"
   },
   {
    "duration": 8,
    "start_time": "2025-01-26T23:36:26.523Z"
   },
   {
    "duration": 240,
    "start_time": "2025-01-26T23:37:22.901Z"
   },
   {
    "duration": 279,
    "start_time": "2025-01-26T23:37:56.589Z"
   },
   {
    "duration": 249,
    "start_time": "2025-01-26T23:38:39.664Z"
   },
   {
    "duration": 18,
    "start_time": "2025-01-26T23:39:25.456Z"
   },
   {
    "duration": 10,
    "start_time": "2025-01-26T23:39:34.367Z"
   },
   {
    "duration": 366,
    "start_time": "2025-01-26T23:40:11.517Z"
   },
   {
    "duration": 382,
    "start_time": "2025-01-26T23:40:47.657Z"
   },
   {
    "duration": 480,
    "start_time": "2025-01-26T23:40:52.796Z"
   },
   {
    "duration": 15,
    "start_time": "2025-01-26T23:41:14.740Z"
   },
   {
    "duration": 6,
    "start_time": "2025-01-26T23:41:21.505Z"
   },
   {
    "duration": 17,
    "start_time": "2025-01-26T23:41:56.091Z"
   },
   {
    "duration": 17,
    "start_time": "2025-01-26T23:42:02.552Z"
   },
   {
    "duration": 9,
    "start_time": "2025-01-26T23:42:13.013Z"
   },
   {
    "duration": 8,
    "start_time": "2025-01-26T23:42:21.797Z"
   },
   {
    "duration": 8,
    "start_time": "2025-01-26T23:43:24.843Z"
   },
   {
    "duration": 11,
    "start_time": "2025-01-26T23:44:01.451Z"
   },
   {
    "duration": 6,
    "start_time": "2025-01-26T23:44:57.447Z"
   },
   {
    "duration": 7,
    "start_time": "2025-01-26T23:45:19.696Z"
   },
   {
    "duration": 192,
    "start_time": "2025-01-26T23:47:59.150Z"
   },
   {
    "duration": 10,
    "start_time": "2025-01-26T23:48:27.695Z"
   },
   {
    "duration": 193,
    "start_time": "2025-01-26T23:48:55.835Z"
   },
   {
    "duration": 166,
    "start_time": "2025-01-26T23:49:37.884Z"
   },
   {
    "duration": 362,
    "start_time": "2025-01-26T23:49:56.164Z"
   },
   {
    "duration": 224,
    "start_time": "2025-01-26T23:51:37.594Z"
   },
   {
    "duration": 196,
    "start_time": "2025-01-26T23:52:00.744Z"
   },
   {
    "duration": 7,
    "start_time": "2025-01-26T23:53:39.068Z"
   },
   {
    "duration": 29,
    "start_time": "2025-01-26T23:54:48.839Z"
   },
   {
    "duration": 26,
    "start_time": "2025-01-26T23:55:00.165Z"
   },
   {
    "duration": 14,
    "start_time": "2025-01-26T23:56:17.022Z"
   },
   {
    "duration": 85,
    "start_time": "2025-01-26T23:57:43.648Z"
   },
   {
    "duration": 103,
    "start_time": "2025-01-26T23:58:01.758Z"
   },
   {
    "duration": 104,
    "start_time": "2025-01-26T23:58:13.947Z"
   },
   {
    "duration": 105,
    "start_time": "2025-01-26T23:59:17.527Z"
   },
   {
    "duration": 18,
    "start_time": "2025-01-27T00:05:15.642Z"
   },
   {
    "duration": 7,
    "start_time": "2025-01-27T00:05:53.646Z"
   },
   {
    "duration": 6,
    "start_time": "2025-01-27T00:06:37.029Z"
   },
   {
    "duration": 7,
    "start_time": "2025-01-27T00:07:30.570Z"
   },
   {
    "duration": 6,
    "start_time": "2025-01-27T00:08:32.102Z"
   },
   {
    "duration": 6,
    "start_time": "2025-01-27T00:08:48.996Z"
   },
   {
    "duration": 6,
    "start_time": "2025-01-27T00:10:33.664Z"
   },
   {
    "duration": 8,
    "start_time": "2025-01-27T00:11:21.304Z"
   },
   {
    "duration": 7,
    "start_time": "2025-01-27T00:12:07.405Z"
   },
   {
    "duration": 6,
    "start_time": "2025-01-27T00:13:24.822Z"
   },
   {
    "duration": 18,
    "start_time": "2025-01-27T00:14:49.123Z"
   },
   {
    "duration": 18,
    "start_time": "2025-01-27T00:15:57.514Z"
   },
   {
    "duration": 30,
    "start_time": "2025-01-27T00:16:55.857Z"
   },
   {
    "duration": 18,
    "start_time": "2025-01-27T00:17:35.926Z"
   },
   {
    "duration": 15,
    "start_time": "2025-01-27T00:18:20.002Z"
   },
   {
    "duration": 20,
    "start_time": "2025-01-27T00:18:47.300Z"
   },
   {
    "duration": 34,
    "start_time": "2025-01-27T00:19:14.925Z"
   },
   {
    "duration": 34,
    "start_time": "2025-01-27T00:20:00.351Z"
   },
   {
    "duration": 30,
    "start_time": "2025-01-27T00:20:15.565Z"
   },
   {
    "duration": 30,
    "start_time": "2025-01-27T00:20:47.635Z"
   },
   {
    "duration": 30,
    "start_time": "2025-01-27T00:21:02.673Z"
   },
   {
    "duration": 7,
    "start_time": "2025-01-27T00:21:13.763Z"
   },
   {
    "duration": 11,
    "start_time": "2025-01-27T00:23:29.349Z"
   },
   {
    "duration": 9,
    "start_time": "2025-01-27T00:27:25.307Z"
   },
   {
    "duration": 5,
    "start_time": "2025-01-27T00:27:53.250Z"
   },
   {
    "duration": 4,
    "start_time": "2025-01-27T00:28:02.859Z"
   },
   {
    "duration": 5,
    "start_time": "2025-01-27T00:28:32.946Z"
   },
   {
    "duration": 7,
    "start_time": "2025-01-27T00:30:15.182Z"
   },
   {
    "duration": 6,
    "start_time": "2025-01-27T00:30:45.975Z"
   },
   {
    "duration": 7,
    "start_time": "2025-01-27T00:30:58.131Z"
   },
   {
    "duration": 10,
    "start_time": "2025-01-27T00:31:15.482Z"
   },
   {
    "duration": 864,
    "start_time": "2025-01-27T00:39:48.826Z"
   },
   {
    "duration": 169,
    "start_time": "2025-01-27T00:39:49.692Z"
   },
   {
    "duration": 8,
    "start_time": "2025-01-27T00:39:49.863Z"
   },
   {
    "duration": 5,
    "start_time": "2025-01-27T00:39:49.874Z"
   },
   {
    "duration": 8,
    "start_time": "2025-01-27T00:39:49.881Z"
   },
   {
    "duration": 23,
    "start_time": "2025-01-27T00:39:49.890Z"
   },
   {
    "duration": 4,
    "start_time": "2025-01-27T00:39:49.915Z"
   },
   {
    "duration": 8,
    "start_time": "2025-01-27T00:39:49.921Z"
   },
   {
    "duration": 21,
    "start_time": "2025-01-27T00:39:49.930Z"
   },
   {
    "duration": 69,
    "start_time": "2025-01-27T00:39:49.955Z"
   },
   {
    "duration": 16,
    "start_time": "2025-01-27T00:39:50.026Z"
   },
   {
    "duration": 18,
    "start_time": "2025-01-27T00:39:50.044Z"
   },
   {
    "duration": 12,
    "start_time": "2025-01-27T00:39:50.063Z"
   },
   {
    "duration": 47,
    "start_time": "2025-01-27T00:39:50.076Z"
   },
   {
    "duration": 9,
    "start_time": "2025-01-27T00:39:50.125Z"
   },
   {
    "duration": 14,
    "start_time": "2025-01-27T00:39:50.135Z"
   },
   {
    "duration": 20,
    "start_time": "2025-01-27T00:39:50.150Z"
   },
   {
    "duration": 69,
    "start_time": "2025-01-27T00:39:50.171Z"
   },
   {
    "duration": 13,
    "start_time": "2025-01-27T00:39:50.242Z"
   },
   {
    "duration": 16,
    "start_time": "2025-01-27T00:39:50.257Z"
   },
   {
    "duration": 4,
    "start_time": "2025-01-27T00:39:50.275Z"
   },
   {
    "duration": 59,
    "start_time": "2025-01-27T00:39:50.281Z"
   },
   {
    "duration": 25,
    "start_time": "2025-01-27T00:39:50.342Z"
   },
   {
    "duration": 16,
    "start_time": "2025-01-27T00:39:50.370Z"
   },
   {
    "duration": 19,
    "start_time": "2025-01-27T00:39:50.408Z"
   },
   {
    "duration": 34,
    "start_time": "2025-01-27T00:39:50.429Z"
   },
   {
    "duration": 52,
    "start_time": "2025-01-27T00:39:50.465Z"
   },
   {
    "duration": 402,
    "start_time": "2025-01-27T00:39:50.521Z"
   },
   {
    "duration": 204,
    "start_time": "2025-01-27T00:39:50.925Z"
   },
   {
    "duration": 6,
    "start_time": "2025-01-27T00:39:51.131Z"
   },
   {
    "duration": 237,
    "start_time": "2025-01-27T00:39:51.139Z"
   },
   {
    "duration": 262,
    "start_time": "2025-01-27T00:39:51.379Z"
   },
   {
    "duration": 8,
    "start_time": "2025-01-27T00:39:51.643Z"
   },
   {
    "duration": 116,
    "start_time": "2025-01-27T00:39:51.653Z"
   },
   {
    "duration": 110,
    "start_time": "2025-01-27T00:39:51.771Z"
   },
   {
    "duration": 384,
    "start_time": "2025-01-27T00:39:51.883Z"
   },
   {
    "duration": 11,
    "start_time": "2025-01-27T00:39:52.269Z"
   },
   {
    "duration": 352,
    "start_time": "2025-01-27T00:39:52.282Z"
   },
   {
    "duration": 306,
    "start_time": "2025-01-27T00:39:52.636Z"
   },
   {
    "duration": 14,
    "start_time": "2025-01-27T00:39:52.944Z"
   },
   {
    "duration": 230,
    "start_time": "2025-01-27T00:39:52.960Z"
   },
   {
    "duration": 0,
    "start_time": "2025-01-27T00:39:53.192Z"
   },
   {
    "duration": 7,
    "start_time": "2025-01-27T00:41:35.111Z"
   },
   {
    "duration": 7,
    "start_time": "2025-01-27T00:41:56.878Z"
   },
   {
    "duration": 7,
    "start_time": "2025-01-27T00:41:58.588Z"
   },
   {
    "duration": 810,
    "start_time": "2025-01-27T00:42:08.580Z"
   },
   {
    "duration": 154,
    "start_time": "2025-01-27T00:42:09.392Z"
   },
   {
    "duration": 9,
    "start_time": "2025-01-27T00:42:09.548Z"
   },
   {
    "duration": 5,
    "start_time": "2025-01-27T00:42:09.560Z"
   },
   {
    "duration": 8,
    "start_time": "2025-01-27T00:42:09.567Z"
   },
   {
    "duration": 9,
    "start_time": "2025-01-27T00:42:09.577Z"
   },
   {
    "duration": 24,
    "start_time": "2025-01-27T00:42:09.588Z"
   },
   {
    "duration": 9,
    "start_time": "2025-01-27T00:42:09.614Z"
   },
   {
    "duration": 21,
    "start_time": "2025-01-27T00:42:09.624Z"
   },
   {
    "duration": 62,
    "start_time": "2025-01-27T00:42:09.648Z"
   },
   {
    "duration": 17,
    "start_time": "2025-01-27T00:42:09.712Z"
   },
   {
    "duration": 17,
    "start_time": "2025-01-27T00:42:09.730Z"
   },
   {
    "duration": 21,
    "start_time": "2025-01-27T00:42:09.749Z"
   },
   {
    "duration": 45,
    "start_time": "2025-01-27T00:42:09.772Z"
   },
   {
    "duration": 11,
    "start_time": "2025-01-27T00:42:09.819Z"
   },
   {
    "duration": 14,
    "start_time": "2025-01-27T00:42:09.831Z"
   },
   {
    "duration": 18,
    "start_time": "2025-01-27T00:42:09.847Z"
   },
   {
    "duration": 70,
    "start_time": "2025-01-27T00:42:09.867Z"
   },
   {
    "duration": 13,
    "start_time": "2025-01-27T00:42:09.939Z"
   },
   {
    "duration": 19,
    "start_time": "2025-01-27T00:42:09.953Z"
   },
   {
    "duration": 5,
    "start_time": "2025-01-27T00:42:09.974Z"
   },
   {
    "duration": 60,
    "start_time": "2025-01-27T00:42:09.981Z"
   },
   {
    "duration": 18,
    "start_time": "2025-01-27T00:42:10.043Z"
   },
   {
    "duration": 14,
    "start_time": "2025-01-27T00:42:10.062Z"
   },
   {
    "duration": 38,
    "start_time": "2025-01-27T00:42:10.077Z"
   },
   {
    "duration": 32,
    "start_time": "2025-01-27T00:42:10.117Z"
   },
   {
    "duration": 31,
    "start_time": "2025-01-27T00:42:10.151Z"
   },
   {
    "duration": 380,
    "start_time": "2025-01-27T00:42:10.186Z"
   },
   {
    "duration": 207,
    "start_time": "2025-01-27T00:42:10.569Z"
   },
   {
    "duration": 6,
    "start_time": "2025-01-27T00:42:10.778Z"
   },
   {
    "duration": 240,
    "start_time": "2025-01-27T00:42:10.786Z"
   },
   {
    "duration": 272,
    "start_time": "2025-01-27T00:42:11.028Z"
   },
   {
    "duration": 12,
    "start_time": "2025-01-27T00:42:11.302Z"
   },
   {
    "duration": 107,
    "start_time": "2025-01-27T00:42:11.316Z"
   },
   {
    "duration": 110,
    "start_time": "2025-01-27T00:42:11.425Z"
   },
   {
    "duration": 417,
    "start_time": "2025-01-27T00:42:11.536Z"
   },
   {
    "duration": 10,
    "start_time": "2025-01-27T00:42:11.955Z"
   },
   {
    "duration": 367,
    "start_time": "2025-01-27T00:42:11.967Z"
   },
   {
    "duration": 305,
    "start_time": "2025-01-27T00:42:12.336Z"
   },
   {
    "duration": 14,
    "start_time": "2025-01-27T00:42:12.643Z"
   },
   {
    "duration": 6,
    "start_time": "2025-01-27T00:42:12.659Z"
   },
   {
    "duration": 6,
    "start_time": "2025-01-27T00:42:12.667Z"
   },
   {
    "duration": 9,
    "start_time": "2025-01-27T06:37:03.609Z"
   },
   {
    "duration": 156,
    "start_time": "2025-01-27T06:39:57.999Z"
   },
   {
    "duration": 2595,
    "start_time": "2025-01-27T06:40:05.914Z"
   },
   {
    "duration": 214,
    "start_time": "2025-01-27T06:40:08.511Z"
   },
   {
    "duration": 10,
    "start_time": "2025-01-27T06:40:08.727Z"
   },
   {
    "duration": 6,
    "start_time": "2025-01-27T06:40:08.739Z"
   },
   {
    "duration": 8,
    "start_time": "2025-01-27T06:40:08.746Z"
   },
   {
    "duration": 9,
    "start_time": "2025-01-27T06:40:08.756Z"
   },
   {
    "duration": 5,
    "start_time": "2025-01-27T06:40:08.766Z"
   },
   {
    "duration": 10,
    "start_time": "2025-01-27T06:40:08.772Z"
   },
   {
    "duration": 45,
    "start_time": "2025-01-27T06:40:08.783Z"
   },
   {
    "duration": 41,
    "start_time": "2025-01-27T06:40:08.831Z"
   },
   {
    "duration": 35,
    "start_time": "2025-01-27T06:40:08.874Z"
   },
   {
    "duration": 18,
    "start_time": "2025-01-27T06:40:08.910Z"
   },
   {
    "duration": 12,
    "start_time": "2025-01-27T06:40:08.929Z"
   },
   {
    "duration": 24,
    "start_time": "2025-01-27T06:40:08.942Z"
   },
   {
    "duration": 10,
    "start_time": "2025-01-27T06:40:08.968Z"
   },
   {
    "duration": 39,
    "start_time": "2025-01-27T06:40:08.979Z"
   },
   {
    "duration": 17,
    "start_time": "2025-01-27T06:40:09.020Z"
   },
   {
    "duration": 46,
    "start_time": "2025-01-27T06:40:09.038Z"
   },
   {
    "duration": 13,
    "start_time": "2025-01-27T06:40:09.108Z"
   },
   {
    "duration": 15,
    "start_time": "2025-01-27T06:40:09.123Z"
   },
   {
    "duration": 5,
    "start_time": "2025-01-27T06:40:09.140Z"
   },
   {
    "duration": 31,
    "start_time": "2025-01-27T06:40:09.147Z"
   },
   {
    "duration": 47,
    "start_time": "2025-01-27T06:40:09.179Z"
   },
   {
    "duration": 14,
    "start_time": "2025-01-27T06:40:09.228Z"
   },
   {
    "duration": 18,
    "start_time": "2025-01-27T06:40:09.244Z"
   },
   {
    "duration": 60,
    "start_time": "2025-01-27T06:40:09.263Z"
   },
   {
    "duration": 44,
    "start_time": "2025-01-27T06:40:09.325Z"
   },
   {
    "duration": 365,
    "start_time": "2025-01-27T06:40:09.375Z"
   },
   {
    "duration": 213,
    "start_time": "2025-01-27T06:40:09.743Z"
   },
   {
    "duration": 6,
    "start_time": "2025-01-27T06:40:09.958Z"
   },
   {
    "duration": 234,
    "start_time": "2025-01-27T06:40:09.967Z"
   },
   {
    "duration": 312,
    "start_time": "2025-01-27T06:40:10.202Z"
   },
   {
    "duration": 8,
    "start_time": "2025-01-27T06:40:10.516Z"
   },
   {
    "duration": 116,
    "start_time": "2025-01-27T06:40:10.526Z"
   },
   {
    "duration": 111,
    "start_time": "2025-01-27T06:40:10.644Z"
   },
   {
    "duration": 414,
    "start_time": "2025-01-27T06:40:10.756Z"
   },
   {
    "duration": 11,
    "start_time": "2025-01-27T06:40:11.172Z"
   },
   {
    "duration": 346,
    "start_time": "2025-01-27T06:40:11.186Z"
   },
   {
    "duration": 205,
    "start_time": "2025-01-27T06:40:11.533Z"
   },
   {
    "duration": 13,
    "start_time": "2025-01-27T06:40:11.739Z"
   },
   {
    "duration": 6,
    "start_time": "2025-01-27T06:40:11.754Z"
   },
   {
    "duration": 7,
    "start_time": "2025-01-27T06:40:11.762Z"
   },
   {
    "duration": 5,
    "start_time": "2025-01-27T06:49:52.987Z"
   },
   {
    "duration": 4,
    "start_time": "2025-01-27T06:50:19.205Z"
   },
   {
    "duration": 5,
    "start_time": "2025-01-27T06:50:48.302Z"
   },
   {
    "duration": 10,
    "start_time": "2025-01-27T06:51:14.950Z"
   },
   {
    "duration": 71,
    "start_time": "2025-01-27T06:51:30.326Z"
   },
   {
    "duration": 14,
    "start_time": "2025-01-27T06:51:39.391Z"
   }
  ],
  "colab": {
   "provenance": []
  },
  "kernelspec": {
   "display_name": "Python 3 (ipykernel)",
   "language": "python",
   "name": "python3"
  },
  "language_info": {
   "codemirror_mode": {
    "name": "ipython",
    "version": 3
   },
   "file_extension": ".py",
   "mimetype": "text/x-python",
   "name": "python",
   "nbconvert_exporter": "python",
   "pygments_lexer": "ipython3",
   "version": "3.9.19"
  },
  "toc": {
   "base_numbering": 1,
   "nav_menu": {},
   "number_sections": true,
   "sideBar": true,
   "skip_h1_title": false,
   "title_cell": "Table of Contents",
   "title_sidebar": "Contents",
   "toc_cell": false,
   "toc_position": {},
   "toc_section_display": true,
   "toc_window_display": true
  }
 },
 "nbformat": 4,
 "nbformat_minor": 1
}
