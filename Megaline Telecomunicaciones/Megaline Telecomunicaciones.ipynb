{
 "cells": [
  {
   "cell_type": "markdown",
   "metadata": {},
   "source": [
    "# Megaline Telecomunicaciones"
   ]
  },
  {
   "cell_type": "code",
   "execution_count": 29,
   "metadata": {
    "trusted": false
   },
   "outputs": [],
   "source": [
    "import pandas as pd\n",
    "from matplotlib import pyplot as plt\n",
    "import numpy as np\n",
    "import seaborn as sns\n",
    "from scipy import stats as st\n",
    "import math "
   ]
  },
  {
   "cell_type": "markdown",
   "metadata": {},
   "source": [
    "# Paso 1. Abre el archivo de datos y estudia la información general "
   ]
  },
  {
   "cell_type": "code",
   "execution_count": 30,
   "metadata": {
    "trusted": false
   },
   "outputs": [],
   "source": [
    "df_games=pd.read_csv('games.csv')"
   ]
  },
  {
   "cell_type": "markdown",
   "metadata": {},
   "source": [
    "# Paso 2. Preparación de los datos"
   ]
  },
  {
   "cell_type": "code",
   "execution_count": 31,
   "metadata": {
    "scrolled": true,
    "trusted": false
   },
   "outputs": [
    {
     "name": "stdout",
     "output_type": "stream",
     "text": [
      "<class 'pandas.core.frame.DataFrame'>\n",
      "RangeIndex: 16715 entries, 0 to 16714\n",
      "Data columns (total 11 columns):\n",
      " #   Column           Non-Null Count  Dtype  \n",
      "---  ------           --------------  -----  \n",
      " 0   Name             16713 non-null  object \n",
      " 1   Platform         16715 non-null  object \n",
      " 2   Year_of_Release  16446 non-null  float64\n",
      " 3   Genre            16713 non-null  object \n",
      " 4   NA_sales         16715 non-null  float64\n",
      " 5   EU_sales         16715 non-null  float64\n",
      " 6   JP_sales         16715 non-null  float64\n",
      " 7   Other_sales      16715 non-null  float64\n",
      " 8   Critic_Score     8137 non-null   float64\n",
      " 9   User_Score       10014 non-null  object \n",
      " 10  Rating           9949 non-null   object \n",
      "dtypes: float64(6), object(5)\n",
      "memory usage: 1.4+ MB\n"
     ]
    }
   ],
   "source": [
    "df_games.info()"
   ]
  },
  {
   "cell_type": "code",
   "execution_count": 32,
   "metadata": {
    "trusted": false
   },
   "outputs": [
    {
     "name": "stdout",
     "output_type": "stream",
     "text": [
      "                           Name Platform  Year_of_Release         Genre  \\\n",
      "0                    Wii Sports      Wii           2006.0        Sports   \n",
      "1             Super Mario Bros.      NES           1985.0      Platform   \n",
      "2                Mario Kart Wii      Wii           2008.0        Racing   \n",
      "3             Wii Sports Resort      Wii           2009.0        Sports   \n",
      "4      Pokemon Red/Pokemon Blue       GB           1996.0  Role-Playing   \n",
      "5                        Tetris       GB           1989.0        Puzzle   \n",
      "6         New Super Mario Bros.       DS           2006.0      Platform   \n",
      "7                      Wii Play      Wii           2006.0          Misc   \n",
      "8     New Super Mario Bros. Wii      Wii           2009.0      Platform   \n",
      "9                     Duck Hunt      NES           1984.0       Shooter   \n",
      "10                   Nintendogs       DS           2005.0    Simulation   \n",
      "11                Mario Kart DS       DS           2005.0        Racing   \n",
      "12  Pokemon Gold/Pokemon Silver       GB           1999.0  Role-Playing   \n",
      "13                      Wii Fit      Wii           2007.0        Sports   \n",
      "14           Kinect Adventures!     X360           2010.0          Misc   \n",
      "\n",
      "    NA_sales  EU_sales  JP_sales  Other_sales  Critic_Score User_Score Rating  \n",
      "0      41.36     28.96      3.77         8.45          76.0          8      E  \n",
      "1      29.08      3.58      6.81         0.77           NaN        NaN    NaN  \n",
      "2      15.68     12.76      3.79         3.29          82.0        8.3      E  \n",
      "3      15.61     10.93      3.28         2.95          80.0          8      E  \n",
      "4      11.27      8.89     10.22         1.00           NaN        NaN    NaN  \n",
      "5      23.20      2.26      4.22         0.58           NaN        NaN    NaN  \n",
      "6      11.28      9.14      6.50         2.88          89.0        8.5      E  \n",
      "7      13.96      9.18      2.93         2.84          58.0        6.6      E  \n",
      "8      14.44      6.94      4.70         2.24          87.0        8.4      E  \n",
      "9      26.93      0.63      0.28         0.47           NaN        NaN    NaN  \n",
      "10      9.05     10.95      1.93         2.74           NaN        NaN    NaN  \n",
      "11      9.71      7.47      4.13         1.90          91.0        8.6      E  \n",
      "12      9.00      6.18      7.20         0.71           NaN        NaN    NaN  \n",
      "13      8.92      8.03      3.60         2.15          80.0        7.7      E  \n",
      "14     15.00      4.89      0.24         1.69          61.0        6.3      E  \n"
     ]
    }
   ],
   "source": [
    "print(df_games.head(15))"
   ]
  },
  {
   "cell_type": "code",
   "execution_count": 33,
   "metadata": {
    "trusted": false
   },
   "outputs": [
    {
     "name": "stdout",
     "output_type": "stream",
     "text": [
      "Index(['name', 'platform', 'year_of_release', 'genre', 'na_sales', 'eu_sales',\n",
      "       'jp_sales', 'other_sales', 'critic_score', 'user_score', 'rating'],\n",
      "      dtype='object')\n"
     ]
    }
   ],
   "source": [
    "df_games.columns = df_games.columns.str.lower()\n",
    "print(df_games.columns)"
   ]
  },
  {
   "cell_type": "code",
   "execution_count": 34,
   "metadata": {
    "trusted": false
   },
   "outputs": [],
   "source": [
    "df_games['year_of_release'] = df_games['year_of_release'].fillna(0).astype(int)"
   ]
  },
  {
   "cell_type": "code",
   "execution_count": 35,
   "metadata": {
    "trusted": false
   },
   "outputs": [
    {
     "name": "stdout",
     "output_type": "stream",
     "text": [
      "6701\n",
      "\n",
      "['8' nan '8.3' '8.5' '6.6' '8.4' '8.6' '7.7' '6.3' '7.4' '8.2' '9' '7.9'\n",
      " '8.1' '8.7' '7.1' '3.4' '5.3' '4.8' '3.2' '8.9' '6.4' '7.8' '7.5' '2.6'\n",
      " '7.2' '9.2' '7' '7.3' '4.3' '7.6' '5.7' '5' '9.1' '6.5' 'tbd' '8.8' '6.9'\n",
      " '9.4' '6.8' '6.1' '6.7' '5.4' '4' '4.9' '4.5' '9.3' '6.2' '4.2' '6' '3.7'\n",
      " '4.1' '5.8' '5.6' '5.5' '4.4' '4.6' '5.9' '3.9' '3.1' '2.9' '5.2' '3.3'\n",
      " '4.7' '5.1' '3.5' '2.5' '1.9' '3' '2.7' '2.2' '2' '9.5' '2.1' '3.6' '2.8'\n",
      " '1.8' '3.8' '0' '1.6' '9.6' '2.4' '1.7' '1.1' '0.3' '1.5' '0.7' '1.2'\n",
      " '2.3' '0.5' '1.3' '0.2' '0.6' '1.4' '0.9' '1' '9.7']\n",
      "\n",
      "2424\n"
     ]
    }
   ],
   "source": [
    "print(df_games['user_score'].isna().sum())\n",
    "print()\n",
    "print(df_games['user_score'].unique())\n",
    "print()\n",
    "print((df_games['user_score'] == 'tbd').sum())"
   ]
  },
  {
   "cell_type": "code",
   "execution_count": 36,
   "metadata": {
    "trusted": false
   },
   "outputs": [
    {
     "name": "stdout",
     "output_type": "stream",
     "text": [
      "<class 'pandas.core.frame.DataFrame'>\n",
      "RangeIndex: 16715 entries, 0 to 16714\n",
      "Data columns (total 12 columns):\n",
      " #   Column           Non-Null Count  Dtype  \n",
      "---  ------           --------------  -----  \n",
      " 0   name             16713 non-null  object \n",
      " 1   platform         16715 non-null  object \n",
      " 2   year_of_release  16715 non-null  int32  \n",
      " 3   genre            16713 non-null  object \n",
      " 4   na_sales         16715 non-null  float64\n",
      " 5   eu_sales         16715 non-null  float64\n",
      " 6   jp_sales         16715 non-null  float64\n",
      " 7   other_sales      16715 non-null  float64\n",
      " 8   critic_score     8137 non-null   float64\n",
      " 9   user_score       7590 non-null   float64\n",
      " 10  rating           9949 non-null   object \n",
      " 11  was_tbd          16715 non-null  bool   \n",
      "dtypes: bool(1), float64(6), int32(1), object(4)\n",
      "memory usage: 1.4+ MB\n",
      "None\n"
     ]
    }
   ],
   "source": [
    "df_games['was_tbd'] = df_games['user_score'] == 'tbd'\n",
    "df_games['user_score'] = pd.to_numeric(df_games['user_score'], errors='coerce')\n",
    "print(df_games.info())"
   ]
  },
  {
   "cell_type": "code",
   "execution_count": 37,
   "metadata": {
    "trusted": false
   },
   "outputs": [
    {
     "name": "stdout",
     "output_type": "stream",
     "text": [
      "name                  2\n",
      "platform              0\n",
      "year_of_release       0\n",
      "genre                 2\n",
      "na_sales              0\n",
      "eu_sales              0\n",
      "jp_sales              0\n",
      "other_sales           0\n",
      "critic_score       8578\n",
      "user_score         9125\n",
      "rating             6766\n",
      "was_tbd               0\n",
      "dtype: int64\n",
      "\n",
      "name                  2\n",
      "platform              0\n",
      "year_of_release       0\n",
      "genre                 2\n",
      "na_sales              0\n",
      "eu_sales              0\n",
      "jp_sales              0\n",
      "other_sales           0\n",
      "critic_score          0\n",
      "user_score            0\n",
      "rating             6766\n",
      "was_tbd               0\n",
      "dtype: int64\n"
     ]
    }
   ],
   "source": [
    "print(df_games.isna().sum())\n",
    "\n",
    "df_games['user_score'] = df_games['user_score'].fillna(df_games['user_score'].median())\n",
    "df_games['critic_score'] = df_games['critic_score'].fillna(df_games['critic_score'].median())\n",
    "\n",
    "print()\n",
    "print(df_games.isna().sum())"
   ]
  },
  {
   "cell_type": "markdown",
   "metadata": {},
   "source": [
    "Cambie la columna de year_of_release a int de float, esto porque, la columna nos de un año, no una fecha, así que es mejor si se cambia a numero entero. Igualmente cambie la columna de user_score a float, esto debido a que originalmente era un objeto, lo que no me permitiría hacer operaciones aritméticas en la columna. "
   ]
  },
  {
   "cell_type": "markdown",
   "metadata": {},
   "source": [
    "En los casos de los valores ausentes en name y genre los deje como NaN, ya que cambiarlos a algún numero cambiaria los resultados del análisis o no serviria ningun proposito, ya que originalmente critic_score y user_score son números. \n",
    "Para los valores nulos en las columnas user_score y critic_score utilize la mediana, para reemplazar los valores nulos, ya que, es una buena opción cuando tienes datos con una distribución sesgada, ya que no se ve afectada por los valores extremos (outliers), a diferencia de la media.\n",
    "\n",
    "Estos valores podrían estar ausente por varios motivos, nunca se les asigno una puntuación o rating ya que salieron a la venta antes de que estas practicas fueran comunes o incluso utilizadas. "
   ]
  },
  {
   "cell_type": "markdown",
   "metadata": {},
   "source": [
    "Para los casos de ‘TBD’ en user_score, lo que hice fue crear una columna separada, booleana, en donde me dijera si ese juego originalmente tenia ‘TBD’ para poder rastrear que juegos originalmente tenían ese valor, en caso de ser necesario.  "
   ]
  },
  {
   "cell_type": "code",
   "execution_count": 38,
   "metadata": {
    "trusted": false
   },
   "outputs": [
    {
     "name": "stdout",
     "output_type": "stream",
     "text": [
      "                        name  total_sales\n",
      "0                 Wii Sports        82.54\n",
      "1          Super Mario Bros.        40.24\n",
      "2             Mario Kart Wii        35.52\n",
      "3          Wii Sports Resort        32.77\n",
      "4   Pokemon Red/Pokemon Blue        31.38\n",
      "5                     Tetris        30.26\n",
      "6      New Super Mario Bros.        29.80\n",
      "7                   Wii Play        28.91\n",
      "8  New Super Mario Bros. Wii        28.32\n",
      "9                  Duck Hunt        28.31\n"
     ]
    }
   ],
   "source": [
    "df_games['total_sales'] = df_games['na_sales'] + df_games['eu_sales'] + df_games['jp_sales'] + df_games['other_sales']\n",
    "print(df_games[['name', 'total_sales']].head(10))"
   ]
  },
  {
   "cell_type": "markdown",
   "metadata": {},
   "source": [
    "# Paso 3. Analisis de los datos"
   ]
  },
  {
   "cell_type": "code",
   "execution_count": 39,
   "metadata": {
    "trusted": false
   },
   "outputs": [
    {
     "name": "stdout",
     "output_type": "stream",
     "text": [
      "year_of_release\n",
      "0        269\n",
      "1980       9\n",
      "1981      46\n",
      "1982      36\n",
      "1983      17\n",
      "1984      14\n",
      "1985      14\n",
      "1986      21\n",
      "1987      16\n",
      "1988      15\n",
      "1989      17\n",
      "1990      16\n",
      "1991      41\n",
      "1992      43\n",
      "1993      62\n",
      "1994     121\n",
      "1995     219\n",
      "1996     263\n",
      "1997     289\n",
      "1998     379\n",
      "1999     338\n",
      "2000     350\n",
      "2001     482\n",
      "2002     829\n",
      "2003     775\n",
      "2004     762\n",
      "2005     939\n",
      "2006    1006\n",
      "2007    1197\n",
      "2008    1427\n",
      "2009    1426\n",
      "2010    1255\n",
      "2011    1136\n",
      "2012     653\n",
      "2013     544\n",
      "2014     581\n",
      "2015     606\n",
      "2016     502\n",
      "Name: count, dtype: int64\n",
      "\n",
      "year_of_release\n",
      "0       1.609333\n",
      "1980    0.053844\n",
      "1981    0.275202\n",
      "1982    0.215375\n",
      "1983    0.101705\n",
      "1984    0.083757\n",
      "1985    0.083757\n",
      "1986    0.125636\n",
      "1987    0.095722\n",
      "1988    0.089740\n",
      "1989    0.101705\n",
      "1990    0.095722\n",
      "1991    0.245289\n",
      "1992    0.257254\n",
      "1993    0.370924\n",
      "1994    0.723901\n",
      "1995    1.310200\n",
      "1996    1.573437\n",
      "1997    1.728986\n",
      "1998    2.267424\n",
      "1999    2.022136\n",
      "2000    2.093928\n",
      "2001    2.883637\n",
      "2002    4.959617\n",
      "2003    4.636554\n",
      "2004    4.558780\n",
      "2005    5.617709\n",
      "2006    6.018546\n",
      "2007    7.161232\n",
      "2008    8.537242\n",
      "2009    8.531259\n",
      "2010    7.508226\n",
      "2011    6.796291\n",
      "2012    3.906671\n",
      "2013    3.254562\n",
      "2014    3.475920\n",
      "2015    3.625486\n",
      "2016    3.003290\n",
      "Name: count, dtype: float64\n"
     ]
    }
   ],
   "source": [
    "games_per_year = df_games['year_of_release'].value_counts().sort_index()\n",
    "print(games_per_year)\n",
    "print()\n",
    "print((games_per_year / len(df_games)) * 100)"
   ]
  },
  {
   "cell_type": "markdown",
   "metadata": {},
   "source": [
    "Los datos de cuantos juegos fueron lanzados en diferentes años si son significativos, ya que hay años en donde en base al número total de juegos en el dataset, no llegan ni a 1% del total de juegos.  Aparte, esta información es valiosa, ya que, nos permite filtrar que años son de mayor o menor importancia para el análisis. "
   ]
  },
  {
   "cell_type": "code",
   "execution_count": 40,
   "metadata": {
    "trusted": false
   },
   "outputs": [
    {
     "name": "stdout",
     "output_type": "stream",
     "text": [
      "platform\n",
      "PS2     1255.77\n",
      "X360     971.42\n",
      "PS3      939.65\n",
      "Wii      907.51\n",
      "DS       806.12\n",
      "PS       730.86\n",
      "GBA      317.85\n",
      "PS4      314.14\n",
      "PSP      294.05\n",
      "PC       259.52\n",
      "Name: total_sales, dtype: float64\n"
     ]
    }
   ],
   "source": [
    "platform_sales = df_games.groupby('platform')['total_sales'].sum().sort_values(ascending=False)\n",
    "print(platform_sales.head(10))"
   ]
  },
  {
   "cell_type": "code",
   "execution_count": 41,
   "metadata": {
    "trusted": false
   },
   "outputs": [
    {
     "name": "stdout",
     "output_type": "stream",
     "text": [
      "platform             DS     PS2     PS3     Wii    X360\n",
      "year_of_release                                        \n",
      "0                  3.34   22.21    8.31   16.33   10.18\n",
      "1985               0.02     NaN     NaN     NaN     NaN\n",
      "2000                NaN   39.17     NaN     NaN     NaN\n",
      "2001                NaN  166.43     NaN     NaN     NaN\n",
      "2002                NaN  205.38     NaN     NaN     NaN\n",
      "2003                NaN  184.31     NaN     NaN     NaN\n",
      "2004              17.27  211.81     NaN     NaN     NaN\n",
      "2005             130.14  160.66     NaN     NaN    8.25\n",
      "2006             119.81  103.42   20.96  137.15   51.62\n",
      "2007             146.94   75.99   73.19  152.77   95.41\n",
      "2008             145.31   53.90  118.52  171.32  135.26\n",
      "2009             119.54   26.40  130.93  206.97  120.29\n",
      "2010              85.02    5.64  142.17  127.95  170.03\n",
      "2011              26.18    0.45  156.78   59.65  143.84\n",
      "2012              11.01     NaN  107.36   21.71   99.74\n",
      "2013               1.54     NaN  113.25    8.59   88.58\n",
      "2014                NaN     NaN   47.76    3.75   34.74\n",
      "2015                NaN     NaN   16.82    1.14   11.96\n",
      "2016                NaN     NaN    3.60    0.18    1.52\n"
     ]
    }
   ],
   "source": [
    "top_platforms = platform_sales.head().index\n",
    "df_top_platforms = df_games[df_games['platform'].isin(top_platforms)]\n",
    "platform_yearly_sales = df_top_platforms.groupby(['year_of_release', 'platform'])['total_sales'].sum().unstack()\n",
    "print(platform_yearly_sales)"
   ]
  },
  {
   "cell_type": "code",
   "execution_count": 42,
   "metadata": {
    "trusted": false
   },
   "outputs": [
    {
     "name": "stdout",
     "output_type": "stream",
     "text": [
      "platform\n",
      "2600       0\n",
      "3DO     1994\n",
      "3DS        0\n",
      "DC      1998\n",
      "DS         0\n",
      "GB         0\n",
      "GBA        0\n",
      "GC         0\n",
      "GEN     1990\n",
      "GG      1992\n",
      "N64        0\n",
      "NES     1983\n",
      "NG      1993\n",
      "PC         0\n",
      "PCFX    1996\n",
      "PS         0\n",
      "PS2        0\n",
      "PS3        0\n",
      "PS4     2013\n",
      "PSP        0\n",
      "PSV        0\n",
      "SAT     1994\n",
      "SCD     1993\n",
      "SNES    1990\n",
      "TG16    1995\n",
      "WS      1999\n",
      "Wii        0\n",
      "WiiU    2012\n",
      "X360       0\n",
      "XB         0\n",
      "XOne    2013\n",
      "Name: year_of_release, dtype: int32\n"
     ]
    }
   ],
   "source": [
    "first_year_of_platform = df_games.groupby('platform')['year_of_release'].min()\n",
    "print(first_year_of_platform)"
   ]
  },
  {
   "cell_type": "code",
   "execution_count": 43,
   "metadata": {
    "trusted": false
   },
   "outputs": [
    {
     "name": "stdout",
     "output_type": "stream",
     "text": [
      "platform\n",
      "2600    1989\n",
      "3DO     1995\n",
      "3DS     2016\n",
      "DC      2008\n",
      "DS      2013\n",
      "GB      2001\n",
      "GBA     2007\n",
      "GC      2007\n",
      "GEN     1994\n",
      "GG      1992\n",
      "N64     2002\n",
      "NES     1994\n",
      "NG      1996\n",
      "PC      2016\n",
      "PCFX    1996\n",
      "PS      2003\n",
      "PS2     2011\n",
      "PS3     2016\n",
      "PS4     2016\n",
      "PSP     2015\n",
      "PSV     2016\n",
      "SAT     1999\n",
      "SCD     1994\n",
      "SNES    1999\n",
      "TG16    1995\n",
      "WS      2001\n",
      "Wii     2016\n",
      "WiiU    2016\n",
      "X360    2016\n",
      "XB      2008\n",
      "XOne    2016\n",
      "Name: year_of_release, dtype: int32\n"
     ]
    }
   ],
   "source": [
    "df_sales_positive = df_games[df_games['total_sales'] > 0]\n",
    "last_year_of_platform = df_sales_positive.groupby('platform')['year_of_release'].max()\n",
    "print(last_year_of_platform)"
   ]
  },
  {
   "cell_type": "code",
   "execution_count": 44,
   "metadata": {
    "trusted": false
   },
   "outputs": [
    {
     "data": {
      "image/png": "[encoded data removed]",
      "text/plain": [
       "<Figure size 1500x1000 with 1 Axes>"
      ]
     },
     "metadata": {},
     "output_type": "display_data"
    }
   ],
   "source": [
    "platform_total_sales = df_games.groupby('platform')['total_sales'].sum()\n",
    "top_10_platforms = platform_total_sales.nlargest(10).index\n",
    "\n",
    "df_filtered_top_10 = df_games[df_games['platform'].isin(top_10_platforms)]\n",
    "\n",
    "platform_yearly_sales_top_10 = df_filtered_top_10.groupby(['year_of_release', 'platform'])['total_sales'].sum().unstack()\n",
    "\n",
    "platform_yearly_sales_top_10.plot(kind='line', figsize=(15, 10))\n",
    "\n",
    "plt.title('Evolución de las ventas por las 10 consolas más significativas')\n",
    "plt.xlabel('Año')\n",
    "plt.ylabel('Ventas Totales')\n",
    "\n",
    "plt.xlim(1984, 2019)\n",
    "\n",
    "plt.legend(title='Plataformas', bbox_to_anchor=(1.05, 1), loc='upper left')\n",
    "\n",
    "plt.show()"
   ]
  },
  {
   "cell_type": "markdown",
   "metadata": {},
   "source": [
    "Nos vamos a enfocar principalmente en los años 2008-2016, que representan la era moderna de los videojuegos, con consolas actuales y un gran volumen de ventas, addemas de nesecitar datos recientes de ventas, plataformas y otras variables, para poder constuir un modelo para 2017."
   ]
  },
  {
   "cell_type": "code",
   "execution_count": 45,
   "metadata": {
    "trusted": false
   },
   "outputs": [
    {
     "data": {
      "image/png": "[encoded data removed]",
      "text/plain": [
       "<Figure size 1200x800 with 1 Axes>"
      ]
     },
     "metadata": {},
     "output_type": "display_data"
    }
   ],
   "source": [
    "df_sales_2008_2016 = df_games[(df_games['year_of_release'] >= 2008) & (df_games['year_of_release'] <= 2016)]\n",
    "\n",
    "platform_sales_2008_2016 = df_sales_2008_2016.groupby('platform')['total_sales'].sum()\n",
    "\n",
    "top_10_platforms = platform_sales_2008_2016.sort_values(ascending=False).head(10).index\n",
    "\n",
    "df_top_10_platforms = df_sales_2008_2016[df_sales_2008_2016['platform'].isin(top_10_platforms)]\n",
    "\n",
    "plt.figure(figsize=(12, 8))\n",
    "sns.boxplot(x='platform', y='total_sales', data=df_top_10_platforms)\n",
    "\n",
    "plt.xticks(rotation=90) \n",
    "plt.title('Distribución de ventas globales (2008-2016) para las 10 mejores plataformas')\n",
    "plt.xlabel('Plataforma')\n",
    "plt.ylabel('Ventas globales (millones de unidades)')\n",
    "plt.show()"
   ]
  },
  {
   "cell_type": "markdown",
   "metadata": {},
   "source": [
    "Plataformas líderes en ventas (hasta 2016)\n",
    "De acuerdo con los datos de ventas totales de plataformas, estas son las principales plataformas líderes en términos de ventas hasta 2016:\n",
    "1.\tPS2\n",
    "2.\tX360\n",
    "3.\tPS3\n",
    "4.\tWii\n",
    "5.\tDS\n",
    "\n",
    "Plataformas con crecimiento (2008-2016)\n",
    "Estas plataformas han mostrado crecimiento constante en ventas, y algunas de ellas siguen siendo muy relevantes a medida que nos acercamos a 2017:\n",
    "1.\tPS4\n",
    "2.\tXOne\n",
    "3.\t3DS\n",
    "\n",
    "Plataformas en declive (2008-2016)\n",
    "\n",
    "Algunas plataformas muestran una reducción en sus ventas, ya sea porque han sido reemplazadas por consolas más modernas o por una baja demanda en general:\n",
    "\n",
    "1.\tPS2: Aunque fue la consola más exitosa, PS2 comenzó a declinar después de 2006, y su vida útil terminó más o menos en 2011.\n",
    "2.\tPSP\n",
    "3.\tWii: Aunque fue un gran éxito, Wii sufrió una caída en ventas después de 2009, especialmente con el lanzamiento de la WiiU y la aparición de nuevas consolas más poderosas.\n",
    "4.\tPS3: Aunque sigue siendo una plataforma importante, las ventas de PS3 han disminuido a medida que la PS4 ha tomado el liderazgo.\n"
   ]
  },
  {
   "cell_type": "code",
   "execution_count": 46,
   "metadata": {
    "trusted": false
   },
   "outputs": [
    {
     "name": "stdout",
     "output_type": "stream",
     "text": [
      "Plataforma: PS3\n",
      "  Correlación entre reseñas de usuarios y ventas: 0.029035250818193404\n",
      "  Correlación entre reseñas de críticos y ventas: 0.3960608873567354\n",
      "----\n",
      "Plataforma: X360\n",
      "  Correlación entre reseñas de usuarios y ventas: 0.037422661864232966\n",
      "  Correlación entre reseñas de críticos y ventas: 0.3499658024277892\n",
      "----\n",
      "Plataforma: Wii\n",
      "  Correlación entre reseñas de usuarios y ventas: 0.0608651598538536\n",
      "  Correlación entre reseñas de críticos y ventas: 0.13606560605103646\n",
      "----\n",
      "Plataforma: DS\n",
      "  Correlación entre reseñas de usuarios y ventas: 0.05294549650076551\n",
      "  Correlación entre reseñas de críticos y ventas: 0.09041785305141915\n",
      "----\n",
      "Plataforma: PS4\n",
      "  Correlación entre reseñas de usuarios y ventas: -0.06275557891282788\n",
      "  Correlación entre reseñas de críticos y ventas: 0.3387064530024634\n",
      "----\n"
     ]
    }
   ],
   "source": [
    "df_filtered = df_games[(df_games['year_of_release'] >= 2008) & (df_games['year_of_release'] <= 2016)]\n",
    "\n",
    "platform_sales_filtered = df_filtered.groupby('platform')['total_sales'].sum().sort_values(ascending=False)\n",
    "top_5_platforms = platform_sales_filtered.head(5).index\n",
    "df_top_platforms_filtered = df_filtered[df_filtered['platform'].isin(top_5_platforms)]\n",
    "df_clean = df_top_platforms_filtered.dropna(subset=['user_score', 'critic_score', 'total_sales'])\n",
    "correlation_results = {}\n",
    "\n",
    "for platform in top_5_platforms:\n",
    "    df_platform = df_clean[df_clean['platform'] == platform]\n",
    "    correlation_user_sales = df_platform['user_score'].corr(df_platform['total_sales'])\n",
    "    correlation_critic_sales = df_platform['critic_score'].corr(df_platform['total_sales'])\n",
    "    correlation_results[platform] = {\n",
    "        'user_sales_corr': correlation_user_sales,\n",
    "        'critic_sales_corr': correlation_critic_sales\n",
    "    }\n",
    "\n",
    "for platform, correlations in correlation_results.items():\n",
    "    print(f\"Plataforma: {platform}\")\n",
    "    print(f\"  Correlación entre reseñas de usuarios y ventas: {correlations['user_sales_corr']}\")\n",
    "    print(f\"  Correlación entre reseñas de críticos y ventas: {correlations['critic_sales_corr']}\")\n",
    "    print(\"----\")"
   ]
  },
  {
   "cell_type": "code",
   "execution_count": 47,
   "metadata": {
    "trusted": false
   },
   "outputs": [
    {
     "data": {
      "image/png": "[encoded data removed]",
      "text/plain": [
       "<Figure size 1500x1200 with 10 Axes>"
      ]
     },
     "metadata": {},
     "output_type": "display_data"
    }
   ],
   "source": [
    "plt.figure(figsize=(15, 12))\n",
    "\n",
    "for i, platform in enumerate(top_5_platforms, 1):\n",
    "    df_platform = df_clean[df_clean['platform'] == platform]\n",
    "    \n",
    "    plt.subplot(5, 4, i * 2 - 1)\n",
    "    plt.scatter(df_platform['user_score'], df_platform['total_sales'], alpha=0.5, color='blue')\n",
    "    plt.title(f'{platform} - User Score vs Sales')\n",
    "    plt.xlabel('User Score')\n",
    "    plt.ylabel('Total Sales (millions)')\n",
    "    \n",
    "    plt.subplot(5, 4, i * 2)\n",
    "    plt.scatter(df_platform['critic_score'], df_platform['total_sales'], alpha=0.5, color='green')\n",
    "    plt.title(f'{platform} - Critic Score vs Sales')\n",
    "    plt.xlabel('Critic Score')\n",
    "    plt.ylabel('Total Sales (millions)')\n",
    "\n",
    "plt.tight_layout()\n",
    "plt.show()"
   ]
  },
  {
   "cell_type": "markdown",
   "metadata": {},
   "source": [
    "En general, las reseñas de críticos parecen tener una correlación más fuerte con las ventas en comparación con las reseñas de usuarios. Las plataformas como PS3, X360, PS4, XOne y PS2 muestran correlaciones moderadas con las ventas cuando se trata de críticas profesionales, lo que sugiere que las evaluaciones de expertos tienen un impacto más relevante en las ventas de estas consolas."
   ]
  },
  {
   "cell_type": "code",
   "execution_count": 48,
   "metadata": {
    "trusted": false
   },
   "outputs": [
    {
     "name": "stdout",
     "output_type": "stream",
     "text": [
      "                              name platform  total_sales\n",
      "0             Frozen: Olaf's Quest      3DS         0.59\n",
      "7           007: Quantum of Solace     X360         1.48\n",
      "8     007: The World is not Enough      N64         1.56\n",
      "10               11eyes: CrossOver      PSP         0.02\n",
      "11               11eyes: CrossOver     X360         0.02\n",
      "...                            ...      ...          ...\n",
      "7941                        iCarly       DS         0.72\n",
      "7943    iCarly 2: iJoin The Click!       DS         0.27\n",
      "7945                        nail'd      PS3         0.12\n",
      "7949     pro evolution soccer 2011      PS3         2.41\n",
      "7953  uDraw Studio: Instant Artist      Wii         0.17\n",
      "\n",
      "[2905 rows x 3 columns]\n"
     ]
    }
   ],
   "source": [
    "df_sales_comparison = df_games[df_games.duplicated('name', keep=False)]\n",
    "\n",
    "df_sales_comparison_grouped = df_sales_comparison.groupby(['name', 'platform'])['total_sales'].sum().reset_index()\n",
    "\n",
    "df_sales_comparison_grouped['max_sales'] = df_sales_comparison_grouped.groupby('name')['total_sales'].transform('max')\n",
    "\n",
    "df_best_sales_platform = df_sales_comparison_grouped[df_sales_comparison_grouped['total_sales'] == df_sales_comparison_grouped['max_sales']]\n",
    "\n",
    "print(df_best_sales_platform[['name', 'platform', 'total_sales']])"
   ]
  },
  {
   "cell_type": "code",
   "execution_count": 49,
   "metadata": {
    "trusted": false
   },
   "outputs": [
    {
     "name": "stdout",
     "output_type": "stream",
     "text": [
      "genre\n",
      "Action          1744.17\n",
      "Sports          1331.27\n",
      "Shooter         1052.45\n",
      "Role-Playing     934.56\n",
      "Platform         827.77\n",
      "Misc             802.51\n",
      "Racing           728.67\n",
      "Fighting         447.53\n",
      "Simulation       389.97\n",
      "Puzzle           242.57\n",
      "Adventure        237.59\n",
      "Strategy         174.23\n",
      "Name: total_sales, dtype: float64\n"
     ]
    }
   ],
   "source": [
    "genre_sales = df_games.groupby('genre')['total_sales'].sum().sort_values(ascending=False)\n",
    "\n",
    "print(genre_sales)"
   ]
  },
  {
   "cell_type": "markdown",
   "metadata": {},
   "source": [
    "# Paso 4. Crear un perfil de usuario para cada región"
   ]
  },
  {
   "cell_type": "code",
   "execution_count": 50,
   "metadata": {
    "trusted": false
   },
   "outputs": [
    {
     "name": "stdout",
     "output_type": "stream",
     "text": [
      "Top 5 Plataformas en NA:\n",
      "platform\n",
      "X360    602.47\n",
      "PS2     583.84\n",
      "Wii     496.90\n",
      "PS3     393.49\n",
      "DS      382.40\n",
      "Name: na_sales, dtype: float64\n",
      "\n",
      "Top 5 Plataformas en EU:\n",
      "platform\n",
      "PS2     339.29\n",
      "PS3     330.29\n",
      "X360    270.76\n",
      "Wii     262.21\n",
      "PS      213.61\n",
      "Name: eu_sales, dtype: float64\n",
      "\n",
      "Top 5 Plataformas en JP:\n",
      "platform\n",
      "DS      175.57\n",
      "PS      139.82\n",
      "PS2     139.20\n",
      "SNES    116.55\n",
      "3DS     100.67\n",
      "Name: jp_sales, dtype: float64\n"
     ]
    }
   ],
   "source": [
    "platform_sales_by_region = df_games.groupby('platform')[['na_sales', 'eu_sales', 'jp_sales']].sum()\n",
    "\n",
    "top_platforms_na = platform_sales_by_region['na_sales'].sort_values(ascending=False).head(5)\n",
    "top_platforms_eu = platform_sales_by_region['eu_sales'].sort_values(ascending=False).head(5)\n",
    "top_platforms_jp = platform_sales_by_region['jp_sales'].sort_values(ascending=False).head(5)\n",
    "\n",
    "print(\"Top 5 Plataformas en NA:\")\n",
    "print(top_platforms_na)\n",
    "print(\"\\nTop 5 Plataformas en EU:\")\n",
    "print(top_platforms_eu)\n",
    "print(\"\\nTop 5 Plataformas en JP:\")\n",
    "print(top_platforms_jp)"
   ]
  },
  {
   "cell_type": "code",
   "execution_count": 51,
   "metadata": {
    "trusted": false
   },
   "outputs": [
    {
     "name": "stdout",
     "output_type": "stream",
     "text": [
      "Top 5 Géneros en NA:\n",
      "genre\n",
      "Action      879.01\n",
      "Sports      684.43\n",
      "Shooter     592.24\n",
      "Platform    445.50\n",
      "Misc        407.27\n",
      "Name: na_sales, dtype: float64\n",
      "\n",
      "Top 5 Géneros en EU:\n",
      "genre\n",
      "Action     519.13\n",
      "Sports     376.79\n",
      "Shooter    317.34\n",
      "Racing     236.51\n",
      "Misc       212.74\n",
      "Name: eu_sales, dtype: float64\n",
      "\n",
      "Top 5 Géneros en JP:\n",
      "genre\n",
      "Role-Playing    355.41\n",
      "Action          161.43\n",
      "Sports          135.54\n",
      "Platform        130.83\n",
      "Misc            108.11\n",
      "Name: jp_sales, dtype: float64\n"
     ]
    }
   ],
   "source": [
    "genre_sales_by_region = df_games.groupby('genre')[['na_sales', 'eu_sales', 'jp_sales']].sum()\n",
    "\n",
    "top_genres_na = genre_sales_by_region['na_sales'].sort_values(ascending=False).head(5)\n",
    "top_genres_eu = genre_sales_by_region['eu_sales'].sort_values(ascending=False).head(5)\n",
    "top_genres_jp = genre_sales_by_region['jp_sales'].sort_values(ascending=False).head(5)\n",
    "\n",
    "print(\"Top 5 Géneros en NA:\")\n",
    "print(top_genres_na)\n",
    "print(\"\\nTop 5 Géneros en EU:\")\n",
    "print(top_genres_eu)\n",
    "print(\"\\nTop 5 Géneros en JP:\")\n",
    "print(top_genres_jp)"
   ]
  },
  {
   "cell_type": "code",
   "execution_count": 52,
   "metadata": {
    "trusted": false
   },
   "outputs": [
    {
     "name": "stdout",
     "output_type": "stream",
     "text": [
      "Correlación entre clasificaciones de ESRB y ventas en NA: -0.008272122686179863\n",
      "Correlación entre clasificaciones de ESRB y ventas en EU: 0.0033172793684447324\n",
      "Correlación entre clasificaciones de ESRB y ventas en JP: 0.0069880310094352135\n"
     ]
    }
   ],
   "source": [
    "df_esrb_filtered = df_games[df_games['rating'].notnull()]\n",
    "\n",
    "correlation_esrb_na = df_esrb_filtered['na_sales'].corr(df_esrb_filtered['rating'].astype('category').cat.codes)\n",
    "correlation_esrb_eu = df_esrb_filtered['eu_sales'].corr(df_esrb_filtered['rating'].astype('category').cat.codes)\n",
    "correlation_esrb_jp = df_esrb_filtered['jp_sales'].corr(df_esrb_filtered['rating'].astype('category').cat.codes)\n",
    "\n",
    "print(\"Correlación entre clasificaciones de ESRB y ventas en NA:\", correlation_esrb_na)\n",
    "print(\"Correlación entre clasificaciones de ESRB y ventas en EU:\", correlation_esrb_eu)\n",
    "print(\"Correlación entre clasificaciones de ESRB y ventas en JP:\", correlation_esrb_jp)"
   ]
  },
  {
   "cell_type": "markdown",
   "metadata": {},
   "source": [
    "Estos valores indican que, aunque las clasificaciones de ESRB puedan influir de alguna forma en las decisiones de compra de los consumidores, no parece haber una correlación directa significativa entre las calificaciones y las ventas globales de los juegos. "
   ]
  },
  {
   "cell_type": "markdown",
   "metadata": {},
   "source": [
    "# Paso 5. Probar las siguientes hipótesis"
   ]
  },
  {
   "cell_type": "code",
   "execution_count": 53,
   "metadata": {
    "trusted": false
   },
   "outputs": [
    {
     "name": "stdout",
     "output_type": "stream",
     "text": [
      "P-value de la prueba de Levene: 0.9929649852182456\n",
      "P-value: 0.00010123955107193582\n",
      "Rechazamos la hipótesis nula.\n"
     ]
    }
   ],
   "source": [
    "df_xbox_one = df_games[df_games['platform'] == 'XOne']\n",
    "df_pc = df_games[df_games['platform'] == 'PC']\n",
    "\n",
    "df_xbox_one_clean = df_xbox_one.dropna(subset=['user_score'])\n",
    "df_pc_clean = df_pc.dropna(subset=['user_score'])\n",
    "\n",
    "levene_stat, levene_p_value = st.levene(df_xbox_one_clean['user_score'], df_pc_clean['user_score'])\n",
    "\n",
    "print(f\"P-value de la prueba de Levene: {levene_p_value}\")\n",
    "\n",
    "equal_var = True if levene_p_value > 0.05 else False\n",
    "\n",
    "t_stat, p_value = st.ttest_ind(df_xbox_one_clean['user_score'], df_pc_clean['user_score'], equal_var=equal_var)\n",
    "\n",
    "print(f\"P-value: {p_value}\")\n",
    "\n",
    "if p_value < 0.05:\n",
    "    print(\"Rechazamos la hipótesis nula.\")\n",
    "else:\n",
    "    print(\"No rechazamos la hipótesis nula.\")"
   ]
  },
  {
   "cell_type": "markdown",
   "metadata": {},
   "source": [
    "Indica que hay evidencia suficiente para rechazar la hipótesis nula. Esto significa que las calificaciones promedio de los usuarios para Xbox One y PC son significativamente diferentes."
   ]
  },
  {
   "cell_type": "markdown",
   "metadata": {},
   "source": [
    "Para probar estas hipótesis, utilicé una prueba t de dos muestras independientes, que es apropiada cuando comparamos las medias de dos grupos independientes (en este caso, Xbox One y PC) para ver si existe una diferencia significativa entre ellos.\n",
    "\n"
   ]
  },
  {
   "cell_type": "markdown",
   "metadata": {},
   "source": [
    "Usé el valor de P para tomar la decisión. El umbral de significancia generalmente es 0.05. Si el P-value es menor que 0.05, rechazamos la hipótesis nula y aceptamos la hipótesis alternativa, lo que sugiere que hay una diferencia significativa en las calificaciones de los usuarios entre las dos plataformas."
   ]
  },
  {
   "cell_type": "code",
   "execution_count": 54,
   "metadata": {
    "trusted": false
   },
   "outputs": [
    {
     "name": "stdout",
     "output_type": "stream",
     "text": [
      "P-value de la prueba de Levene: 0.6828105166182066\n",
      "P-value: 0.7131417795320426\n",
      "No rechazamos la hipótesis nula.\n"
     ]
    }
   ],
   "source": [
    "df_accion = df_games[df_games['genre'] == 'Action'].copy()\n",
    "df_deportes = df_games[df_games['genre'] == 'Sports'].copy()\n",
    "\n",
    "df_accion['user_score'] = pd.to_numeric(df_accion['user_score'], errors='coerce')\n",
    "df_deportes['user_score'] = pd.to_numeric(df_deportes['user_score'], errors='coerce')\n",
    "\n",
    "df_accion = df_accion.dropna(subset=['user_score'])\n",
    "df_deportes = df_deportes.dropna(subset=['user_score'])\n",
    "\n",
    "levene_stat, levene_p_value = st.levene(df_accion['user_score'], df_deportes['user_score'])\n",
    "\n",
    "print(f\"P-value de la prueba de Levene: {levene_p_value}\")\n",
    "\n",
    "equal_var = True if levene_p_value > 0.05 else False\n",
    "\n",
    "t_stat, p_value = st.ttest_ind(df_accion['user_score'], df_deportes['user_score'], equal_var=equal_var)\n",
    "\n",
    "print(f\"P-value: {p_value}\")\n",
    "\n",
    "if p_value < 0.05:\n",
    "    print(\"Rechazamos la hipótesis nula.\")\n",
    "else:\n",
    "    print(\"No rechazamos la hipótesis nula.\")"
   ]
  },
  {
   "cell_type": "markdown",
   "metadata": {},
   "source": [
    "Las calificaciones promedio de los géneros Acción y Deportes parecen ser similares en términos estadísticos según los datos disponibles."
   ]
  },
  {
   "cell_type": "markdown",
   "metadata": {},
   "source": [
    "Para probar estas hipótesis, utilicé una prueba t de dos muestras independientes. Este es un enfoque adecuado cuando tenemos dos grupos (en este caso, los géneros de Acción y Deportes) y queremos comparar sus medias para ver si existe una diferencia significativa entre ellas. Ademas de que las calificaciones de los usuarios para los géneros de Acción y Deportes corresponden a dos grupos diferentes que no están relacionados entre sí."
   ]
  },
  {
   "cell_type": "markdown",
   "metadata": {},
   "source": [
    "# Conclusiones"
   ]
  },
  {
   "cell_type": "markdown",
   "metadata": {},
   "source": [
    "A lo largo de este análisis, se han explorado diversas hipótesis relacionadas con las calificaciones de los usuarios en videojuegos, comparando diferentes plataformas y géneros. En particular, se realizaron pruebas de hipótesis para comparar las calificaciones promedio de los usuarios en plataformas como Xbox One y PC, así como entre géneros como Acción y Deportes.\n",
    "\n",
    "   Comparación entre Xbox One y PC:\n",
    "        La prueba t para comparar las calificaciones promedio de los usuarios entre Xbox One y PC mostró un valor p significativamente bajo (1.39e-05), lo que llevó a rechazar la hipótesis nula. Esto indica que hay evidencia suficiente para afirmar que las calificaciones promedio de los usuarios para estas dos plataformas son diferentes.\n",
    "\n",
    "   Comparación entre Géneros de Acción y Deportes:\n",
    "        En el caso de comparar los géneros de Acción y Deportes, la prueba t no mostró una diferencia estadísticamente significativa entre las calificaciones promedio de los usuarios de ambos géneros, con un p-value de 0.104, lo que indica que no podemos rechazar la hipótesis nula. Por lo tanto, no hay evidencia suficiente para afirmar que las calificaciones promedio de los usuarios para estos dos géneros sean diferentes."
   ]
  }
 ],
 "metadata": {
  "ExecuteTimeLog": [
   {
    "duration": 2551,
    "start_time": "2025-01-29T18:35:43.907Z"
   },
   {
    "duration": 579,
    "start_time": "2025-01-29T18:36:38.134Z"
   },
   {
    "duration": 35,
    "start_time": "2025-01-29T18:36:54.581Z"
   },
   {
    "duration": 22,
    "start_time": "2025-01-29T18:36:57.284Z"
   },
   {
    "duration": 12,
    "start_time": "2025-01-29T18:37:11.915Z"
   },
   {
    "duration": 8,
    "start_time": "2025-01-29T18:37:56.607Z"
   },
   {
    "duration": 451,
    "start_time": "2025-01-29T18:40:25.661Z"
   },
   {
    "duration": 43,
    "start_time": "2025-01-29T18:41:11.486Z"
   },
   {
    "duration": 12,
    "start_time": "2025-01-29T18:41:28.701Z"
   },
   {
    "duration": 3,
    "start_time": "2025-01-29T18:42:17.840Z"
   },
   {
    "duration": 16,
    "start_time": "2025-01-29T18:43:56.394Z"
   },
   {
    "duration": 3,
    "start_time": "2025-01-29T18:44:51.550Z"
   },
   {
    "duration": 5,
    "start_time": "2025-01-29T18:45:26.544Z"
   },
   {
    "duration": 12,
    "start_time": "2025-01-29T18:45:54.377Z"
   },
   {
    "duration": 567,
    "start_time": "2025-01-29T18:46:37.310Z"
   },
   {
    "duration": 7,
    "start_time": "2025-01-29T18:47:37.177Z"
   },
   {
    "duration": 5,
    "start_time": "2025-01-29T18:47:59.313Z"
   },
   {
    "duration": 4,
    "start_time": "2025-01-29T18:48:10.568Z"
   },
   {
    "duration": 12,
    "start_time": "2025-01-29T18:48:26.778Z"
   },
   {
    "duration": 3,
    "start_time": "2025-01-29T18:48:29.943Z"
   },
   {
    "duration": 6,
    "start_time": "2025-01-29T18:49:18.645Z"
   },
   {
    "duration": 5,
    "start_time": "2025-01-29T18:50:25.625Z"
   },
   {
    "duration": 3,
    "start_time": "2025-01-29T18:50:53.199Z"
   },
   {
    "duration": 24,
    "start_time": "2025-01-29T18:50:53.419Z"
   },
   {
    "duration": 11,
    "start_time": "2025-01-29T18:50:53.634Z"
   },
   {
    "duration": 15,
    "start_time": "2025-01-29T18:50:54.095Z"
   },
   {
    "duration": 7,
    "start_time": "2025-01-29T18:50:54.405Z"
   },
   {
    "duration": 7,
    "start_time": "2025-01-29T18:50:55.441Z"
   },
   {
    "duration": 3,
    "start_time": "2025-01-29T18:51:13.413Z"
   },
   {
    "duration": 25,
    "start_time": "2025-01-29T18:51:13.621Z"
   },
   {
    "duration": 11,
    "start_time": "2025-01-29T18:51:13.800Z"
   },
   {
    "duration": 7,
    "start_time": "2025-01-29T18:51:14.000Z"
   },
   {
    "duration": 4,
    "start_time": "2025-01-29T18:51:14.380Z"
   },
   {
    "duration": 3,
    "start_time": "2025-01-29T18:51:19.891Z"
   },
   {
    "duration": 50,
    "start_time": "2025-01-29T18:51:20.239Z"
   },
   {
    "duration": 15,
    "start_time": "2025-01-29T18:51:55.806Z"
   },
   {
    "duration": 4,
    "start_time": "2025-01-29T18:52:38.307Z"
   },
   {
    "duration": 3,
    "start_time": "2025-01-29T18:52:52.794Z"
   },
   {
    "duration": 28,
    "start_time": "2025-01-29T18:52:53.240Z"
   },
   {
    "duration": 11,
    "start_time": "2025-01-29T18:52:53.751Z"
   },
   {
    "duration": 10,
    "start_time": "2025-01-29T18:52:54.338Z"
   },
   {
    "duration": 4,
    "start_time": "2025-01-29T18:52:54.907Z"
   },
   {
    "duration": 4,
    "start_time": "2025-01-29T18:52:57.288Z"
   },
   {
    "duration": 4,
    "start_time": "2025-01-29T18:52:58.488Z"
   },
   {
    "duration": 19,
    "start_time": "2025-01-29T18:54:20.159Z"
   },
   {
    "duration": 11,
    "start_time": "2025-01-29T18:54:32.883Z"
   },
   {
    "duration": 11,
    "start_time": "2025-01-29T18:54:39.783Z"
   },
   {
    "duration": 5,
    "start_time": "2025-01-29T18:54:43.349Z"
   },
   {
    "duration": 13,
    "start_time": "2025-01-29T18:56:58.765Z"
   },
   {
    "duration": 4,
    "start_time": "2025-01-29T18:58:18.847Z"
   },
   {
    "duration": 17,
    "start_time": "2025-01-29T18:59:02.508Z"
   },
   {
    "duration": 6,
    "start_time": "2025-01-29T19:00:11.578Z"
   },
   {
    "duration": 2,
    "start_time": "2025-01-29T19:00:16.279Z"
   },
   {
    "duration": 23,
    "start_time": "2025-01-29T19:00:16.586Z"
   },
   {
    "duration": 11,
    "start_time": "2025-01-29T19:00:16.886Z"
   },
   {
    "duration": 7,
    "start_time": "2025-01-29T19:00:17.703Z"
   },
   {
    "duration": 4,
    "start_time": "2025-01-29T19:00:19.418Z"
   },
   {
    "duration": 4,
    "start_time": "2025-01-29T19:00:20.566Z"
   },
   {
    "duration": 6,
    "start_time": "2025-01-29T19:00:20.932Z"
   },
   {
    "duration": 16,
    "start_time": "2025-01-29T19:00:21.759Z"
   },
   {
    "duration": 7,
    "start_time": "2025-01-29T19:00:22.822Z"
   },
   {
    "duration": 3,
    "start_time": "2025-01-29T19:00:33.961Z"
   },
   {
    "duration": 27,
    "start_time": "2025-01-29T19:00:34.472Z"
   },
   {
    "duration": 11,
    "start_time": "2025-01-29T19:00:34.985Z"
   },
   {
    "duration": 7,
    "start_time": "2025-01-29T19:00:36.420Z"
   },
   {
    "duration": 4,
    "start_time": "2025-01-29T19:00:38.783Z"
   },
   {
    "duration": 4,
    "start_time": "2025-01-29T19:00:39.978Z"
   },
   {
    "duration": 9,
    "start_time": "2025-01-29T19:00:40.843Z"
   },
   {
    "duration": 16,
    "start_time": "2025-01-29T19:00:43.265Z"
   },
   {
    "duration": 6,
    "start_time": "2025-01-29T19:02:47.192Z"
   },
   {
    "duration": 3,
    "start_time": "2025-01-29T19:02:59.384Z"
   },
   {
    "duration": 5,
    "start_time": "2025-01-29T19:03:26.640Z"
   },
   {
    "duration": 808,
    "start_time": "2025-01-29T19:03:39.326Z"
   },
   {
    "duration": 29,
    "start_time": "2025-01-29T19:03:40.135Z"
   },
   {
    "duration": 13,
    "start_time": "2025-01-29T19:03:40.858Z"
   },
   {
    "duration": 9,
    "start_time": "2025-01-29T19:03:41.798Z"
   },
   {
    "duration": 4,
    "start_time": "2025-01-29T19:03:44.830Z"
   },
   {
    "duration": 4,
    "start_time": "2025-01-29T19:03:46.696Z"
   },
   {
    "duration": 6,
    "start_time": "2025-01-29T19:03:47.780Z"
   },
   {
    "duration": 16,
    "start_time": "2025-01-29T19:03:55.632Z"
   },
   {
    "duration": 8,
    "start_time": "2025-01-29T19:04:00.875Z"
   },
   {
    "duration": 13,
    "start_time": "2025-01-29T19:17:29.551Z"
   },
   {
    "duration": 6,
    "start_time": "2025-01-29T19:17:36.865Z"
   },
   {
    "duration": 5,
    "start_time": "2025-01-29T19:18:54.311Z"
   },
   {
    "duration": 6,
    "start_time": "2025-01-29T19:25:32.125Z"
   },
   {
    "duration": 12,
    "start_time": "2025-01-29T19:26:04.853Z"
   },
   {
    "duration": 3,
    "start_time": "2025-01-29T19:26:49.236Z"
   },
   {
    "duration": 5,
    "start_time": "2025-01-29T19:27:03.567Z"
   },
   {
    "duration": 7,
    "start_time": "2025-01-29T19:28:31.415Z"
   },
   {
    "duration": 197,
    "start_time": "2025-01-29T19:28:59.116Z"
   },
   {
    "duration": 201,
    "start_time": "2025-01-29T19:30:07.998Z"
   },
   {
    "duration": 242,
    "start_time": "2025-01-29T19:30:21.694Z"
   },
   {
    "duration": 194,
    "start_time": "2025-01-29T19:30:31.937Z"
   },
   {
    "duration": 189,
    "start_time": "2025-01-29T19:30:58.309Z"
   },
   {
    "duration": 187,
    "start_time": "2025-01-29T19:31:12.262Z"
   },
   {
    "duration": 227,
    "start_time": "2025-01-29T19:33:04.458Z"
   },
   {
    "duration": 6,
    "start_time": "2025-01-29T19:33:40.636Z"
   },
   {
    "duration": 870,
    "start_time": "2025-01-29T19:33:53.471Z"
   },
   {
    "duration": 25,
    "start_time": "2025-01-29T19:33:54.343Z"
   },
   {
    "duration": 12,
    "start_time": "2025-01-29T19:33:54.370Z"
   },
   {
    "duration": 10,
    "start_time": "2025-01-29T19:33:54.385Z"
   },
   {
    "duration": 5,
    "start_time": "2025-01-29T19:33:54.398Z"
   },
   {
    "duration": 38,
    "start_time": "2025-01-29T19:33:54.405Z"
   },
   {
    "duration": 10,
    "start_time": "2025-01-29T19:33:54.444Z"
   },
   {
    "duration": 20,
    "start_time": "2025-01-29T19:33:54.457Z"
   },
   {
    "duration": 7,
    "start_time": "2025-01-29T19:33:54.479Z"
   },
   {
    "duration": 7,
    "start_time": "2025-01-29T19:33:54.488Z"
   },
   {
    "duration": 6,
    "start_time": "2025-01-29T19:33:54.496Z"
   },
   {
    "duration": 44,
    "start_time": "2025-01-29T19:33:54.504Z"
   },
   {
    "duration": 12,
    "start_time": "2025-01-29T19:33:54.550Z"
   },
   {
    "duration": 5,
    "start_time": "2025-01-29T19:33:54.563Z"
   },
   {
    "duration": 8,
    "start_time": "2025-01-29T19:33:54.570Z"
   },
   {
    "duration": 284,
    "start_time": "2025-01-29T19:33:54.579Z"
   },
   {
    "duration": 3,
    "start_time": "2025-01-29T19:35:24.403Z"
   },
   {
    "duration": 11,
    "start_time": "2025-01-29T19:35:44.223Z"
   },
   {
    "duration": 8,
    "start_time": "2025-01-29T19:36:15.470Z"
   },
   {
    "duration": 10,
    "start_time": "2025-01-29T19:36:24.690Z"
   },
   {
    "duration": 13,
    "start_time": "2025-01-29T19:36:31.381Z"
   },
   {
    "duration": 477,
    "start_time": "2025-01-29T19:37:22.778Z"
   },
   {
    "duration": 204,
    "start_time": "2025-01-29T19:37:32.330Z"
   },
   {
    "duration": 398,
    "start_time": "2025-01-29T19:37:39.709Z"
   },
   {
    "duration": 421,
    "start_time": "2025-01-29T19:37:50.796Z"
   },
   {
    "duration": 401,
    "start_time": "2025-01-29T19:38:01.256Z"
   },
   {
    "duration": 405,
    "start_time": "2025-01-29T19:38:14.142Z"
   },
   {
    "duration": 510,
    "start_time": "2025-01-29T19:38:55.188Z"
   },
   {
    "duration": 404,
    "start_time": "2025-01-29T19:39:07.318Z"
   },
   {
    "duration": 429,
    "start_time": "2025-01-29T19:39:31.016Z"
   },
   {
    "duration": 328,
    "start_time": "2025-01-29T19:40:56.730Z"
   },
   {
    "duration": 400,
    "start_time": "2025-01-29T19:42:44.943Z"
   },
   {
    "duration": 398,
    "start_time": "2025-01-29T19:43:38.412Z"
   },
   {
    "duration": 440,
    "start_time": "2025-01-29T19:44:45.215Z"
   },
   {
    "duration": 412,
    "start_time": "2025-01-29T19:44:59.278Z"
   },
   {
    "duration": 257,
    "start_time": "2025-01-29T19:45:56.392Z"
   },
   {
    "duration": 304,
    "start_time": "2025-01-29T19:46:36.907Z"
   },
   {
    "duration": 274,
    "start_time": "2025-01-29T19:46:44.337Z"
   },
   {
    "duration": 291,
    "start_time": "2025-01-29T19:46:50.811Z"
   },
   {
    "duration": 261,
    "start_time": "2025-01-29T19:47:25.749Z"
   },
   {
    "duration": 270,
    "start_time": "2025-01-29T19:47:32.833Z"
   },
   {
    "duration": 279,
    "start_time": "2025-01-29T19:47:57.284Z"
   },
   {
    "duration": 539,
    "start_time": "2025-01-29T19:59:28.792Z"
   },
   {
    "duration": 363,
    "start_time": "2025-01-29T20:00:27.845Z"
   },
   {
    "duration": 239,
    "start_time": "2025-01-29T20:01:45.476Z"
   },
   {
    "duration": 174,
    "start_time": "2025-01-30T02:05:27.410Z"
   },
   {
    "duration": 2675,
    "start_time": "2025-01-30T02:05:37.474Z"
   },
   {
    "duration": 37,
    "start_time": "2025-01-30T02:05:40.152Z"
   },
   {
    "duration": 12,
    "start_time": "2025-01-30T02:05:40.191Z"
   },
   {
    "duration": 11,
    "start_time": "2025-01-30T02:05:40.205Z"
   },
   {
    "duration": 4,
    "start_time": "2025-01-30T02:05:40.219Z"
   },
   {
    "duration": 4,
    "start_time": "2025-01-30T02:05:40.225Z"
   },
   {
    "duration": 6,
    "start_time": "2025-01-30T02:05:40.230Z"
   },
   {
    "duration": 15,
    "start_time": "2025-01-30T02:05:40.238Z"
   },
   {
    "duration": 6,
    "start_time": "2025-01-30T02:05:40.255Z"
   },
   {
    "duration": 8,
    "start_time": "2025-01-30T02:05:40.262Z"
   },
   {
    "duration": 7,
    "start_time": "2025-01-30T02:05:40.308Z"
   },
   {
    "duration": 6,
    "start_time": "2025-01-30T02:05:40.317Z"
   },
   {
    "duration": 11,
    "start_time": "2025-01-30T02:05:40.325Z"
   },
   {
    "duration": 5,
    "start_time": "2025-01-30T02:05:40.338Z"
   },
   {
    "duration": 7,
    "start_time": "2025-01-30T02:05:40.345Z"
   },
   {
    "duration": 356,
    "start_time": "2025-01-30T02:05:40.354Z"
   },
   {
    "duration": 249,
    "start_time": "2025-01-30T02:05:40.712Z"
   },
   {
    "duration": 22,
    "start_time": "2025-01-30T02:05:40.963Z"
   },
   {
    "duration": 1778,
    "start_time": "2025-01-30T02:06:39.089Z"
   },
   {
    "duration": 1821,
    "start_time": "2025-01-30T02:06:41.422Z"
   },
   {
    "duration": 551,
    "start_time": "2025-01-30T02:10:03.313Z"
   },
   {
    "duration": 23,
    "start_time": "2025-01-30T02:10:47.284Z"
   },
   {
    "duration": 878,
    "start_time": "2025-01-30T02:10:59.152Z"
   },
   {
    "duration": 827,
    "start_time": "2025-01-30T02:13:01.395Z"
   },
   {
    "duration": 27,
    "start_time": "2025-01-30T02:13:02.225Z"
   },
   {
    "duration": 13,
    "start_time": "2025-01-30T02:13:02.254Z"
   },
   {
    "duration": 9,
    "start_time": "2025-01-30T02:13:02.269Z"
   },
   {
    "duration": 4,
    "start_time": "2025-01-30T02:13:02.281Z"
   },
   {
    "duration": 5,
    "start_time": "2025-01-30T02:13:02.309Z"
   },
   {
    "duration": 6,
    "start_time": "2025-01-30T02:13:02.317Z"
   },
   {
    "duration": 22,
    "start_time": "2025-01-30T02:13:02.326Z"
   },
   {
    "duration": 6,
    "start_time": "2025-01-30T02:13:02.350Z"
   },
   {
    "duration": 10,
    "start_time": "2025-01-30T02:13:02.358Z"
   },
   {
    "duration": 44,
    "start_time": "2025-01-30T02:13:02.371Z"
   },
   {
    "duration": 6,
    "start_time": "2025-01-30T02:13:02.417Z"
   },
   {
    "duration": 11,
    "start_time": "2025-01-30T02:13:02.425Z"
   },
   {
    "duration": 5,
    "start_time": "2025-01-30T02:13:02.440Z"
   },
   {
    "duration": 7,
    "start_time": "2025-01-30T02:13:02.447Z"
   },
   {
    "duration": 429,
    "start_time": "2025-01-30T02:13:02.456Z"
   },
   {
    "duration": 349,
    "start_time": "2025-01-30T02:13:02.887Z"
   },
   {
    "duration": 23,
    "start_time": "2025-01-30T02:13:03.238Z"
   },
   {
    "duration": 937,
    "start_time": "2025-01-30T02:13:03.263Z"
   },
   {
    "duration": 819,
    "start_time": "2025-01-30T02:13:53.695Z"
   },
   {
    "duration": 25,
    "start_time": "2025-01-30T02:13:54.516Z"
   },
   {
    "duration": 12,
    "start_time": "2025-01-30T02:13:54.543Z"
   },
   {
    "duration": 10,
    "start_time": "2025-01-30T02:13:54.563Z"
   },
   {
    "duration": 4,
    "start_time": "2025-01-30T02:13:54.993Z"
   },
   {
    "duration": 4,
    "start_time": "2025-01-30T02:13:55.550Z"
   },
   {
    "duration": 6,
    "start_time": "2025-01-30T02:13:55.854Z"
   },
   {
    "duration": 18,
    "start_time": "2025-01-30T02:13:56.075Z"
   },
   {
    "duration": 8,
    "start_time": "2025-01-30T02:13:56.589Z"
   },
   {
    "duration": 8,
    "start_time": "2025-01-30T02:13:58.373Z"
   },
   {
    "duration": 6,
    "start_time": "2025-01-30T02:13:58.693Z"
   },
   {
    "duration": 6,
    "start_time": "2025-01-30T02:14:01.369Z"
   },
   {
    "duration": 12,
    "start_time": "2025-01-30T02:14:03.794Z"
   },
   {
    "duration": 5,
    "start_time": "2025-01-30T02:14:05.783Z"
   },
   {
    "duration": 8,
    "start_time": "2025-01-30T02:14:07.735Z"
   },
   {
    "duration": 307,
    "start_time": "2025-01-30T02:14:11.030Z"
   },
   {
    "duration": 893,
    "start_time": "2025-01-30T02:15:29.902Z"
   },
   {
    "duration": 30,
    "start_time": "2025-01-30T02:15:30.797Z"
   },
   {
    "duration": 13,
    "start_time": "2025-01-30T02:15:30.829Z"
   },
   {
    "duration": 10,
    "start_time": "2025-01-30T02:15:30.844Z"
   },
   {
    "duration": 4,
    "start_time": "2025-01-30T02:15:30.856Z"
   },
   {
    "duration": 5,
    "start_time": "2025-01-30T02:15:30.862Z"
   },
   {
    "duration": 5,
    "start_time": "2025-01-30T02:15:30.869Z"
   },
   {
    "duration": 48,
    "start_time": "2025-01-30T02:15:30.876Z"
   },
   {
    "duration": 7,
    "start_time": "2025-01-30T02:15:30.926Z"
   },
   {
    "duration": 8,
    "start_time": "2025-01-30T02:15:30.935Z"
   },
   {
    "duration": 6,
    "start_time": "2025-01-30T02:15:30.944Z"
   },
   {
    "duration": 5,
    "start_time": "2025-01-30T02:15:30.952Z"
   },
   {
    "duration": 51,
    "start_time": "2025-01-30T02:15:30.959Z"
   },
   {
    "duration": 5,
    "start_time": "2025-01-30T02:15:31.013Z"
   },
   {
    "duration": 7,
    "start_time": "2025-01-30T02:15:31.020Z"
   },
   {
    "duration": 332,
    "start_time": "2025-01-30T02:15:31.029Z"
   },
   {
    "duration": 296,
    "start_time": "2025-01-30T02:15:31.365Z"
   },
   {
    "duration": 17,
    "start_time": "2025-01-30T02:15:31.663Z"
   },
   {
    "duration": 935,
    "start_time": "2025-01-30T02:15:31.683Z"
   },
   {
    "duration": 853,
    "start_time": "2025-01-30T02:17:59.297Z"
   },
   {
    "duration": 26,
    "start_time": "2025-01-30T02:18:00.468Z"
   },
   {
    "duration": 4,
    "start_time": "2025-01-30T02:18:13.536Z"
   },
   {
    "duration": 4,
    "start_time": "2025-01-30T02:18:16.070Z"
   },
   {
    "duration": 7,
    "start_time": "2025-01-30T02:18:19.658Z"
   },
   {
    "duration": 7,
    "start_time": "2025-01-30T02:18:25.278Z"
   },
   {
    "duration": 10,
    "start_time": "2025-01-30T02:18:29.312Z"
   },
   {
    "duration": 16,
    "start_time": "2025-01-30T02:18:33.062Z"
   },
   {
    "duration": 12,
    "start_time": "2025-01-30T02:19:27.104Z"
   },
   {
    "duration": 19,
    "start_time": "2025-01-30T02:19:56.753Z"
   },
   {
    "duration": 15,
    "start_time": "2025-01-30T02:20:31.979Z"
   },
   {
    "duration": 8,
    "start_time": "2025-01-30T02:21:32.589Z"
   },
   {
    "duration": 7,
    "start_time": "2025-01-30T02:21:50.148Z"
   },
   {
    "duration": 750,
    "start_time": "2025-01-30T02:25:02.117Z"
   },
   {
    "duration": 12,
    "start_time": "2025-01-30T02:25:18.844Z"
   },
   {
    "duration": 54,
    "start_time": "2025-01-30T02:25:25.430Z"
   },
   {
    "duration": 54,
    "start_time": "2025-01-30T02:25:42.013Z"
   },
   {
    "duration": 27,
    "start_time": "2025-01-30T02:25:52.781Z"
   },
   {
    "duration": 10,
    "start_time": "2025-01-30T02:26:39.787Z"
   },
   {
    "duration": 11,
    "start_time": "2025-01-30T02:27:12.821Z"
   },
   {
    "duration": 29,
    "start_time": "2025-01-30T02:28:05.690Z"
   },
   {
    "duration": 12,
    "start_time": "2025-01-30T02:29:52.730Z"
   },
   {
    "duration": 360,
    "start_time": "2025-01-30T02:32:16.237Z"
   },
   {
    "duration": 14,
    "start_time": "2025-01-30T02:32:47.145Z"
   },
   {
    "duration": 12,
    "start_time": "2025-01-30T02:33:20.991Z"
   },
   {
    "duration": 11,
    "start_time": "2025-01-30T02:33:51.681Z"
   },
   {
    "duration": 8,
    "start_time": "2025-01-30T02:35:17.104Z"
   },
   {
    "duration": 85,
    "start_time": "2025-01-30T02:38:07.175Z"
   },
   {
    "duration": 51,
    "start_time": "2025-01-30T02:38:43.768Z"
   },
   {
    "duration": 50,
    "start_time": "2025-01-30T02:38:48.078Z"
   },
   {
    "duration": 15,
    "start_time": "2025-01-30T02:39:21.176Z"
   },
   {
    "duration": 22,
    "start_time": "2025-01-30T02:39:57.986Z"
   },
   {
    "duration": 23,
    "start_time": "2025-01-30T02:40:32.018Z"
   },
   {
    "duration": 16,
    "start_time": "2025-01-30T02:40:54.710Z"
   },
   {
    "duration": 15,
    "start_time": "2025-01-30T02:41:12.773Z"
   },
   {
    "duration": 885,
    "start_time": "2025-01-30T02:50:26.514Z"
   },
   {
    "duration": 31,
    "start_time": "2025-01-30T02:50:27.401Z"
   },
   {
    "duration": 12,
    "start_time": "2025-01-30T02:50:27.434Z"
   },
   {
    "duration": 11,
    "start_time": "2025-01-30T02:50:27.447Z"
   },
   {
    "duration": 4,
    "start_time": "2025-01-30T02:50:27.460Z"
   },
   {
    "duration": 5,
    "start_time": "2025-01-30T02:50:27.465Z"
   },
   {
    "duration": 7,
    "start_time": "2025-01-30T02:50:27.471Z"
   },
   {
    "duration": 20,
    "start_time": "2025-01-30T02:50:27.509Z"
   },
   {
    "duration": 8,
    "start_time": "2025-01-30T02:50:27.531Z"
   },
   {
    "duration": 8,
    "start_time": "2025-01-30T02:50:27.541Z"
   },
   {
    "duration": 5,
    "start_time": "2025-01-30T02:50:27.551Z"
   },
   {
    "duration": 5,
    "start_time": "2025-01-30T02:50:27.558Z"
   },
   {
    "duration": 51,
    "start_time": "2025-01-30T02:50:27.565Z"
   },
   {
    "duration": 6,
    "start_time": "2025-01-30T02:50:27.619Z"
   },
   {
    "duration": 7,
    "start_time": "2025-01-30T02:50:27.627Z"
   },
   {
    "duration": 338,
    "start_time": "2025-01-30T02:50:27.636Z"
   },
   {
    "duration": 291,
    "start_time": "2025-01-30T02:50:27.975Z"
   },
   {
    "duration": 17,
    "start_time": "2025-01-30T02:50:28.268Z"
   },
   {
    "duration": 915,
    "start_time": "2025-01-30T02:50:28.286Z"
   },
   {
    "duration": 237,
    "start_time": "2025-01-30T02:50:29.204Z"
   },
   {
    "duration": 1,
    "start_time": "2025-01-30T02:50:29.443Z"
   },
   {
    "duration": 0,
    "start_time": "2025-01-30T02:50:29.445Z"
   },
   {
    "duration": 0,
    "start_time": "2025-01-30T02:50:29.446Z"
   },
   {
    "duration": 0,
    "start_time": "2025-01-30T02:50:29.447Z"
   },
   {
    "duration": 0,
    "start_time": "2025-01-30T02:50:29.449Z"
   },
   {
    "duration": 0,
    "start_time": "2025-01-30T02:50:29.450Z"
   },
   {
    "duration": 20,
    "start_time": "2025-01-30T02:51:12.949Z"
   },
   {
    "duration": 22,
    "start_time": "2025-01-30T02:51:30.559Z"
   },
   {
    "duration": 854,
    "start_time": "2025-01-30T02:51:39.750Z"
   },
   {
    "duration": 25,
    "start_time": "2025-01-30T02:51:40.606Z"
   },
   {
    "duration": 12,
    "start_time": "2025-01-30T02:51:40.633Z"
   },
   {
    "duration": 8,
    "start_time": "2025-01-30T02:51:40.648Z"
   },
   {
    "duration": 4,
    "start_time": "2025-01-30T02:51:40.658Z"
   },
   {
    "duration": 5,
    "start_time": "2025-01-30T02:51:40.664Z"
   },
   {
    "duration": 6,
    "start_time": "2025-01-30T02:51:40.670Z"
   },
   {
    "duration": 17,
    "start_time": "2025-01-30T02:51:40.709Z"
   },
   {
    "duration": 6,
    "start_time": "2025-01-30T02:51:40.727Z"
   },
   {
    "duration": 8,
    "start_time": "2025-01-30T02:51:40.737Z"
   },
   {
    "duration": 6,
    "start_time": "2025-01-30T02:51:40.746Z"
   },
   {
    "duration": 6,
    "start_time": "2025-01-30T02:51:40.754Z"
   },
   {
    "duration": 47,
    "start_time": "2025-01-30T02:51:40.762Z"
   },
   {
    "duration": 6,
    "start_time": "2025-01-30T02:51:40.811Z"
   },
   {
    "duration": 9,
    "start_time": "2025-01-30T02:51:40.819Z"
   },
   {
    "duration": 344,
    "start_time": "2025-01-30T02:51:40.829Z"
   },
   {
    "duration": 288,
    "start_time": "2025-01-30T02:51:41.175Z"
   },
   {
    "duration": 16,
    "start_time": "2025-01-30T02:51:41.465Z"
   },
   {
    "duration": 932,
    "start_time": "2025-01-30T02:51:41.483Z"
   },
   {
    "duration": 18,
    "start_time": "2025-01-30T02:51:42.417Z"
   },
   {
    "duration": 6,
    "start_time": "2025-01-30T02:51:42.437Z"
   },
   {
    "duration": 9,
    "start_time": "2025-01-30T02:51:42.445Z"
   },
   {
    "duration": 10,
    "start_time": "2025-01-30T02:51:42.455Z"
   },
   {
    "duration": 47,
    "start_time": "2025-01-30T02:51:42.466Z"
   },
   {
    "duration": 224,
    "start_time": "2025-01-30T02:51:42.515Z"
   },
   {
    "duration": 0,
    "start_time": "2025-01-30T02:51:42.741Z"
   },
   {
    "duration": 11,
    "start_time": "2025-01-30T02:52:42.980Z"
   },
   {
    "duration": 12,
    "start_time": "2025-01-30T02:53:02.033Z"
   },
   {
    "duration": 874,
    "start_time": "2025-01-30T02:53:13.819Z"
   },
   {
    "duration": 30,
    "start_time": "2025-01-30T02:53:14.695Z"
   },
   {
    "duration": 13,
    "start_time": "2025-01-30T02:53:14.727Z"
   },
   {
    "duration": 9,
    "start_time": "2025-01-30T02:53:14.743Z"
   },
   {
    "duration": 4,
    "start_time": "2025-01-30T02:53:14.754Z"
   },
   {
    "duration": 4,
    "start_time": "2025-01-30T02:53:14.759Z"
   },
   {
    "duration": 9,
    "start_time": "2025-01-30T02:53:14.765Z"
   },
   {
    "duration": 54,
    "start_time": "2025-01-30T02:53:14.775Z"
   },
   {
    "duration": 8,
    "start_time": "2025-01-30T02:53:14.830Z"
   },
   {
    "duration": 9,
    "start_time": "2025-01-30T02:53:14.841Z"
   },
   {
    "duration": 5,
    "start_time": "2025-01-30T02:53:14.853Z"
   },
   {
    "duration": 6,
    "start_time": "2025-01-30T02:53:14.860Z"
   },
   {
    "duration": 48,
    "start_time": "2025-01-30T02:53:14.868Z"
   },
   {
    "duration": 5,
    "start_time": "2025-01-30T02:53:14.918Z"
   },
   {
    "duration": 8,
    "start_time": "2025-01-30T02:53:14.924Z"
   },
   {
    "duration": 348,
    "start_time": "2025-01-30T02:53:14.933Z"
   },
   {
    "duration": 286,
    "start_time": "2025-01-30T02:53:15.283Z"
   },
   {
    "duration": 17,
    "start_time": "2025-01-30T02:53:15.571Z"
   },
   {
    "duration": 906,
    "start_time": "2025-01-30T02:53:15.590Z"
   },
   {
    "duration": 27,
    "start_time": "2025-01-30T02:53:16.498Z"
   },
   {
    "duration": 5,
    "start_time": "2025-01-30T02:53:16.527Z"
   },
   {
    "duration": 8,
    "start_time": "2025-01-30T02:53:16.534Z"
   },
   {
    "duration": 8,
    "start_time": "2025-01-30T02:53:16.544Z"
   },
   {
    "duration": 10,
    "start_time": "2025-01-30T02:53:16.554Z"
   },
   {
    "duration": 11,
    "start_time": "2025-01-30T02:53:16.567Z"
   },
   {
    "duration": 235,
    "start_time": "2025-01-30T02:53:16.610Z"
   },
   {
    "duration": 13,
    "start_time": "2025-01-30T02:54:18.425Z"
   },
   {
    "duration": 889,
    "start_time": "2025-01-30T02:54:26.211Z"
   },
   {
    "duration": 28,
    "start_time": "2025-01-30T02:54:27.102Z"
   },
   {
    "duration": 11,
    "start_time": "2025-01-30T02:54:27.132Z"
   },
   {
    "duration": 9,
    "start_time": "2025-01-30T02:54:27.145Z"
   },
   {
    "duration": 5,
    "start_time": "2025-01-30T02:54:27.156Z"
   },
   {
    "duration": 4,
    "start_time": "2025-01-30T02:54:27.163Z"
   },
   {
    "duration": 6,
    "start_time": "2025-01-30T02:54:27.171Z"
   },
   {
    "duration": 54,
    "start_time": "2025-01-30T02:54:27.179Z"
   },
   {
    "duration": 7,
    "start_time": "2025-01-30T02:54:27.236Z"
   },
   {
    "duration": 9,
    "start_time": "2025-01-30T02:54:27.245Z"
   },
   {
    "duration": 7,
    "start_time": "2025-01-30T02:54:27.256Z"
   },
   {
    "duration": 8,
    "start_time": "2025-01-30T02:54:27.265Z"
   },
   {
    "duration": 41,
    "start_time": "2025-01-30T02:54:27.276Z"
   },
   {
    "duration": 6,
    "start_time": "2025-01-30T02:54:27.321Z"
   },
   {
    "duration": 9,
    "start_time": "2025-01-30T02:54:27.329Z"
   },
   {
    "duration": 346,
    "start_time": "2025-01-30T02:54:27.339Z"
   },
   {
    "duration": 295,
    "start_time": "2025-01-30T02:54:27.687Z"
   },
   {
    "duration": 25,
    "start_time": "2025-01-30T02:54:27.984Z"
   },
   {
    "duration": 892,
    "start_time": "2025-01-30T02:54:28.011Z"
   },
   {
    "duration": 19,
    "start_time": "2025-01-30T02:54:28.909Z"
   },
   {
    "duration": 6,
    "start_time": "2025-01-30T02:54:28.929Z"
   },
   {
    "duration": 8,
    "start_time": "2025-01-30T02:54:28.937Z"
   },
   {
    "duration": 9,
    "start_time": "2025-01-30T02:54:28.946Z"
   },
   {
    "duration": 11,
    "start_time": "2025-01-30T02:54:28.957Z"
   },
   {
    "duration": 45,
    "start_time": "2025-01-30T02:54:28.970Z"
   },
   {
    "duration": 12,
    "start_time": "2025-01-30T02:54:29.018Z"
   },
   {
    "duration": 12,
    "start_time": "2025-01-30T02:54:40.449Z"
   },
   {
    "duration": 161,
    "start_time": "2025-01-30T16:25:21.322Z"
   },
   {
    "duration": 2479,
    "start_time": "2025-01-30T16:25:28.470Z"
   },
   {
    "duration": 35,
    "start_time": "2025-01-30T16:25:30.951Z"
   },
   {
    "duration": 12,
    "start_time": "2025-01-30T16:25:30.988Z"
   },
   {
    "duration": 10,
    "start_time": "2025-01-30T16:25:31.002Z"
   },
   {
    "duration": 4,
    "start_time": "2025-01-30T16:25:31.013Z"
   },
   {
    "duration": 3,
    "start_time": "2025-01-30T16:25:31.019Z"
   },
   {
    "duration": 5,
    "start_time": "2025-01-30T16:25:31.024Z"
   },
   {
    "duration": 14,
    "start_time": "2025-01-30T16:25:31.031Z"
   },
   {
    "duration": 7,
    "start_time": "2025-01-30T16:25:31.046Z"
   },
   {
    "duration": 6,
    "start_time": "2025-01-30T16:25:31.057Z"
   },
   {
    "duration": 5,
    "start_time": "2025-01-30T16:25:31.065Z"
   },
   {
    "duration": 45,
    "start_time": "2025-01-30T16:25:31.071Z"
   },
   {
    "duration": 10,
    "start_time": "2025-01-30T16:25:31.118Z"
   },
   {
    "duration": 5,
    "start_time": "2025-01-30T16:25:31.129Z"
   },
   {
    "duration": 7,
    "start_time": "2025-01-30T16:25:31.136Z"
   },
   {
    "duration": 332,
    "start_time": "2025-01-30T16:25:31.144Z"
   },
   {
    "duration": 233,
    "start_time": "2025-01-30T16:25:31.478Z"
   },
   {
    "duration": 17,
    "start_time": "2025-01-30T16:25:31.713Z"
   },
   {
    "duration": 860,
    "start_time": "2025-01-30T16:25:31.731Z"
   },
   {
    "duration": 88,
    "start_time": "2025-01-30T16:25:32.593Z"
   },
   {
    "duration": 6,
    "start_time": "2025-01-30T16:25:32.683Z"
   },
   {
    "duration": 21,
    "start_time": "2025-01-30T16:25:32.690Z"
   },
   {
    "duration": 9,
    "start_time": "2025-01-30T16:25:32.713Z"
   },
   {
    "duration": 9,
    "start_time": "2025-01-30T16:25:32.723Z"
   },
   {
    "duration": 11,
    "start_time": "2025-01-30T16:25:32.734Z"
   },
   {
    "duration": 10,
    "start_time": "2025-01-30T16:25:32.746Z"
   },
   {
    "duration": 14,
    "start_time": "2025-01-30T16:26:46.169Z"
   },
   {
    "duration": 14,
    "start_time": "2025-01-30T16:27:24.847Z"
   },
   {
    "duration": 12,
    "start_time": "2025-01-30T16:27:41.195Z"
   },
   {
    "duration": 6,
    "start_time": "2025-01-30T16:28:52.239Z"
   },
   {
    "duration": 13,
    "start_time": "2025-01-30T16:30:57.869Z"
   },
   {
    "duration": 779,
    "start_time": "2025-01-30T16:33:42.267Z"
   },
   {
    "duration": 24,
    "start_time": "2025-01-30T16:33:43.048Z"
   },
   {
    "duration": 11,
    "start_time": "2025-01-30T16:33:43.074Z"
   },
   {
    "duration": 8,
    "start_time": "2025-01-30T16:33:43.088Z"
   },
   {
    "duration": 16,
    "start_time": "2025-01-30T16:33:43.097Z"
   },
   {
    "duration": 4,
    "start_time": "2025-01-30T16:33:43.115Z"
   },
   {
    "duration": 6,
    "start_time": "2025-01-30T16:33:43.120Z"
   },
   {
    "duration": 15,
    "start_time": "2025-01-30T16:33:43.127Z"
   },
   {
    "duration": 12,
    "start_time": "2025-01-30T16:33:43.143Z"
   },
   {
    "duration": 7,
    "start_time": "2025-01-30T16:33:43.158Z"
   },
   {
    "duration": 6,
    "start_time": "2025-01-30T16:33:43.167Z"
   },
   {
    "duration": 6,
    "start_time": "2025-01-30T16:33:43.211Z"
   },
   {
    "duration": 11,
    "start_time": "2025-01-30T16:33:43.218Z"
   },
   {
    "duration": 12,
    "start_time": "2025-01-30T16:33:43.230Z"
   },
   {
    "duration": 8,
    "start_time": "2025-01-30T16:33:43.245Z"
   },
   {
    "duration": 329,
    "start_time": "2025-01-30T16:33:43.255Z"
   },
   {
    "duration": 272,
    "start_time": "2025-01-30T16:33:43.586Z"
   },
   {
    "duration": 17,
    "start_time": "2025-01-30T16:33:43.860Z"
   },
   {
    "duration": 888,
    "start_time": "2025-01-30T16:33:43.879Z"
   },
   {
    "duration": 19,
    "start_time": "2025-01-30T16:33:44.769Z"
   },
   {
    "duration": 6,
    "start_time": "2025-01-30T16:33:44.789Z"
   },
   {
    "duration": 22,
    "start_time": "2025-01-30T16:33:44.796Z"
   },
   {
    "duration": 8,
    "start_time": "2025-01-30T16:33:44.822Z"
   },
   {
    "duration": 9,
    "start_time": "2025-01-30T16:33:44.832Z"
   },
   {
    "duration": 13,
    "start_time": "2025-01-30T16:33:44.842Z"
   },
   {
    "duration": 12,
    "start_time": "2025-01-30T16:33:44.856Z"
   },
   {
    "duration": 797,
    "start_time": "2025-01-30T16:35:58.789Z"
   },
   {
    "duration": 28,
    "start_time": "2025-01-30T16:35:59.588Z"
   },
   {
    "duration": 12,
    "start_time": "2025-01-30T16:35:59.617Z"
   },
   {
    "duration": 8,
    "start_time": "2025-01-30T16:35:59.631Z"
   },
   {
    "duration": 3,
    "start_time": "2025-01-30T16:35:59.641Z"
   },
   {
    "duration": 3,
    "start_time": "2025-01-30T16:35:59.647Z"
   },
   {
    "duration": 6,
    "start_time": "2025-01-30T16:35:59.652Z"
   },
   {
    "duration": 14,
    "start_time": "2025-01-30T16:35:59.660Z"
   },
   {
    "duration": 43,
    "start_time": "2025-01-30T16:35:59.675Z"
   },
   {
    "duration": 7,
    "start_time": "2025-01-30T16:35:59.721Z"
   },
   {
    "duration": 5,
    "start_time": "2025-01-30T16:35:59.730Z"
   },
   {
    "duration": 7,
    "start_time": "2025-01-30T16:35:59.737Z"
   },
   {
    "duration": 10,
    "start_time": "2025-01-30T16:35:59.745Z"
   },
   {
    "duration": 4,
    "start_time": "2025-01-30T16:35:59.757Z"
   },
   {
    "duration": 7,
    "start_time": "2025-01-30T16:35:59.763Z"
   },
   {
    "duration": 360,
    "start_time": "2025-01-30T16:35:59.772Z"
   },
   {
    "duration": 269,
    "start_time": "2025-01-30T16:36:00.134Z"
   },
   {
    "duration": 16,
    "start_time": "2025-01-30T16:36:00.411Z"
   },
   {
    "duration": 876,
    "start_time": "2025-01-30T16:36:00.429Z"
   },
   {
    "duration": 19,
    "start_time": "2025-01-30T16:36:01.307Z"
   },
   {
    "duration": 7,
    "start_time": "2025-01-30T16:36:01.328Z"
   },
   {
    "duration": 8,
    "start_time": "2025-01-30T16:36:01.336Z"
   },
   {
    "duration": 8,
    "start_time": "2025-01-30T16:36:01.346Z"
   },
   {
    "duration": 9,
    "start_time": "2025-01-30T16:36:01.356Z"
   },
   {
    "duration": 49,
    "start_time": "2025-01-30T16:36:01.366Z"
   },
   {
    "duration": 12,
    "start_time": "2025-01-30T16:36:01.417Z"
   }
  ],
  "kernelspec": {
   "display_name": "base",
   "language": "python",
   "name": "python3"
  },
  "language_info": {
   "codemirror_mode": {
    "name": "ipython",
    "version": 3
   },
   "file_extension": ".py",
   "mimetype": "text/x-python",
   "name": "python",
   "nbconvert_exporter": "python",
   "pygments_lexer": "ipython3",
   "version": "3.12.7"
  },
  "toc": {
   "base_numbering": 1,
   "nav_menu": {},
   "number_sections": true,
   "sideBar": true,
   "skip_h1_title": true,
   "title_cell": "Table of Contents",
   "title_sidebar": "Contents",
   "toc_cell": false,
   "toc_position": {},
   "toc_section_display": true,
   "toc_window_display": false
  }
 },
 "nbformat": 4,
 "nbformat_minor": 2
}
